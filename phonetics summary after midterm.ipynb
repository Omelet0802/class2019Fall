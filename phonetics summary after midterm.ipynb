{
 "cells": [
  {
   "cell_type": "code",
   "execution_count": 1,
   "metadata": {},
   "outputs": [],
   "source": [
    "import numpy as np\n",
    "import matplotlib.pyplot as plt"
   ]
  },
  {
   "cell_type": "markdown",
   "metadata": {},
   "source": [
    "numpy를 쓰기 귀찮아서 줄여쓸 때 as라고 표현. 만약 as로 안하면 늘 numpy라고 써야함.\n",
    "import matplotlib.pyplot as plt-> matplotlib가 젤 위에 있고 포함되어 있는 것. 그 포함되어 있는 것의 subset을 plt로 받아온다.\n",
    "시험: 쓸 수 있는 다른 방법 중 틀린 것을 골라라. \n",
    "from matplotlib import pyplot as plt로 바꿔 쓸 수도 있음."
   ]
  },
  {
   "cell_type": "markdown",
   "metadata": {},
   "source": [
    "np.empty([2,3], dtype='int')\n",
    "empty라는 함수. 최고 상단에 있는 함수 중에 하나. 입력이 list로 들어감. 행렬.\n",
    "2,3 행렬을 dtype을 int로 해서 만들어라\n",
    "실행 결과를 보면 3개 짜리 list가 두 줄이 있음. 안에 들어가는 숫자는 int인 random한 숫자. 여러 번 실행하면 각각 다른 결과가 나옴"
   ]
  },
  {
   "cell_type": "code",
   "execution_count": 10,
   "metadata": {},
   "outputs": [
    {
     "data": {
      "text/plain": [
       "array([[ 538976288,  543581540, 1852731235],\n",
       "       [1601463141, 1818585203, 1702045804]])"
      ]
     },
     "execution_count": 10,
     "metadata": {},
     "output_type": "execute_result"
    }
   ],
   "source": [
    "np.empty([2,3], dtype='int')"
   ]
  },
  {
   "cell_type": "markdown",
   "metadata": {},
   "source": [
    "np.zeros([2,3])\n",
    "중요한 함수임. 2,3의 matrix를 만들어내는데 0으로 다 채워진 행렬을 만듦\n"
   ]
  },
  {
   "cell_type": "code",
   "execution_count": 11,
   "metadata": {},
   "outputs": [
    {
     "data": {
      "text/plain": [
       "array([[0., 0., 0.],\n",
       "       [0., 0., 0.]])"
      ]
     },
     "execution_count": 11,
     "metadata": {},
     "output_type": "execute_result"
    }
   ],
   "source": [
    "np.zeros([2,3])"
   ]
  },
  {
   "cell_type": "markdown",
   "metadata": {},
   "source": [
    "[0,0,0]\n",
    "0이 3개 들어간 vector임. 이를 list로 2,3를 만들고 싶을 때는\n",
    "[[0,0,0], [0,0,0]]\n",
    "이 리스트는 계산이 불가능. 계산 가능한 array로 만드는 방법. np.array 함수 사용\n",
    "np.array([[0.0.0], [0,0,0]])\n",
    "\n",
    "zeros함수와 비슷. zeros는 안에 리스트 형태로 몇행몇열인지 넣고 그것을 array로 만들어주고 array함수는 긴 리스트를 집어넣어서 그것을 array 형태로 변형시키는 것임.\n",
    "\n",
    "np.ones([,])\n",
    "ones 함수는 zeros함수와 동일한데 다만 안의 것을 0이 아닌 1로 채워진 array를 만들어줌.\n",
    "그런데 밑에 1을 보면 .이 찍혀있는데 ones 는 zeros와 달리 dtype을 int가 아닌 float으로 하더라.\n",
    "그래서 dtype을 따로 설정해줄 수 있음.\n",
    "cf) float64하면 정교한데 단점은 memory를 많이 차지한다는 것임.\n",
    "\n",
    "arange함수. \n",
    "for loop쓸 때 range와 비슷\n",
    "np.arange함수는 index개수에 맞는 array를 만들어줌.\n",
    "range를 정해줄 수도 있음.\n",
    "np.arange(0,10,2, dtype='float64') ->0부터 10까지(0~9). 뒤에 2를 쓰면 2만큼 증가분을 두는 것. dtype설정.\n",
    "array([0., 2., 4., 6., 8.]) 가 결과로 나오는 것은 0~9까지에서 2씩 증가분\n",
    "\n",
    "linspace(linearspace의 줄임말)\n",
    "np.linspace(0,10,6, dtype=float)  0~10 arange와는 달리 0, 10 모두 포함. 그런데 그것을 총 6개로 나누어준다. 숫자의 개수가 6개가 되도록.\n",
    "linspace라고 부르는 이유는 각각의 숫자간의 간격이 똑같기 때문.\n"
   ]
  },
  {
   "cell_type": "code",
   "execution_count": 13,
   "metadata": {},
   "outputs": [
    {
     "data": {
      "text/plain": [
       "array([[0, 0, 0],\n",
       "       [0, 0, 0]])"
      ]
     },
     "execution_count": 13,
     "metadata": {},
     "output_type": "execute_result"
    }
   ],
   "source": [
    "np.array([[0,0,0], [0,0,0]])"
   ]
  },
  {
   "cell_type": "code",
   "execution_count": 14,
   "metadata": {},
   "outputs": [
    {
     "data": {
      "text/plain": [
       "array([[1., 1., 1.],\n",
       "       [1., 1., 1.]])"
      ]
     },
     "execution_count": 14,
     "metadata": {},
     "output_type": "execute_result"
    }
   ],
   "source": [
    "np.ones([2,3])"
   ]
  },
  {
   "cell_type": "code",
   "execution_count": 15,
   "metadata": {},
   "outputs": [
    {
     "data": {
      "text/plain": [
       "array([[1, 1, 1],\n",
       "       [1, 1, 1]])"
      ]
     },
     "execution_count": 15,
     "metadata": {},
     "output_type": "execute_result"
    }
   ],
   "source": [
    "np.ones([2,3], dtype='int')"
   ]
  },
  {
   "cell_type": "code",
   "execution_count": 16,
   "metadata": {},
   "outputs": [
    {
     "data": {
      "text/plain": [
       "array([[1., 1., 1.],\n",
       "       [1., 1., 1.]])"
      ]
     },
     "execution_count": 16,
     "metadata": {},
     "output_type": "execute_result"
    }
   ],
   "source": [
    "np.ones([2,3], dtype='float64')"
   ]
  },
  {
   "cell_type": "code",
   "execution_count": 17,
   "metadata": {},
   "outputs": [
    {
     "data": {
      "text/plain": [
       "array([0, 1, 2, 3, 4])"
      ]
     },
     "execution_count": 17,
     "metadata": {},
     "output_type": "execute_result"
    }
   ],
   "source": [
    "np.arange(5)"
   ]
  },
  {
   "cell_type": "code",
   "execution_count": 18,
   "metadata": {},
   "outputs": [
    {
     "data": {
      "text/plain": [
       "array([0., 2., 4., 6., 8.])"
      ]
     },
     "execution_count": 18,
     "metadata": {},
     "output_type": "execute_result"
    }
   ],
   "source": [
    "np.arange(0,10,2, dtype='float64')"
   ]
  },
  {
   "cell_type": "code",
   "execution_count": 20,
   "metadata": {},
   "outputs": [
    {
     "data": {
      "text/plain": [
       "array([ 0,  2,  4,  6,  8, 10])"
      ]
     },
     "execution_count": 20,
     "metadata": {},
     "output_type": "execute_result"
    }
   ],
   "source": [
    "np.linspace(0,10,6, dtype='int')"
   ]
  },
  {
   "cell_type": "markdown",
   "metadata": {},
   "source": [
    "list를 array로 바꿀 때 array 함수. 3,2  행렬 만들고 싶으면 저런 식으로 쓰면 됨.\n",
    "X = np.array([[1,2],[4,5],[8,9]]) \n",
    "몇 차원일까? 직사각형으로 된 matrix는 2차원. 직육면체 같은 것은 3차원.\n",
    "3차원도 표기가 가능함. [] 개수가 2개인 것을 보면 2차원. 3차원은 []가 3 개가 나옴. []의 개수는 차원임\n",
    "ex)2차원 짜리를 두개를 사용해서 만들면 3차원이 됨.\n",
    "\n",
    "차원을 알려주는 함수\n",
    ".ndim\n",
    ".shape -> 더 구체적. 2x3x2의 차원이 있다.(3,2)직사각형이 있고 이 것이 2개가 들어가 있더라. 즉 첫 번째 숫자가 행렬 몇 개 들어갔는지, 두 세번쨰 숫자가 몇X몇 행렬인지\n",
    "\n",
    "dtype(type 알려주는 함수)\n",
    "astype(type 바꿔주는 함수)\n",
    "np.zeros_like(X)(형태를 유지한 채 모든 숫자를 0으로 바꿔주라는 함수)  그런데 이 함수를 쓰나 X*0을 하나 똑같음."
   ]
  },
  {
   "cell_type": "code",
   "execution_count": 21,
   "metadata": {},
   "outputs": [
    {
     "data": {
      "text/plain": [
       "array([[1, 2],\n",
       "       [4, 5],\n",
       "       [8, 9]])"
      ]
     },
     "execution_count": 21,
     "metadata": {},
     "output_type": "execute_result"
    }
   ],
   "source": [
    "X = np.array([[1,2],[4,5],[8,9]])\n",
    "X\n"
   ]
  },
  {
   "cell_type": "code",
   "execution_count": 22,
   "metadata": {},
   "outputs": [
    {
     "data": {
      "text/plain": [
       "array([[[1, 2],\n",
       "        [4, 5],\n",
       "        [8, 9]],\n",
       "\n",
       "       [[1, 2],\n",
       "        [4, 5],\n",
       "        [8, 9]]])"
      ]
     },
     "execution_count": 22,
     "metadata": {},
     "output_type": "execute_result"
    }
   ],
   "source": [
    "X = np.array([[[1,2],[4,5],[8,9]],[[1,2],[4,5],[8,9]]])\n",
    "X"
   ]
  },
  {
   "cell_type": "code",
   "execution_count": 23,
   "metadata": {},
   "outputs": [
    {
     "data": {
      "text/plain": [
       "3"
      ]
     },
     "execution_count": 23,
     "metadata": {},
     "output_type": "execute_result"
    }
   ],
   "source": [
    "X.ndim"
   ]
  },
  {
   "cell_type": "code",
   "execution_count": 24,
   "metadata": {},
   "outputs": [
    {
     "data": {
      "text/plain": [
       "(2, 3, 2)"
      ]
     },
     "execution_count": 24,
     "metadata": {},
     "output_type": "execute_result"
    }
   ],
   "source": [
    "X.shape"
   ]
  },
  {
   "cell_type": "code",
   "execution_count": 26,
   "metadata": {},
   "outputs": [
    {
     "data": {
      "text/plain": [
       "dtype('int32')"
      ]
     },
     "execution_count": 26,
     "metadata": {},
     "output_type": "execute_result"
    }
   ],
   "source": [
    "X.dtype"
   ]
  },
  {
   "cell_type": "code",
   "execution_count": 27,
   "metadata": {},
   "outputs": [
    {
     "data": {
      "text/plain": [
       "array([[[1., 2.],\n",
       "        [4., 5.],\n",
       "        [8., 9.]],\n",
       "\n",
       "       [[1., 2.],\n",
       "        [4., 5.],\n",
       "        [8., 9.]]])"
      ]
     },
     "execution_count": 27,
     "metadata": {},
     "output_type": "execute_result"
    }
   ],
   "source": [
    "X.astype(np.float64)"
   ]
  },
  {
   "cell_type": "code",
   "execution_count": 29,
   "metadata": {},
   "outputs": [
    {
     "data": {
      "text/plain": [
       "array([[[0, 0],\n",
       "        [0, 0],\n",
       "        [0, 0]],\n",
       "\n",
       "       [[0, 0],\n",
       "        [0, 0],\n",
       "        [0, 0]]])"
      ]
     },
     "execution_count": 29,
     "metadata": {},
     "output_type": "execute_result"
    }
   ],
   "source": [
    "np.zeros_like(X)"
   ]
  },
  {
   "cell_type": "code",
   "execution_count": 30,
   "metadata": {},
   "outputs": [
    {
     "data": {
      "text/plain": [
       "array([[[0, 0],\n",
       "        [0, 0],\n",
       "        [0, 0]],\n",
       "\n",
       "       [[0, 0],\n",
       "        [0, 0],\n",
       "        [0, 0]]])"
      ]
     },
     "execution_count": 30,
     "metadata": {},
     "output_type": "execute_result"
    }
   ],
   "source": [
    "X*0"
   ]
  },
  {
   "cell_type": "markdown",
   "metadata": {},
   "source": [
    "data = np.random.normal(0,1, 100)\n",
    "np 안의 random이라는 함수 안의 normal이라는 함수.\n",
    "그런데 만약 from numpy import random이라고 했으면 random.normal로 하면 됨.\n",
    "normal이라는 함수는 normal distribution을 만들어 주는 것.(정규분포)\n",
    "종 거꾸로 된 shape의 data를 만들어줌. 이를 위해 평균과 얼마나 뚱뚱한 지. 100은 data의 갯수.\n",
    "여기서 나온 데이터는 1차원이고, shape을 했을 때(100,)이 나오는 것은 총 100개의 데이터임을 알 수 있음\n",
    "\n",
    "plt -> matplotlib안의 pyplot 안의 plt.\n",
    "plt.hist(data, bins=10)    histogram  bin바구니를 총 몇 개를 할 것인가. x축이 bin. x축의 range에 들어가는 값들 몇 갠지가 y축 무조건 소수 말고 정수값이 나와야 함. 이 값들을 다 합하면 몇 개일까?100개  그런 것도 시험문제 나올 수\n"
   ]
  },
  {
   "cell_type": "code",
   "execution_count": 34,
   "metadata": {},
   "outputs": [
    {
     "name": "stdout",
     "output_type": "stream",
     "text": [
      "[-0.14625911  0.79018176  2.03640822  0.24376513  1.39377586  0.05064647\n",
      "  0.1806397   1.25158133 -0.95499568  1.84678202  0.07658077 -1.78944876\n",
      "  0.69215857 -0.14803133 -1.36314615 -0.94888371 -0.26388787 -0.33850161\n",
      " -0.67949114  1.89155883 -2.1408516  -1.4085316   1.16109372  0.29992035\n",
      " -1.21529967 -0.06204402  1.38155732 -1.43771732  0.15506561 -1.46220567\n",
      " -1.68010659 -1.40422128 -0.55311378 -1.9774021  -1.48614986  0.110564\n",
      "  1.07521964 -1.22841626  1.05157988 -0.2628311   1.62309829 -0.48179381\n",
      "  0.05608006 -0.21338792  0.38575903 -0.21558841 -1.50718955  0.21483383\n",
      "  0.18986676 -0.76203517 -0.35640717 -0.87826462 -0.61156173 -0.66219375\n",
      "  1.05731227 -0.07260126  2.60039366 -1.3071705  -2.12985379 -0.80124946\n",
      " -0.46180538  0.57646049 -1.58356824 -0.98341119 -0.07455416 -0.98158634\n",
      "  0.90051126  1.875861    0.39346567 -1.37276336  1.59790825  0.45483924\n",
      "  0.31540368 -0.59842814  0.87341174 -0.76062821  0.49223513 -1.40670228\n",
      "  0.05203071 -0.07183126 -1.32360533 -0.43665957 -0.91439019 -1.87129982\n",
      "  1.73172109  1.75924361  1.65828625  2.52143235  0.83733183  0.40138565\n",
      "  2.08848752  1.00547958  0.57984248 -0.29894253  1.30958957  0.63780786\n",
      "  1.14383296  0.82763037 -0.19320017 -0.09963616]\n"
     ]
    },
    {
     "data": {
      "text/plain": [
       "(array([ 6., 14.,  9., 13., 19., 12., 11.,  6.,  8.,  2.]),\n",
       " array([-2.1408516 , -1.66672707, -1.19260255, -0.71847802, -0.2443535 ,\n",
       "         0.22977103,  0.70389556,  1.17802008,  1.65214461,  2.12626913,\n",
       "         2.60039366]),\n",
       " <a list of 10 Patch objects>)"
      ]
     },
     "execution_count": 34,
     "metadata": {},
     "output_type": "execute_result"
    },
    {
     "data": {
      "image/png": "[encoded data removed]",
      "text/plain": [
       "<Figure size 432x288 with 1 Axes>"
      ]
     },
     "metadata": {
      "needs_background": "light"
     },
     "output_type": "display_data"
    }
   ],
   "source": [
    "data = np.random.normal(0,1, 100)\n",
    "print(data)\n",
    "plt.hist(data, bins=10)"
   ]
  },
  {
   "cell_type": "code",
   "execution_count": 32,
   "metadata": {},
   "outputs": [
    {
     "data": {
      "text/plain": [
       "1"
      ]
     },
     "execution_count": 32,
     "metadata": {},
     "output_type": "execute_result"
    }
   ],
   "source": [
    "data.ndim"
   ]
  },
  {
   "cell_type": "code",
   "execution_count": 33,
   "metadata": {},
   "outputs": [
    {
     "data": {
      "text/plain": [
       "(100,)"
      ]
     },
     "execution_count": 33,
     "metadata": {},
     "output_type": "execute_result"
    }
   ],
   "source": [
    "data.shape"
   ]
  },
  {
   "cell_type": "markdown",
   "metadata": {},
   "source": [
    "X = np.ones([2, 3, 4])\n",
    "3차원의 행렬값.\n",
    "\n",
    "Y = X.reshape(-1, 3, 2)\n",
    "reshape함수는 shape을 바꿈. 몇by몇by몇이 shape. \n",
    "2,3,4를 1,7,어쩌구로 바꾸는 것은 말이 안됨. 2,3,4의 element의 갯수는 2X3X4=24개. 그렇다면 shape을 바꾸기 위해선 그것의 elment가 24개여야만 함. 그것이 다르면 error이 남. ex)1,6,4 / 3,2,4 이런식으로 바꿀 수 있음.\n",
    "그래서 Y = X.reshape(-1, 3, 2) 이 경우에는 -1을 4로 써도 되고 4인지 뭔지 모르겠다 하면 -1을 써도 됨 귀찮으면.\n",
    "\n",
    "np.allclose(X.reshape(-1, 3, 2), Y) 2,3,4의 X를 reshape해서 4,3,2로 만들면 그것과 Y과 완전히 똑같으냐 하는 것임. 두 개의 array를 비교해서 똑같은지를 묻는.\n",
    "\n"
   ]
  },
  {
   "cell_type": "code",
   "execution_count": 35,
   "metadata": {},
   "outputs": [
    {
     "data": {
      "text/plain": [
       "array([[[1., 1., 1., 1.],\n",
       "        [1., 1., 1., 1.],\n",
       "        [1., 1., 1., 1.]],\n",
       "\n",
       "       [[1., 1., 1., 1.],\n",
       "        [1., 1., 1., 1.],\n",
       "        [1., 1., 1., 1.]]])"
      ]
     },
     "execution_count": 35,
     "metadata": {},
     "output_type": "execute_result"
    }
   ],
   "source": [
    "X = np.ones([2, 3, 4])\n",
    "X"
   ]
  },
  {
   "cell_type": "code",
   "execution_count": 36,
   "metadata": {},
   "outputs": [
    {
     "data": {
      "text/plain": [
       "array([[[1., 1.],\n",
       "        [1., 1.],\n",
       "        [1., 1.]],\n",
       "\n",
       "       [[1., 1.],\n",
       "        [1., 1.],\n",
       "        [1., 1.]],\n",
       "\n",
       "       [[1., 1.],\n",
       "        [1., 1.],\n",
       "        [1., 1.]],\n",
       "\n",
       "       [[1., 1.],\n",
       "        [1., 1.],\n",
       "        [1., 1.]]])"
      ]
     },
     "execution_count": 36,
     "metadata": {},
     "output_type": "execute_result"
    }
   ],
   "source": [
    "Y = X.reshape(-1, 3, 2)\n",
    "Y"
   ]
  },
  {
   "cell_type": "code",
   "execution_count": 37,
   "metadata": {},
   "outputs": [
    {
     "data": {
      "text/plain": [
       "True"
      ]
     },
     "execution_count": 37,
     "metadata": {},
     "output_type": "execute_result"
    }
   ],
   "source": [
    "np.allclose(X.reshape(-1,3,2),Y)"
   ]
  },
  {
   "cell_type": "markdown",
   "metadata": {},
   "source": [
    "random 속의 randint\n",
    "a = np.random.randint(0, 10, [2, 3])\n",
    "->0부터 10사이의 숫자를 pick up 하고 2,3의 matrix를 만들어라. \n",
    "b = np.random.random([2, 3])\n",
    "말그대로 random을 만드는 건데 2,3로 만듬.\n",
    "np.savez(\"test\", a, b)\n",
    "np package 속의 함수인데 실제 file로 만들어주는 함수임. a라는 b라는 variable을 file로 만들어주는 것.\n",
    "f탐색기 들어가서 보면 npz file 생성 된 것 볼 수 있음."
   ]
  },
  {
   "cell_type": "code",
   "execution_count": 44,
   "metadata": {},
   "outputs": [],
   "source": [
    "a = np.random.randint(0, 10, [2, 3])\n",
    "b = np.random.random([2, 3])\n",
    "np.savez(\"test\", a, b)"
   ]
  },
  {
   "cell_type": "code",
   "execution_count": 48,
   "metadata": {},
   "outputs": [
    {
     "data": {
      "text/plain": [
       "array([[7, 5, 1],\n",
       "       [6, 9, 4]])"
      ]
     },
     "execution_count": 48,
     "metadata": {},
     "output_type": "execute_result"
    }
   ],
   "source": [
    "a"
   ]
  },
  {
   "cell_type": "code",
   "execution_count": 49,
   "metadata": {},
   "outputs": [
    {
     "data": {
      "text/plain": [
       "array([[0.78393234, 0.49033937, 0.56846429],\n",
       "       [0.47881012, 0.00964813, 0.50176119]])"
      ]
     },
     "execution_count": 49,
     "metadata": {},
     "output_type": "execute_result"
    }
   ],
   "source": [
    "b"
   ]
  },
  {
   "cell_type": "code",
   "execution_count": 45,
   "metadata": {},
   "outputs": [
    {
     "name": "stderr",
     "output_type": "stream",
     "text": [
      "'ls'은(는) 내부 또는 외부 명령, 실행할 수 있는 프로그램, 또는\n",
      "배치 파일이 아닙니다.\n"
     ]
    }
   ],
   "source": [
    "!ls -al test*"
   ]
  },
  {
   "cell_type": "markdown",
   "metadata": {},
   "source": [
    "del a,b,c\n",
    "variable 없애고 싶을 때.\n",
    "\n",
    "npzfiles = np.load(\"test.npz\")\n",
    "npzfiles.files \n",
    "->저장한 file 불러올 때.\n",
    "그리고 저 이름들을 npzfiles['arr_0']에 넣으면 각각 a,b가 나옴.\n",
    "\n",
    "csv는 coma separated values. 엑셀에서도 불러지는 format. 제일 많이 쓰게 될 format.\n",
    "data = np.loadtxt(\"regression.csv\", delimiter=\",\", skiprows=1, dtype={'names':(\"X\", \"Y\"), 'formats':('f', 'f')})\n",
    "data\n",
    "loadtxt해서 불러오고 delimiter 분리 skiprows=1 첫 번째 데이터 안 쓸거다(X, Y라고 적힌 것 그냥 제목이니까). dtype에 첫 번째 것은 X, 두번 쨰 것은 Y format은 둘 다 float으로 하겠다. \n",
    "역으로 np.savetxt(\"regression_saved.csv\", data, delimiter=\",\")는 저장할 때 씀."
   ]
  },
  {
   "cell_type": "code",
   "execution_count": 46,
   "metadata": {},
   "outputs": [
    {
     "data": {
      "text/plain": [
       "['arr_0', 'arr_1']"
      ]
     },
     "execution_count": 46,
     "metadata": {},
     "output_type": "execute_result"
    }
   ],
   "source": [
    "npzfiles = np.load(\"test.npz\")\n",
    "npzfiles.files"
   ]
  },
  {
   "cell_type": "code",
   "execution_count": 52,
   "metadata": {},
   "outputs": [
    {
     "data": {
      "text/plain": [
       "array([[7, 5, 1],\n",
       "       [6, 9, 4]])"
      ]
     },
     "execution_count": 52,
     "metadata": {},
     "output_type": "execute_result"
    }
   ],
   "source": [
    "npzfiles['arr_0']"
   ]
  },
  {
   "cell_type": "code",
   "execution_count": 53,
   "metadata": {},
   "outputs": [
    {
     "data": {
      "text/plain": [
       "array([( 3.3  , 1.7  ), ( 4.4  , 2.76 ), ( 5.5  , 2.09 ), ( 6.71 , 3.19 ),\n",
       "       ( 6.93 , 1.694), ( 4.168, 1.573), ( 9.779, 3.366), ( 6.182, 2.596),\n",
       "       ( 7.59 , 2.53 ), ( 2.167, 1.221), ( 7.042, 2.827), (10.791, 3.465),\n",
       "       ( 5.313, 1.65 ), ( 7.997, 2.904), ( 5.654, 2.42 ), ( 9.27 , 2.94 ),\n",
       "       ( 3.1  , 1.3  )], dtype=[('X', '<f4'), ('Y', '<f4')])"
      ]
     },
     "execution_count": 53,
     "metadata": {},
     "output_type": "execute_result"
    }
   ],
   "source": [
    "data = np.loadtxt(\"regression.csv\", delimiter=\",\", skiprows=1, dtype={'names':(\"X\", \"Y\"), 'formats':('f', 'f')})\n",
    "data"
   ]
  },
  {
   "cell_type": "code",
   "execution_count": 54,
   "metadata": {},
   "outputs": [],
   "source": [
    "np.savetxt(\"regression_saved.csv\", data, delimiter=\",\")"
   ]
  },
  {
   "cell_type": "markdown",
   "metadata": {},
   "source": [
    "type 보면 numpy가 만들어 낸 ndimensional array다. len은 5. 젤 앞에 숫자가 len으로 받아지나 봄. 차원은 3차원 나오고\n",
    "size는 총 element의 개수 5X2X3=30 dtype은 float64.\n"
   ]
  },
  {
   "cell_type": "code",
   "execution_count": 55,
   "metadata": {},
   "outputs": [],
   "source": [
    "arr = np.random.random([5,2,3])"
   ]
  },
  {
   "cell_type": "code",
   "execution_count": 56,
   "metadata": {},
   "outputs": [
    {
     "name": "stdout",
     "output_type": "stream",
     "text": [
      "<class 'numpy.ndarray'>\n",
      "5\n",
      "(5, 2, 3)\n",
      "3\n",
      "30\n",
      "float64\n"
     ]
    }
   ],
   "source": [
    "print(type(arr))\n",
    "print(len(arr))\n",
    "print(arr.shape)\n",
    "print(arr.ndim)\n",
    "print(arr.size)\n",
    "print(arr.dtype)"
   ]
  },
  {
   "cell_type": "markdown",
   "metadata": {},
   "source": [
    "arange에 하나만 적으면 index, 두 개 적으면 1~5사이. 세 개 적으면 9~5까지 역순으로\n",
    "이제 a,b가 계산이 가능한 array가 되었음. \n",
    "a = np.arange(1, 10).reshape(3,3) ->1~9까지의 arange를 reshape를 하는데 3,3 2차원으로.\n",
    "b = np.arange(9, 0, -1).reshape(3,3)->9~1까지 arange를 reshape를 하는데 3,3 2차원으로.\n",
    "a==b 각각의 정보다 같은지 틀린지\n",
    "a>b \n",
    "같으냐 틀리냐를 정의할 때 각각의 dimension과 shape이 완전히 똑같아야함. 다르면 error message나옴.\n"
   ]
  },
  {
   "cell_type": "code",
   "execution_count": 62,
   "metadata": {},
   "outputs": [],
   "source": [
    "a = np.arange(1, 5)\n",
    "b = np.arange(9, 5,-1)"
   ]
  },
  {
   "cell_type": "code",
   "execution_count": 63,
   "metadata": {},
   "outputs": [
    {
     "data": {
      "text/plain": [
       "array([1, 2, 3, 4])"
      ]
     },
     "execution_count": 63,
     "metadata": {},
     "output_type": "execute_result"
    }
   ],
   "source": [
    "a"
   ]
  },
  {
   "cell_type": "code",
   "execution_count": 64,
   "metadata": {},
   "outputs": [
    {
     "data": {
      "text/plain": [
       "array([9, 8, 7, 6])"
      ]
     },
     "execution_count": 64,
     "metadata": {},
     "output_type": "execute_result"
    }
   ],
   "source": [
    "b"
   ]
  },
  {
   "cell_type": "code",
   "execution_count": 65,
   "metadata": {},
   "outputs": [
    {
     "name": "stdout",
     "output_type": "stream",
     "text": [
      "[-8 -6 -4 -2]\n",
      "[ 9 16 21 24]\n"
     ]
    }
   ],
   "source": [
    "print(a-b)\n",
    "print(a*b)"
   ]
  },
  {
   "cell_type": "code",
   "execution_count": 66,
   "metadata": {},
   "outputs": [
    {
     "name": "stdout",
     "output_type": "stream",
     "text": [
      "[[1 2 3]\n",
      " [4 5 6]\n",
      " [7 8 9]]\n",
      "[[9 8 7]\n",
      " [6 5 4]\n",
      " [3 2 1]]\n"
     ]
    }
   ],
   "source": [
    "a = np.arange(1, 10).reshape(3,3)\n",
    "b = np.arange(9, 0, -1).reshape(3,3)\n",
    "print(a)\n",
    "print(b)"
   ]
  },
  {
   "cell_type": "code",
   "execution_count": 67,
   "metadata": {},
   "outputs": [
    {
     "data": {
      "text/plain": [
       "array([[False, False, False],\n",
       "       [False,  True, False],\n",
       "       [False, False, False]])"
      ]
     },
     "execution_count": 67,
     "metadata": {},
     "output_type": "execute_result"
    }
   ],
   "source": [
    "a==b"
   ]
  },
  {
   "cell_type": "markdown",
   "metadata": {},
   "source": [
    "a.sum(), np.sum(a)\n",
    "a.sum 다 더하는 것임 쓰는 방식이 위의 두 가지임. \n",
    "a라는 것이 어차피 numpy로 만들어진 산물이므로 a.sum()이렇게 써도 된다는 것임. numpy를 통해 만들어졌기에 가능한 것임.\n",
    "np.sum()은 np안의 sum을 쓰는 것. \n",
    "\n",
    "a.sum(axis=0), np.sum(a, axis=0)\n",
    "axis라는 것은 몇 번째 차원에서 우리가 sum을 할 것인가. 3x3 2차원의 a에서 첫 번째 차원은 행. 두 번째 차원은 열. 첫 번째 차원의 관점에서 sum을 해라는 의미.axis=0이 첫 번째 차원. axis=1이 두 번째 차원."
   ]
  },
  {
   "cell_type": "code",
   "execution_count": 71,
   "metadata": {},
   "outputs": [
    {
     "data": {
      "text/plain": [
       "array([[1, 2, 3],\n",
       "       [4, 5, 6],\n",
       "       [7, 8, 9]])"
      ]
     },
     "execution_count": 71,
     "metadata": {},
     "output_type": "execute_result"
    }
   ],
   "source": [
    "a"
   ]
  },
  {
   "cell_type": "code",
   "execution_count": 69,
   "metadata": {},
   "outputs": [
    {
     "data": {
      "text/plain": [
       "45"
      ]
     },
     "execution_count": 69,
     "metadata": {},
     "output_type": "execute_result"
    }
   ],
   "source": [
    "a.sum()"
   ]
  },
  {
   "cell_type": "code",
   "execution_count": 72,
   "metadata": {},
   "outputs": [
    {
     "data": {
      "text/plain": [
       "45"
      ]
     },
     "execution_count": 72,
     "metadata": {},
     "output_type": "execute_result"
    }
   ],
   "source": [
    "np.sum(a)"
   ]
  },
  {
   "cell_type": "code",
   "execution_count": 73,
   "metadata": {},
   "outputs": [
    {
     "data": {
      "text/plain": [
       "(array([12, 15, 18]), array([12, 15, 18]))"
      ]
     },
     "execution_count": 73,
     "metadata": {},
     "output_type": "execute_result"
    }
   ],
   "source": [
    "a.sum(axis=0), np.sum(a, axis=0)"
   ]
  },
  {
   "cell_type": "markdown",
   "metadata": {},
   "source": [
    "a = np.arange(1, 25).reshape(4, 6)\n",
    "reshape이 broadcasting임. \n",
    "쓰는 방법을 np.reshape를 해도 되고 arange로 만들어서 거기에 .reshape해도 되고 저렇게 한 번에 해도 되고.\n",
    "\n",
    "a,b 차원ㅇ 다른데 덧셈 되었음."
   ]
  },
  {
   "cell_type": "code",
   "execution_count": 74,
   "metadata": {},
   "outputs": [
    {
     "data": {
      "text/plain": [
       "array([[ 1,  2,  3,  4,  5,  6],\n",
       "       [ 7,  8,  9, 10, 11, 12],\n",
       "       [13, 14, 15, 16, 17, 18],\n",
       "       [19, 20, 21, 22, 23, 24]])"
      ]
     },
     "execution_count": 74,
     "metadata": {},
     "output_type": "execute_result"
    }
   ],
   "source": [
    "a = np.arange(1, 25).reshape(4, 6)\n",
    "a"
   ]
  },
  {
   "cell_type": "code",
   "execution_count": 75,
   "metadata": {},
   "outputs": [
    {
     "data": {
      "text/plain": [
       "array([[101, 102, 103, 104, 105, 106],\n",
       "       [107, 108, 109, 110, 111, 112],\n",
       "       [113, 114, 115, 116, 117, 118],\n",
       "       [119, 120, 121, 122, 123, 124]])"
      ]
     },
     "execution_count": 75,
     "metadata": {},
     "output_type": "execute_result"
    }
   ],
   "source": [
    "a+100"
   ]
  },
  {
   "cell_type": "code",
   "execution_count": 77,
   "metadata": {},
   "outputs": [
    {
     "data": {
      "text/plain": [
       "array([0, 1, 2, 3, 4, 5])"
      ]
     },
     "execution_count": 77,
     "metadata": {},
     "output_type": "execute_result"
    }
   ],
   "source": [
    "b=np.arange(6)\n",
    "b"
   ]
  },
  {
   "cell_type": "code",
   "execution_count": 78,
   "metadata": {},
   "outputs": [
    {
     "data": {
      "text/plain": [
       "array([[ 1,  3,  5,  7,  9, 11],\n",
       "       [ 7,  9, 11, 13, 15, 17],\n",
       "       [13, 15, 17, 19, 21, 23],\n",
       "       [19, 21, 23, 25, 27, 29]])"
      ]
     },
     "execution_count": 78,
     "metadata": {},
     "output_type": "execute_result"
    }
   ],
   "source": [
    "a+b"
   ]
  },
  {
   "cell_type": "code",
   "execution_count": null,
   "metadata": {},
   "outputs": [],
   "source": []
  }
 ],
 "metadata": {
  "kernelspec": {
   "display_name": "Python 3",
   "language": "python",
   "name": "python3"
  },
  "language_info": {
   "codemirror_mode": {
    "name": "ipython",
    "version": 3
   },
   "file_extension": ".py",
   "mimetype": "text/x-python",
   "name": "python",
   "nbconvert_exporter": "python",
   "pygments_lexer": "ipython3",
   "version": "3.7.3"
  }
 },
 "nbformat": 4,
 "nbformat_minor": 2
}
