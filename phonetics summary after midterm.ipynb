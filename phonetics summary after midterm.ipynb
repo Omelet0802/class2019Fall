{
 "cells": [
  {
   "cell_type": "code",
   "execution_count": 1,
   "metadata": {},
   "outputs": [],
   "source": [
    "import numpy as np\n",
    "import matplotlib.pyplot as plt"
   ]
  },
  {
   "cell_type": "markdown",
   "metadata": {},
   "source": [
    "numpy를 쓰기 귀찮아서 줄여쓸 때 as라고 표현. 만약 as로 안하면 늘 numpy라고 써야함.\n",
    "import matplotlib.pyplot as plt-> matplotlib가 젤 위에 있고 포함되어 있는 것. 그 포함되어 있는 것의 subset을 plt로 받아온다.\n",
    "시험: 쓸 수 있는 다른 방법 중 틀린 것을 골라라. \n",
    "from matplotlib import pyplot as plt로 바꿔 쓸 수도 있음."
   ]
  },
  {
   "cell_type": "markdown",
   "metadata": {},
   "source": [
    "np.empty([2,3], dtype='int')\n",
    "empty라는 함수. 최고 상단에 있는 함수 중에 하나. 입력이 list로 들어감. 행렬.\n",
    "2,3 행렬을 dtype을 int로 해서 만들어라\n",
    "실행 결과를 보면 3개 짜리 list가 두 줄이 있음. 안에 들어가는 숫자는 int인 random한 숫자. 여러 번 실행하면 각각 다른 결과가 나옴"
   ]
  },
  {
   "cell_type": "code",
   "execution_count": 10,
   "metadata": {},
   "outputs": [
    {
     "data": {
      "text/plain": [
       "array([[ 538976288,  543581540, 1852731235],\n",
       "       [1601463141, 1818585203, 1702045804]])"
      ]
     },
     "execution_count": 10,
     "metadata": {},
     "output_type": "execute_result"
    }
   ],
   "source": [
    "np.empty([2,3], dtype='int')"
   ]
  },
  {
   "cell_type": "markdown",
   "metadata": {},
   "source": [
    "np.zeros([2,3])\n",
    "중요한 함수임. 2,3의 matrix를 만들어내는데 0으로 다 채워진 행렬을 만듦\n"
   ]
  },
  {
   "cell_type": "code",
   "execution_count": 11,
   "metadata": {},
   "outputs": [
    {
     "data": {
      "text/plain": [
       "array([[0., 0., 0.],\n",
       "       [0., 0., 0.]])"
      ]
     },
     "execution_count": 11,
     "metadata": {},
     "output_type": "execute_result"
    }
   ],
   "source": [
    "np.zeros([2,3])"
   ]
  },
  {
   "cell_type": "markdown",
   "metadata": {},
   "source": [
    "[0,0,0]\n",
    "0이 3개 들어간 vector임. 이를 list로 2,3를 만들고 싶을 때는\n",
    "[[0,0,0], [0,0,0]]\n",
    "이 리스트는 계산이 불가능. 계산 가능한 array로 만드는 방법. np.array 함수 사용\n",
    "np.array([[0.0.0], [0,0,0]])\n",
    "\n",
    "zeros함수와 비슷. zeros는 안에 리스트 형태로 몇행몇열인지 넣고 그것을 array로 만들어주고 array함수는 긴 리스트를 집어넣어서 그것을 array 형태로 변형시키는 것임.\n",
    "\n",
    "np.ones([,])\n",
    "ones 함수는 zeros함수와 동일한데 다만 안의 것을 0이 아닌 1로 채워진 array를 만들어줌.\n",
    "그런데 밑에 1을 보면 .이 찍혀있는데 ones 는 zeros와 달리 dtype을 int가 아닌 float으로 하더라.\n",
    "그래서 dtype을 따로 설정해줄 수 있음.\n",
    "cf) float64하면 정교한데 단점은 memory를 많이 차지한다는 것임.\n",
    "\n",
    "arange함수. \n",
    "for loop쓸 때 range와 비슷\n",
    "np.arange함수는 index개수에 맞는 array를 만들어줌.\n",
    "range를 정해줄 수도 있음.\n",
    "np.arange(0,10,2, dtype='float64') ->0부터 10까지(0~9). 뒤에 2를 쓰면 2만큼 증가분을 두는 것. dtype설정.\n",
    "array([0., 2., 4., 6., 8.]) 가 결과로 나오는 것은 0~9까지에서 2씩 증가분\n",
    "\n",
    "linspace(linearspace의 줄임말)\n",
    "np.linspace(0,10,6, dtype=float)  0~10 arange와는 달리 0, 10 모두 포함. 그런데 그것을 총 6개로 나누어준다. 숫자의 개수가 6개가 되도록.\n",
    "linspace라고 부르는 이유는 각각의 숫자간의 간격이 똑같기 때문.\n"
   ]
  },
  {
   "cell_type": "code",
   "execution_count": 13,
   "metadata": {},
   "outputs": [
    {
     "data": {
      "text/plain": [
       "array([[0, 0, 0],\n",
       "       [0, 0, 0]])"
      ]
     },
     "execution_count": 13,
     "metadata": {},
     "output_type": "execute_result"
    }
   ],
   "source": [
    "np.array([[0,0,0], [0,0,0]])"
   ]
  },
  {
   "cell_type": "code",
   "execution_count": 14,
   "metadata": {},
   "outputs": [
    {
     "data": {
      "text/plain": [
       "array([[1., 1., 1.],\n",
       "       [1., 1., 1.]])"
      ]
     },
     "execution_count": 14,
     "metadata": {},
     "output_type": "execute_result"
    }
   ],
   "source": [
    "np.ones([2,3])"
   ]
  },
  {
   "cell_type": "code",
   "execution_count": 15,
   "metadata": {},
   "outputs": [
    {
     "data": {
      "text/plain": [
       "array([[1, 1, 1],\n",
       "       [1, 1, 1]])"
      ]
     },
     "execution_count": 15,
     "metadata": {},
     "output_type": "execute_result"
    }
   ],
   "source": [
    "np.ones([2,3], dtype='int')"
   ]
  },
  {
   "cell_type": "code",
   "execution_count": 16,
   "metadata": {},
   "outputs": [
    {
     "data": {
      "text/plain": [
       "array([[1., 1., 1.],\n",
       "       [1., 1., 1.]])"
      ]
     },
     "execution_count": 16,
     "metadata": {},
     "output_type": "execute_result"
    }
   ],
   "source": [
    "np.ones([2,3], dtype='float64')"
   ]
  },
  {
   "cell_type": "code",
   "execution_count": 17,
   "metadata": {},
   "outputs": [
    {
     "data": {
      "text/plain": [
       "array([0, 1, 2, 3, 4])"
      ]
     },
     "execution_count": 17,
     "metadata": {},
     "output_type": "execute_result"
    }
   ],
   "source": [
    "np.arange(5)"
   ]
  },
  {
   "cell_type": "code",
   "execution_count": 18,
   "metadata": {},
   "outputs": [
    {
     "data": {
      "text/plain": [
       "array([0., 2., 4., 6., 8.])"
      ]
     },
     "execution_count": 18,
     "metadata": {},
     "output_type": "execute_result"
    }
   ],
   "source": [
    "np.arange(0,10,2, dtype='float64')"
   ]
  },
  {
   "cell_type": "code",
   "execution_count": 20,
   "metadata": {},
   "outputs": [
    {
     "data": {
      "text/plain": [
       "array([ 0,  2,  4,  6,  8, 10])"
      ]
     },
     "execution_count": 20,
     "metadata": {},
     "output_type": "execute_result"
    }
   ],
   "source": [
    "np.linspace(0,10,6, dtype='int')"
   ]
  },
  {
   "cell_type": "markdown",
   "metadata": {},
   "source": [
    "list를 array로 바꿀 때 array 함수. 3,2  행렬 만들고 싶으면 저런 식으로 쓰면 됨.\n",
    "X = np.array([[1,2],[4,5],[8,9]]) \n",
    "몇 차원일까? 직사각형으로 된 matrix는 2차원. 직육면체 같은 것은 3차원.\n",
    "3차원도 표기가 가능함. [] 개수가 2개인 것을 보면 2차원. 3차원은 []가 3 개가 나옴. []의 개수는 차원임\n",
    "ex)2차원 짜리를 두개를 사용해서 만들면 3차원이 됨.\n",
    "\n",
    "차원을 알려주는 함수\n",
    ".ndim\n",
    ".shape -> 더 구체적. 2x3x2의 차원이 있다.(3,2)직사각형이 있고 이 것이 2개가 들어가 있더라. 즉 첫 번째 숫자가 행렬 몇 개 들어갔는지, 두 세번쨰 숫자가 몇X몇 행렬인지\n",
    "\n",
    "dtype(type 알려주는 함수)\n",
    "astype(type 바꿔주는 함수)\n",
    "np.zeros_like(X)(형태를 유지한 채 모든 숫자를 0으로 바꿔주라는 함수)  그런데 이 함수를 쓰나 X*0을 하나 똑같음."
   ]
  },
  {
   "cell_type": "code",
   "execution_count": 21,
   "metadata": {},
   "outputs": [
    {
     "data": {
      "text/plain": [
       "array([[1, 2],\n",
       "       [4, 5],\n",
       "       [8, 9]])"
      ]
     },
     "execution_count": 21,
     "metadata": {},
     "output_type": "execute_result"
    }
   ],
   "source": [
    "X = np.array([[1,2],[4,5],[8,9]])\n",
    "X\n"
   ]
  },
  {
   "cell_type": "code",
   "execution_count": 22,
   "metadata": {},
   "outputs": [
    {
     "data": {
      "text/plain": [
       "array([[[1, 2],\n",
       "        [4, 5],\n",
       "        [8, 9]],\n",
       "\n",
       "       [[1, 2],\n",
       "        [4, 5],\n",
       "        [8, 9]]])"
      ]
     },
     "execution_count": 22,
     "metadata": {},
     "output_type": "execute_result"
    }
   ],
   "source": [
    "X = np.array([[[1,2],[4,5],[8,9]],[[1,2],[4,5],[8,9]]])\n",
    "X"
   ]
  },
  {
   "cell_type": "code",
   "execution_count": 23,
   "metadata": {},
   "outputs": [
    {
     "data": {
      "text/plain": [
       "3"
      ]
     },
     "execution_count": 23,
     "metadata": {},
     "output_type": "execute_result"
    }
   ],
   "source": [
    "X.ndim"
   ]
  },
  {
   "cell_type": "code",
   "execution_count": 24,
   "metadata": {},
   "outputs": [
    {
     "data": {
      "text/plain": [
       "(2, 3, 2)"
      ]
     },
     "execution_count": 24,
     "metadata": {},
     "output_type": "execute_result"
    }
   ],
   "source": [
    "X.shape"
   ]
  },
  {
   "cell_type": "code",
   "execution_count": 26,
   "metadata": {},
   "outputs": [
    {
     "data": {
      "text/plain": [
       "dtype('int32')"
      ]
     },
     "execution_count": 26,
     "metadata": {},
     "output_type": "execute_result"
    }
   ],
   "source": [
    "X.dtype"
   ]
  },
  {
   "cell_type": "code",
   "execution_count": 27,
   "metadata": {},
   "outputs": [
    {
     "data": {
      "text/plain": [
       "array([[[1., 2.],\n",
       "        [4., 5.],\n",
       "        [8., 9.]],\n",
       "\n",
       "       [[1., 2.],\n",
       "        [4., 5.],\n",
       "        [8., 9.]]])"
      ]
     },
     "execution_count": 27,
     "metadata": {},
     "output_type": "execute_result"
    }
   ],
   "source": [
    "X.astype(np.float64)"
   ]
  },
  {
   "cell_type": "code",
   "execution_count": 29,
   "metadata": {},
   "outputs": [
    {
     "data": {
      "text/plain": [
       "array([[[0, 0],\n",
       "        [0, 0],\n",
       "        [0, 0]],\n",
       "\n",
       "       [[0, 0],\n",
       "        [0, 0],\n",
       "        [0, 0]]])"
      ]
     },
     "execution_count": 29,
     "metadata": {},
     "output_type": "execute_result"
    }
   ],
   "source": [
    "np.zeros_like(X)"
   ]
  },
  {
   "cell_type": "code",
   "execution_count": 30,
   "metadata": {},
   "outputs": [
    {
     "data": {
      "text/plain": [
       "array([[[0, 0],\n",
       "        [0, 0],\n",
       "        [0, 0]],\n",
       "\n",
       "       [[0, 0],\n",
       "        [0, 0],\n",
       "        [0, 0]]])"
      ]
     },
     "execution_count": 30,
     "metadata": {},
     "output_type": "execute_result"
    }
   ],
   "source": [
    "X*0"
   ]
  },
  {
   "cell_type": "markdown",
   "metadata": {},
   "source": [
    "data = np.random.normal(0,1, 100)\n",
    "np 안의 random이라는 함수 안의 normal이라는 함수.\n",
    "그런데 만약 from numpy import random이라고 했으면 random.normal로 하면 됨.\n",
    "normal이라는 함수는 normal distribution을 만들어 주는 것.(정규분포)\n",
    "종 거꾸로 된 shape의 data를 만들어줌. 이를 위해 평균과 얼마나 뚱뚱한 지. 100은 data의 갯수.\n",
    "여기서 나온 데이터는 1차원이고, shape을 했을 때(100,)이 나오는 것은 총 100개의 데이터임을 알 수 있음\n",
    "\n",
    "plt -> matplotlib안의 pyplot 안의 plt.\n",
    "plt.hist(data, bins=10)    histogram  bin바구니를 총 몇 개를 할 것인가. x축이 bin. x축의 range에 들어가는 값들 몇 갠지가 y축 무조건 소수 말고 정수값이 나와야 함. 이 값들을 다 합하면 몇 개일까?100개  그런 것도 시험문제 나올 수\n"
   ]
  },
  {
   "cell_type": "code",
   "execution_count": 34,
   "metadata": {},
   "outputs": [
    {
     "name": "stdout",
     "output_type": "stream",
     "text": [
      "[-0.14625911  0.79018176  2.03640822  0.24376513  1.39377586  0.05064647\n",
      "  0.1806397   1.25158133 -0.95499568  1.84678202  0.07658077 -1.78944876\n",
      "  0.69215857 -0.14803133 -1.36314615 -0.94888371 -0.26388787 -0.33850161\n",
      " -0.67949114  1.89155883 -2.1408516  -1.4085316   1.16109372  0.29992035\n",
      " -1.21529967 -0.06204402  1.38155732 -1.43771732  0.15506561 -1.46220567\n",
      " -1.68010659 -1.40422128 -0.55311378 -1.9774021  -1.48614986  0.110564\n",
      "  1.07521964 -1.22841626  1.05157988 -0.2628311   1.62309829 -0.48179381\n",
      "  0.05608006 -0.21338792  0.38575903 -0.21558841 -1.50718955  0.21483383\n",
      "  0.18986676 -0.76203517 -0.35640717 -0.87826462 -0.61156173 -0.66219375\n",
      "  1.05731227 -0.07260126  2.60039366 -1.3071705  -2.12985379 -0.80124946\n",
      " -0.46180538  0.57646049 -1.58356824 -0.98341119 -0.07455416 -0.98158634\n",
      "  0.90051126  1.875861    0.39346567 -1.37276336  1.59790825  0.45483924\n",
      "  0.31540368 -0.59842814  0.87341174 -0.76062821  0.49223513 -1.40670228\n",
      "  0.05203071 -0.07183126 -1.32360533 -0.43665957 -0.91439019 -1.87129982\n",
      "  1.73172109  1.75924361  1.65828625  2.52143235  0.83733183  0.40138565\n",
      "  2.08848752  1.00547958  0.57984248 -0.29894253  1.30958957  0.63780786\n",
      "  1.14383296  0.82763037 -0.19320017 -0.09963616]\n"
     ]
    },
    {
     "data": {
      "text/plain": [
       "(array([ 6., 14.,  9., 13., 19., 12., 11.,  6.,  8.,  2.]),\n",
       " array([-2.1408516 , -1.66672707, -1.19260255, -0.71847802, -0.2443535 ,\n",
       "         0.22977103,  0.70389556,  1.17802008,  1.65214461,  2.12626913,\n",
       "         2.60039366]),\n",
       " <a list of 10 Patch objects>)"
      ]
     },
     "execution_count": 34,
     "metadata": {},
     "output_type": "execute_result"
    },
    {
     "data": {
      "image/png": "[encoded data removed]",
      "text/plain": [
       "<Figure size 432x288 with 1 Axes>"
      ]
     },
     "metadata": {
      "needs_background": "light"
     },
     "output_type": "display_data"
    }
   ],
   "source": [
    "data = np.random.normal(0,1, 100)\n",
    "print(data)\n",
    "plt.hist(data, bins=10)"
   ]
  },
  {
   "cell_type": "code",
   "execution_count": 32,
   "metadata": {},
   "outputs": [
    {
     "data": {
      "text/plain": [
       "1"
      ]
     },
     "execution_count": 32,
     "metadata": {},
     "output_type": "execute_result"
    }
   ],
   "source": [
    "data.ndim"
   ]
  },
  {
   "cell_type": "code",
   "execution_count": 33,
   "metadata": {},
   "outputs": [
    {
     "data": {
      "text/plain": [
       "(100,)"
      ]
     },
     "execution_count": 33,
     "metadata": {},
     "output_type": "execute_result"
    }
   ],
   "source": [
    "data.shape"
   ]
  },
  {
   "cell_type": "markdown",
   "metadata": {},
   "source": [
    "X = np.ones([2, 3, 4])\n",
    "3차원의 행렬값.\n",
    "\n",
    "Y = X.reshape(-1, 3, 2)\n",
    "reshape함수는 shape을 바꿈. 몇by몇by몇이 shape. \n",
    "2,3,4를 1,7,어쩌구로 바꾸는 것은 말이 안됨. 2,3,4의 element의 갯수는 2X3X4=24개. 그렇다면 shape을 바꾸기 위해선 그것의 elment가 24개여야만 함. 그것이 다르면 error이 남. ex)1,6,4 / 3,2,4 이런식으로 바꿀 수 있음.\n",
    "그래서 Y = X.reshape(-1, 3, 2) 이 경우에는 -1을 4로 써도 되고 4인지 뭔지 모르겠다 하면 -1을 써도 됨 귀찮으면.\n",
    "\n",
    "np.allclose(X.reshape(-1, 3, 2), Y) 2,3,4의 X를 reshape해서 4,3,2로 만들면 그것과 Y과 완전히 똑같으냐 하는 것임. 두 개의 array를 비교해서 똑같은지를 묻는.\n",
    "\n"
   ]
  },
  {
   "cell_type": "code",
   "execution_count": 35,
   "metadata": {},
   "outputs": [
    {
     "data": {
      "text/plain": [
       "array([[[1., 1., 1., 1.],\n",
       "        [1., 1., 1., 1.],\n",
       "        [1., 1., 1., 1.]],\n",
       "\n",
       "       [[1., 1., 1., 1.],\n",
       "        [1., 1., 1., 1.],\n",
       "        [1., 1., 1., 1.]]])"
      ]
     },
     "execution_count": 35,
     "metadata": {},
     "output_type": "execute_result"
    }
   ],
   "source": [
    "X = np.ones([2, 3, 4])\n",
    "X"
   ]
  },
  {
   "cell_type": "code",
   "execution_count": 36,
   "metadata": {},
   "outputs": [
    {
     "data": {
      "text/plain": [
       "array([[[1., 1.],\n",
       "        [1., 1.],\n",
       "        [1., 1.]],\n",
       "\n",
       "       [[1., 1.],\n",
       "        [1., 1.],\n",
       "        [1., 1.]],\n",
       "\n",
       "       [[1., 1.],\n",
       "        [1., 1.],\n",
       "        [1., 1.]],\n",
       "\n",
       "       [[1., 1.],\n",
       "        [1., 1.],\n",
       "        [1., 1.]]])"
      ]
     },
     "execution_count": 36,
     "metadata": {},
     "output_type": "execute_result"
    }
   ],
   "source": [
    "Y = X.reshape(-1, 3, 2)\n",
    "Y"
   ]
  },
  {
   "cell_type": "code",
   "execution_count": 37,
   "metadata": {},
   "outputs": [
    {
     "data": {
      "text/plain": [
       "True"
      ]
     },
     "execution_count": 37,
     "metadata": {},
     "output_type": "execute_result"
    }
   ],
   "source": [
    "np.allclose(X.reshape(-1,3,2),Y)"
   ]
  },
  {
   "cell_type": "markdown",
   "metadata": {},
   "source": [
    "random 속의 randint\n",
    "a = np.random.randint(0, 10, [2, 3])\n",
    "->0부터 10사이의 숫자를 pick up 하고 2,3의 matrix를 만들어라. \n",
    "b = np.random.random([2, 3])\n",
    "말그대로 random을 만드는 건데 2,3로 만듬.\n",
    "np.savez(\"test\", a, b)\n",
    "np package 속의 함수인데 실제 file로 만들어주는 함수임. a라는 b라는 variable을 file로 만들어주는 것.\n",
    "f탐색기 들어가서 보면 npz file 생성 된 것 볼 수 있음."
   ]
  },
  {
   "cell_type": "code",
   "execution_count": 44,
   "metadata": {},
   "outputs": [],
   "source": [
    "a = np.random.randint(0, 10, [2, 3])\n",
    "b = np.random.random([2, 3])\n",
    "np.savez(\"test\", a, b)"
   ]
  },
  {
   "cell_type": "code",
   "execution_count": 48,
   "metadata": {},
   "outputs": [
    {
     "data": {
      "text/plain": [
       "array([[7, 5, 1],\n",
       "       [6, 9, 4]])"
      ]
     },
     "execution_count": 48,
     "metadata": {},
     "output_type": "execute_result"
    }
   ],
   "source": [
    "a"
   ]
  },
  {
   "cell_type": "code",
   "execution_count": 49,
   "metadata": {},
   "outputs": [
    {
     "data": {
      "text/plain": [
       "array([[0.78393234, 0.49033937, 0.56846429],\n",
       "       [0.47881012, 0.00964813, 0.50176119]])"
      ]
     },
     "execution_count": 49,
     "metadata": {},
     "output_type": "execute_result"
    }
   ],
   "source": [
    "b"
   ]
  },
  {
   "cell_type": "code",
   "execution_count": 45,
   "metadata": {},
   "outputs": [
    {
     "name": "stderr",
     "output_type": "stream",
     "text": [
      "'ls'은(는) 내부 또는 외부 명령, 실행할 수 있는 프로그램, 또는\n",
      "배치 파일이 아닙니다.\n"
     ]
    }
   ],
   "source": [
    "!ls -al test*"
   ]
  },
  {
   "cell_type": "markdown",
   "metadata": {},
   "source": [
    "del a,b,c\n",
    "variable 없애고 싶을 때.\n",
    "\n",
    "npzfiles = np.load(\"test.npz\")\n",
    "npzfiles.files \n",
    "->저장한 file 불러올 때.\n",
    "그리고 저 이름들을 npzfiles['arr_0']에 넣으면 각각 a,b가 나옴.\n",
    "\n",
    "csv는 coma separated values. 엑셀에서도 불러지는 format. 제일 많이 쓰게 될 format.\n",
    "data = np.loadtxt(\"regression.csv\", delimiter=\",\", skiprows=1, dtype={'names':(\"X\", \"Y\"), 'formats':('f', 'f')})\n",
    "data\n",
    "loadtxt해서 불러오고 delimiter 분리 skiprows=1 첫 번째 데이터 안 쓸거다(X, Y라고 적힌 것 그냥 제목이니까). dtype에 첫 번째 것은 X, 두번 쨰 것은 Y format은 둘 다 float으로 하겠다. \n",
    "역으로 np.savetxt(\"regression_saved.csv\", data, delimiter=\",\")는 저장할 때 씀."
   ]
  },
  {
   "cell_type": "code",
   "execution_count": 46,
   "metadata": {},
   "outputs": [
    {
     "data": {
      "text/plain": [
       "['arr_0', 'arr_1']"
      ]
     },
     "execution_count": 46,
     "metadata": {},
     "output_type": "execute_result"
    }
   ],
   "source": [
    "npzfiles = np.load(\"test.npz\")\n",
    "npzfiles.files"
   ]
  },
  {
   "cell_type": "code",
   "execution_count": 52,
   "metadata": {},
   "outputs": [
    {
     "data": {
      "text/plain": [
       "array([[7, 5, 1],\n",
       "       [6, 9, 4]])"
      ]
     },
     "execution_count": 52,
     "metadata": {},
     "output_type": "execute_result"
    }
   ],
   "source": [
    "npzfiles['arr_0']"
   ]
  },
  {
   "cell_type": "code",
   "execution_count": 53,
   "metadata": {},
   "outputs": [
    {
     "data": {
      "text/plain": [
       "array([( 3.3  , 1.7  ), ( 4.4  , 2.76 ), ( 5.5  , 2.09 ), ( 6.71 , 3.19 ),\n",
       "       ( 6.93 , 1.694), ( 4.168, 1.573), ( 9.779, 3.366), ( 6.182, 2.596),\n",
       "       ( 7.59 , 2.53 ), ( 2.167, 1.221), ( 7.042, 2.827), (10.791, 3.465),\n",
       "       ( 5.313, 1.65 ), ( 7.997, 2.904), ( 5.654, 2.42 ), ( 9.27 , 2.94 ),\n",
       "       ( 3.1  , 1.3  )], dtype=[('X', '<f4'), ('Y', '<f4')])"
      ]
     },
     "execution_count": 53,
     "metadata": {},
     "output_type": "execute_result"
    }
   ],
   "source": [
    "data = np.loadtxt(\"regression.csv\", delimiter=\",\", skiprows=1, dtype={'names':(\"X\", \"Y\"), 'formats':('f', 'f')})\n",
    "data"
   ]
  },
  {
   "cell_type": "code",
   "execution_count": 54,
   "metadata": {},
   "outputs": [],
   "source": [
    "np.savetxt(\"regression_saved.csv\", data, delimiter=\",\")"
   ]
  },
  {
   "cell_type": "markdown",
   "metadata": {},
   "source": [
    "type 보면 numpy가 만들어 낸 ndimensional array다. len은 5. 젤 앞에 숫자가 len으로 받아지나 봄. 차원은 3차원 나오고\n",
    "size는 총 element의 개수 5X2X3=30 dtype은 float64.\n"
   ]
  },
  {
   "cell_type": "code",
   "execution_count": 55,
   "metadata": {},
   "outputs": [],
   "source": [
    "arr = np.random.random([5,2,3])"
   ]
  },
  {
   "cell_type": "code",
   "execution_count": 56,
   "metadata": {},
   "outputs": [
    {
     "name": "stdout",
     "output_type": "stream",
     "text": [
      "<class 'numpy.ndarray'>\n",
      "5\n",
      "(5, 2, 3)\n",
      "3\n",
      "30\n",
      "float64\n"
     ]
    }
   ],
   "source": [
    "print(type(arr))\n",
    "print(len(arr))\n",
    "print(arr.shape)\n",
    "print(arr.ndim)\n",
    "print(arr.size)\n",
    "print(arr.dtype)"
   ]
  },
  {
   "cell_type": "markdown",
   "metadata": {},
   "source": [
    "arange에 하나만 적으면 index, 두 개 적으면 1~5사이. 세 개 적으면 9~5까지 역순으로\n",
    "이제 a,b가 계산이 가능한 array가 되었음. \n",
    "a = np.arange(1, 10).reshape(3,3) ->1~9까지의 arange를 reshape를 하는데 3,3 2차원으로.\n",
    "b = np.arange(9, 0, -1).reshape(3,3)->9~1까지 arange를 reshape를 하는데 3,3 2차원으로.\n",
    "a==b 각각의 정보다 같은지 틀린지\n",
    "a>b \n",
    "같으냐 틀리냐를 정의할 때 각각의 dimension과 shape이 완전히 똑같아야함. 다르면 error message나옴.\n"
   ]
  },
  {
   "cell_type": "code",
   "execution_count": 62,
   "metadata": {},
   "outputs": [],
   "source": [
    "a = np.arange(1, 5)\n",
    "b = np.arange(9, 5,-1)"
   ]
  },
  {
   "cell_type": "code",
   "execution_count": 63,
   "metadata": {},
   "outputs": [
    {
     "data": {
      "text/plain": [
       "array([1, 2, 3, 4])"
      ]
     },
     "execution_count": 63,
     "metadata": {},
     "output_type": "execute_result"
    }
   ],
   "source": [
    "a"
   ]
  },
  {
   "cell_type": "code",
   "execution_count": 64,
   "metadata": {},
   "outputs": [
    {
     "data": {
      "text/plain": [
       "array([9, 8, 7, 6])"
      ]
     },
     "execution_count": 64,
     "metadata": {},
     "output_type": "execute_result"
    }
   ],
   "source": [
    "b"
   ]
  },
  {
   "cell_type": "code",
   "execution_count": 65,
   "metadata": {},
   "outputs": [
    {
     "name": "stdout",
     "output_type": "stream",
     "text": [
      "[-8 -6 -4 -2]\n",
      "[ 9 16 21 24]\n"
     ]
    }
   ],
   "source": [
    "print(a-b)\n",
    "print(a*b)"
   ]
  },
  {
   "cell_type": "code",
   "execution_count": 66,
   "metadata": {},
   "outputs": [
    {
     "name": "stdout",
     "output_type": "stream",
     "text": [
      "[[1 2 3]\n",
      " [4 5 6]\n",
      " [7 8 9]]\n",
      "[[9 8 7]\n",
      " [6 5 4]\n",
      " [3 2 1]]\n"
     ]
    }
   ],
   "source": [
    "a = np.arange(1, 10).reshape(3,3)\n",
    "b = np.arange(9, 0, -1).reshape(3,3)\n",
    "print(a)\n",
    "print(b)"
   ]
  },
  {
   "cell_type": "code",
   "execution_count": 67,
   "metadata": {},
   "outputs": [
    {
     "data": {
      "text/plain": [
       "array([[False, False, False],\n",
       "       [False,  True, False],\n",
       "       [False, False, False]])"
      ]
     },
     "execution_count": 67,
     "metadata": {},
     "output_type": "execute_result"
    }
   ],
   "source": [
    "a==b"
   ]
  },
  {
   "cell_type": "markdown",
   "metadata": {},
   "source": [
    "a.sum(), np.sum(a)\n",
    "a.sum 다 더하는 것임 쓰는 방식이 위의 두 가지임. \n",
    "a라는 것이 어차피 numpy로 만들어진 산물이므로 a.sum()이렇게 써도 된다는 것임. numpy를 통해 만들어졌기에 가능한 것임.\n",
    "np.sum()은 np안의 sum을 쓰는 것. \n",
    "\n",
    "a.sum(axis=0), np.sum(a, axis=0)\n",
    "axis라는 것은 몇 번째 차원에서 우리가 sum을 할 것인가. 3x3 2차원의 a에서 첫 번째 차원은 행. 두 번째 차원은 열. 첫 번째 차원의 관점에서 sum을 해라는 의미.axis=0이 첫 번째 차원. axis=1이 두 번째 차원."
   ]
  },
  {
   "cell_type": "code",
   "execution_count": 71,
   "metadata": {},
   "outputs": [
    {
     "data": {
      "text/plain": [
       "array([[1, 2, 3],\n",
       "       [4, 5, 6],\n",
       "       [7, 8, 9]])"
      ]
     },
     "execution_count": 71,
     "metadata": {},
     "output_type": "execute_result"
    }
   ],
   "source": [
    "a"
   ]
  },
  {
   "cell_type": "code",
   "execution_count": 69,
   "metadata": {},
   "outputs": [
    {
     "data": {
      "text/plain": [
       "45"
      ]
     },
     "execution_count": 69,
     "metadata": {},
     "output_type": "execute_result"
    }
   ],
   "source": [
    "a.sum()"
   ]
  },
  {
   "cell_type": "code",
   "execution_count": 72,
   "metadata": {},
   "outputs": [
    {
     "data": {
      "text/plain": [
       "45"
      ]
     },
     "execution_count": 72,
     "metadata": {},
     "output_type": "execute_result"
    }
   ],
   "source": [
    "np.sum(a)"
   ]
  },
  {
   "cell_type": "code",
   "execution_count": 73,
   "metadata": {},
   "outputs": [
    {
     "data": {
      "text/plain": [
       "(array([12, 15, 18]), array([12, 15, 18]))"
      ]
     },
     "execution_count": 73,
     "metadata": {},
     "output_type": "execute_result"
    }
   ],
   "source": [
    "a.sum(axis=0), np.sum(a, axis=0)"
   ]
  },
  {
   "cell_type": "markdown",
   "metadata": {},
   "source": [
    "a = np.arange(1, 25).reshape(4, 6)\n",
    "reshape이 broadcasting임. \n",
    "쓰는 방법을 np.reshape를 해도 되고 arange로 만들어서 거기에 .reshape해도 되고 저렇게 한 번에 해도 되고.\n",
    "\n",
    "a,b 차원ㅇ 다른데 덧셈 되었음."
   ]
  },
  {
   "cell_type": "code",
   "execution_count": 74,
   "metadata": {},
   "outputs": [
    {
     "data": {
      "text/plain": [
       "array([[ 1,  2,  3,  4,  5,  6],\n",
       "       [ 7,  8,  9, 10, 11, 12],\n",
       "       [13, 14, 15, 16, 17, 18],\n",
       "       [19, 20, 21, 22, 23, 24]])"
      ]
     },
     "execution_count": 74,
     "metadata": {},
     "output_type": "execute_result"
    }
   ],
   "source": [
    "a = np.arange(1, 25).reshape(4, 6)\n",
    "a"
   ]
  },
  {
   "cell_type": "code",
   "execution_count": 75,
   "metadata": {},
   "outputs": [
    {
     "data": {
      "text/plain": [
       "array([[101, 102, 103, 104, 105, 106],\n",
       "       [107, 108, 109, 110, 111, 112],\n",
       "       [113, 114, 115, 116, 117, 118],\n",
       "       [119, 120, 121, 122, 123, 124]])"
      ]
     },
     "execution_count": 75,
     "metadata": {},
     "output_type": "execute_result"
    }
   ],
   "source": [
    "a+100"
   ]
  },
  {
   "cell_type": "code",
   "execution_count": 77,
   "metadata": {},
   "outputs": [
    {
     "data": {
      "text/plain": [
       "array([0, 1, 2, 3, 4, 5])"
      ]
     },
     "execution_count": 77,
     "metadata": {},
     "output_type": "execute_result"
    }
   ],
   "source": [
    "b=np.arange(6)\n",
    "b"
   ]
  },
  {
   "cell_type": "code",
   "execution_count": 78,
   "metadata": {
    "scrolled": true
   },
   "outputs": [
    {
     "data": {
      "text/plain": [
       "array([[ 1,  3,  5,  7,  9, 11],\n",
       "       [ 7,  9, 11, 13, 15, 17],\n",
       "       [13, 15, 17, 19, 21, 23],\n",
       "       [19, 21, 23, 25, 27, 29]])"
      ]
     },
     "execution_count": 78,
     "metadata": {},
     "output_type": "execute_result"
    }
   ],
   "source": [
    "a+b"
   ]
  },
  {
   "cell_type": "code",
   "execution_count": 1,
   "metadata": {},
   "outputs": [],
   "source": [
    "from matplotlib import pyplot as plt\n",
    "from mpl_toolkits.mplot3d import Axes3D\n",
    "from mpl_toolkits.axes_grid1 import make_axes_locatable\n",
    "import IPython.display as ipd\n",
    "import numpy as np\n",
    "%matplotlib notebook\n",
    "from scipy.signal import lfilter"
   ]
  },
  {
   "cell_type": "code",
   "execution_count": 2,
   "metadata": {},
   "outputs": [],
   "source": [
    "amp = 1          # range [0.0, 1.0]\n",
    "sr = 10000       # sampling rate, Hz\n",
    "dur = 0.5        # in seconds\n",
    "freq = 100.0     # sine frequency, Hz"
   ]
  },
  {
   "cell_type": "markdown",
   "metadata": {},
   "source": [
    "amplitude 1이라고 하면 진폭을 1~-1까지. 만약 2로 하면 2~-2.\n",
    "그냥 variable을 설정해 놓은 것임. \n",
    "duration은 얼마동안 소리가 나느냐를 정의한 것임.\n",
    "frequency는 1초에 몇 번 왔따갔다 하는가를 정의 한 것임. 1초에 태극문양이 몇 개 들어가는가.\n",
    "sampling rate은 frequency와 마찬가지로 단위를 hz를 쓰는데 소리의 해상도를 결정하는 요소임.\\\n",
    "제일 처음 할 것은 time을 만들어 놓아야 됨."
   ]
  },
  {
   "cell_type": "code",
   "execution_count": null,
   "metadata": {},
   "outputs": [],
   "source": [
    "t 0.0001 0.0002 0.0003  ... 0.5000    ->sampling rate는 1초를 쪼개는 개수가 만 개. duration은 이 끝 값.\n",
    "즉 sampling rate와 duration만 있으면 time을 만들 수 있음.\n",
    "t=np.arange(1,sr+1)를 하면 1~10000가 만들어짐. \n",
    "만약 이 경우에 duration이 1초면 1초 동안 이 t의 숫자는 맞음. 그런데 0.5초라\n",
    "sr에 dur을 곱하면 5000개+1 하면 1~5000이 만들어짐. \n",
    "time의 index는 만들었는데 실제 타임은 아님 그래서 이를 sr로 나누어주면 만분의 1초부터 0.5초까지 만들어지는 셈임.\n",
    "1.000e-04라는 말은 1에 10의 -4승을 의미하는 것임. "
   ]
  },
  {
   "cell_type": "code",
   "execution_count": 3,
   "metadata": {},
   "outputs": [],
   "source": [
    "t=np.arange(1,sr+1)"
   ]
  },
  {
   "cell_type": "code",
   "execution_count": 4,
   "metadata": {},
   "outputs": [
    {
     "data": {
      "text/plain": [
       "array([1.000e-04, 2.000e-04, 3.000e-04, ..., 4.998e-01, 4.999e-01,\n",
       "       5.000e-01])"
      ]
     },
     "execution_count": 4,
     "metadata": {},
     "output_type": "execute_result"
    }
   ],
   "source": [
    "t = np.arange(1, sr * dur+1)/sr\n",
    "t"
   ]
  },
  {
   "cell_type": "markdown",
   "metadata": {},
   "source": [
    "time을 먼저 만들어 내고 세타 값을 만들고 time과 연동시켜서 phase로 바꾸어야함.\n",
    "np.pi는 numpy속에 정의된 pi값으로 그냥 상수 값임. \n",
    "-> time에 2pi를 곱한값 = time이 0~1까지 만들어져있을 때 1초에서의 time값은 1임. 그것에 2pi를 곱하면 2pi. 즉 0~2pi. 한 바퀴 돈 것임. \n",
    "frequency를 100으로 정의했으니 총 100바퀴를 돌려야 함. 이렇게 theta에 넣어줌.\n",
    "즉, time을 먼저 만들고 거기에 phase를 연동 시키는 것. 즉, time과 theta의 개념이 동시.\n",
    "그렇게 정의한 theta를 numpy에 정의된 sin에 넣어줌.\n",
    "Q. time의 vector의 사이즈와 theta의 vector의 사이즈는 같다? (o)\n",
    "time을 총 5000개의 vector를 만듦. 그곳에 사칙 연산을 한 것 뿐인 theta값은 같은 개수의 vector임. \n",
    "\n",
    "plot은 x와 y값을 받음. time을 x라 하고 sin값을 y로 해서 ploting을 함. '.'은 .으로 ploting을 하라 \n",
    "하면 결과값이 x축은 time. 1000개씩만 xy를 plot한 값이 나왔음. sin 곡선의 형태를 볼 수 있음."
   ]
  },
  {
   "cell_type": "code",
   "execution_count": 6,
   "metadata": {},
   "outputs": [],
   "source": [
    "theta = t * 2*np.pi * freq"
   ]
  },
  {
   "cell_type": "code",
   "execution_count": 8,
   "metadata": {},
   "outputs": [
    {
     "data": {
      "text/plain": [
       "array([ 6.27905195e-02,  1.25333234e-01,  1.87381315e-01, ...,\n",
       "       -1.25333234e-01, -6.27905195e-02,  1.96438672e-15])"
      ]
     },
     "execution_count": 8,
     "metadata": {},
     "output_type": "execute_result"
    }
   ],
   "source": [
    "s = np.sin(theta)\n",
    "s"
   ]
  },
  {
   "cell_type": "code",
   "execution_count": 9,
   "metadata": {},
   "outputs": [
    {
     "data": {
      "text/plain": [
       "Text(0, 0.5, 'real')"
      ]
     },
     "execution_count": 9,
     "metadata": {},
     "output_type": "execute_result"
    },
    {
     "data": {
      "image/png": "[encoded data removed]",
      "text/plain": [
       "<Figure size 432x288 with 1 Axes>"
      ]
     },
     "metadata": {
      "needs_background": "light"
     },
     "output_type": "display_data"
    }
   ],
   "source": [
    "fig = plt.figure()\n",
    "ax = fig.add_subplot(111)\n",
    "ax.plot(t[0:1000], s[0:1000], '.')\n",
    "ax.set_xlabel('time (s)')\n",
    "ax.set_ylabel('real')"
   ]
  },
  {
   "cell_type": "code",
   "execution_count": null,
   "metadata": {},
   "outputs": [],
   "source": []
  },
  {
   "cell_type": "code",
   "execution_count": null,
   "metadata": {},
   "outputs": [],
   "source": [
    "각도의 vector값을 만든다.. "
   ]
  },
  {
   "cell_type": "code",
   "execution_count": 7,
   "metadata": {},
   "outputs": [],
   "source": [
    "from matplotlib import pyplot as plt\n",
    "from mpl_toolkits.mplot3d import Axes3D\n",
    "from mpl_toolkits.axes_grid1 import make_axes_locatable\n",
    "import IPython.display as ipd\n",
    "import numpy as np\n",
    "%matplotlib notebook\n",
    "from scipy.signal import lfilter"
   ]
  },
  {
   "cell_type": "markdown",
   "metadata": {},
   "source": [
    "각도의 vector값을 만든다.. 0~2pi 만들때\n",
    "theta=np.arange(0,2*np.pi). 0~6.28어쩌구니까 6까지.\n",
    "theta는 radiant로 정의된 것.\n",
    "두 개를 plot을 하면 sin 곡선형태가 나옴"
   ]
  },
  {
   "cell_type": "code",
   "execution_count": null,
   "metadata": {},
   "outputs": [],
   "source": [
    "#parameter setting\n",
    "amp = 1          # range [0.0, 1.0]\n",
    "sr = 10000       # sampling rate, Hz\n",
    "dur = 0.5        # in seconds\n",
    "freq = 100.0     # sine frequency, Hz\n",
    "\n",
    "이렇게 정의 해놓으면 좋은 것이 이 값들만 바꿔주면 쉽게 다른 결과값을 얻을 수 있음. 이런 것들을 parameter이라고 함.\n",
    "time이 필요한 이유는 각도값만 넣어서는 실체의 소리를 만들 수 없기 때문에. 각도값만 만들 때 0~2pi면 한 바퀴\n",
    "시간을 설정 안하고 theta=np.arange(0,2*np.pi) 하면 0~6까지 radiant값들이 나오는데 이 두개를 plot하면 sin곡선이 나옴. \n",
    "\n",
    "plt 속의 figure이라는 function. 그 figure 속의 add_subplot"
   ]
  },
  {
   "cell_type": "code",
   "execution_count": 2,
   "metadata": {},
   "outputs": [
    {
     "data": {
      "text/plain": [
       "array([0., 1., 2., 3., 4., 5., 6.])"
      ]
     },
     "execution_count": 2,
     "metadata": {},
     "output_type": "execute_result"
    }
   ],
   "source": [
    "theta=np.arange(0,2*np.pi)\n",
    "theta"
   ]
  },
  {
   "cell_type": "code",
   "execution_count": 3,
   "metadata": {},
   "outputs": [
    {
     "data": {
      "text/plain": [
       "array([ 0.        ,  0.84147098,  0.90929743,  0.14112001, -0.7568025 ,\n",
       "       -0.95892427, -0.2794155 ])"
      ]
     },
     "execution_count": 3,
     "metadata": {},
     "output_type": "execute_result"
    }
   ],
   "source": [
    "s=np.sin(theta)\n",
    "s"
   ]
  },
  {
   "cell_type": "code",
   "execution_count": null,
   "metadata": {},
   "outputs": [],
   "source": [
    "plt 속의 figure라는 function figure 안의 add_supplot.\n",
    "밑 그림 전체가 figure임. subplot은 화면 분리. 221은 총 (2,2)로 나누는데 줄이 2줄 열이 2줄로 화면 분리를 한다.그 중 첫 번째거. \n",
    "4개의 그림이 각각 왼쪽 위 오른쪽 위 왼쪾 아래 오른쪽 아래 221 222 223 224.\n",
    "subplot 밑에 실제 ploting하려는 x값 theta, s(x값을 sin function 거쳐 나온값)를 y값으로. 값의 개수는 7개로 똑같음.\n",
    "그림을 잘 보면 sin함수의 결과값임을 볼 수 있음. 근데 이런 식으로 하면 너무 sparse함."
   ]
  },
  {
   "cell_type": "code",
   "execution_count": 8,
   "metadata": {},
   "outputs": [
    {
     "data": {
      "application/javascript": [
       "/* Put everything inside the global mpl namespace */\n",
       "window.mpl = {};\n",
       "\n",
       "\n",
       "mpl.get_websocket_type = function() {\n",
       "    if (typeof(WebSocket) !== 'undefined') {\n",
       "        return WebSocket;\n",
       "    } else if (typeof(MozWebSocket) !== 'undefined') {\n",
       "        return MozWebSocket;\n",
       "    } else {\n",
       "        alert('Your browser does not have WebSocket support. ' +\n",
       "              'Please try Chrome, Safari or Firefox ≥ 6. ' +\n",
       "              'Firefox 4 and 5 are also supported but you ' +\n",
       "              'have to enable WebSockets in about:config.');\n",
       "    };\n",
       "}\n",
       "\n",
       "mpl.figure = function(figure_id, websocket, ondownload, parent_element) {\n",
       "    this.id = figure_id;\n",
       "\n",
       "    this.ws = websocket;\n",
       "\n",
       "    this.supports_binary = (this.ws.binaryType != undefined);\n",
       "\n",
       "    if (!this.supports_binary) {\n",
       "        var warnings = document.getElementById(\"mpl-warnings\");\n",
       "        if (warnings) {\n",
       "            warnings.style.display = 'block';\n",
       "            warnings.textContent = (\n",
       "                \"This browser does not support binary websocket messages. \" +\n",
       "                    \"Performance may be slow.\");\n",
       "        }\n",
       "    }\n",
       "\n",
       "    this.imageObj = new Image();\n",
       "\n",
       "    this.context = undefined;\n",
       "    this.message = undefined;\n",
       "    this.canvas = undefined;\n",
       "    this.rubberband_canvas = undefined;\n",
       "    this.rubberband_context = undefined;\n",
       "    this.format_dropdown = undefined;\n",
       "\n",
       "    this.image_mode = 'full';\n",
       "\n",
       "    this.root = $('<div/>');\n",
       "    this._root_extra_style(this.root)\n",
       "    this.root.attr('style', 'display: inline-block');\n",
       "\n",
       "    $(parent_element).append(this.root);\n",
       "\n",
       "    this._init_header(this);\n",
       "    this._init_canvas(this);\n",
       "    this._init_toolbar(this);\n",
       "\n",
       "    var fig = this;\n",
       "\n",
       "    this.waiting = false;\n",
       "\n",
       "    this.ws.onopen =  function () {\n",
       "            fig.send_message(\"supports_binary\", {value: fig.supports_binary});\n",
       "            fig.send_message(\"send_image_mode\", {});\n",
       "            if (mpl.ratio != 1) {\n",
       "                fig.send_message(\"set_dpi_ratio\", {'dpi_ratio': mpl.ratio});\n",
       "            }\n",
       "            fig.send_message(\"refresh\", {});\n",
       "        }\n",
       "\n",
       "    this.imageObj.onload = function() {\n",
       "            if (fig.image_mode == 'full') {\n",
       "                // Full images could contain transparency (where diff images\n",
       "                // almost always do), so we need to clear the canvas so that\n",
       "                // there is no ghosting.\n",
       "                fig.context.clearRect(0, 0, fig.canvas.width, fig.canvas.height);\n",
       "            }\n",
       "            fig.context.drawImage(fig.imageObj, 0, 0);\n",
       "        };\n",
       "\n",
       "    this.imageObj.onunload = function() {\n",
       "        fig.ws.close();\n",
       "    }\n",
       "\n",
       "    this.ws.onmessage = this._make_on_message_function(this);\n",
       "\n",
       "    this.ondownload = ondownload;\n",
       "}\n",
       "\n",
       "mpl.figure.prototype._init_header = function() {\n",
       "    var titlebar = $(\n",
       "        '<div class=\"ui-dialog-titlebar ui-widget-header ui-corner-all ' +\n",
       "        'ui-helper-clearfix\"/>');\n",
       "    var titletext = $(\n",
       "        '<div class=\"ui-dialog-title\" style=\"width: 100%; ' +\n",
       "        'text-align: center; padding: 3px;\"/>');\n",
       "    titlebar.append(titletext)\n",
       "    this.root.append(titlebar);\n",
       "    this.header = titletext[0];\n",
       "}\n",
       "\n",
       "\n",
       "\n",
       "mpl.figure.prototype._canvas_extra_style = function(canvas_div) {\n",
       "\n",
       "}\n",
       "\n",
       "\n",
       "mpl.figure.prototype._root_extra_style = function(canvas_div) {\n",
       "\n",
       "}\n",
       "\n",
       "mpl.figure.prototype._init_canvas = function() {\n",
       "    var fig = this;\n",
       "\n",
       "    var canvas_div = $('<div/>');\n",
       "\n",
       "    canvas_div.attr('style', 'position: relative; clear: both; outline: 0');\n",
       "\n",
       "    function canvas_keyboard_event(event) {\n",
       "        return fig.key_event(event, event['data']);\n",
       "    }\n",
       "\n",
       "    canvas_div.keydown('key_press', canvas_keyboard_event);\n",
       "    canvas_div.keyup('key_release', canvas_keyboard_event);\n",
       "    this.canvas_div = canvas_div\n",
       "    this._canvas_extra_style(canvas_div)\n",
       "    this.root.append(canvas_div);\n",
       "\n",
       "    var canvas = $('<canvas/>');\n",
       "    canvas.addClass('mpl-canvas');\n",
       "    canvas.attr('style', \"left: 0; top: 0; z-index: 0; outline: 0\")\n",
       "\n",
       "    this.canvas = canvas[0];\n",
       "    this.context = canvas[0].getContext(\"2d\");\n",
       "\n",
       "    var backingStore = this.context.backingStorePixelRatio ||\n",
       "\tthis.context.webkitBackingStorePixelRatio ||\n",
       "\tthis.context.mozBackingStorePixelRatio ||\n",
       "\tthis.context.msBackingStorePixelRatio ||\n",
       "\tthis.context.oBackingStorePixelRatio ||\n",
       "\tthis.context.backingStorePixelRatio || 1;\n",
       "\n",
       "    mpl.ratio = (window.devicePixelRatio || 1) / backingStore;\n",
       "\n",
       "    var rubberband = $('<canvas/>');\n",
       "    rubberband.attr('style', \"position: absolute; left: 0; top: 0; z-index: 1;\")\n",
       "\n",
       "    var pass_mouse_events = true;\n",
       "\n",
       "    canvas_div.resizable({\n",
       "        start: function(event, ui) {\n",
       "            pass_mouse_events = false;\n",
       "        },\n",
       "        resize: function(event, ui) {\n",
       "            fig.request_resize(ui.size.width, ui.size.height);\n",
       "        },\n",
       "        stop: function(event, ui) {\n",
       "            pass_mouse_events = true;\n",
       "            fig.request_resize(ui.size.width, ui.size.height);\n",
       "        },\n",
       "    });\n",
       "\n",
       "    function mouse_event_fn(event) {\n",
       "        if (pass_mouse_events)\n",
       "            return fig.mouse_event(event, event['data']);\n",
       "    }\n",
       "\n",
       "    rubberband.mousedown('button_press', mouse_event_fn);\n",
       "    rubberband.mouseup('button_release', mouse_event_fn);\n",
       "    // Throttle sequential mouse events to 1 every 20ms.\n",
       "    rubberband.mousemove('motion_notify', mouse_event_fn);\n",
       "\n",
       "    rubberband.mouseenter('figure_enter', mouse_event_fn);\n",
       "    rubberband.mouseleave('figure_leave', mouse_event_fn);\n",
       "\n",
       "    canvas_div.on(\"wheel\", function (event) {\n",
       "        event = event.originalEvent;\n",
       "        event['data'] = 'scroll'\n",
       "        if (event.deltaY < 0) {\n",
       "            event.step = 1;\n",
       "        } else {\n",
       "            event.step = -1;\n",
       "        }\n",
       "        mouse_event_fn(event);\n",
       "    });\n",
       "\n",
       "    canvas_div.append(canvas);\n",
       "    canvas_div.append(rubberband);\n",
       "\n",
       "    this.rubberband = rubberband;\n",
       "    this.rubberband_canvas = rubberband[0];\n",
       "    this.rubberband_context = rubberband[0].getContext(\"2d\");\n",
       "    this.rubberband_context.strokeStyle = \"#000000\";\n",
       "\n",
       "    this._resize_canvas = function(width, height) {\n",
       "        // Keep the size of the canvas, canvas container, and rubber band\n",
       "        // canvas in synch.\n",
       "        canvas_div.css('width', width)\n",
       "        canvas_div.css('height', height)\n",
       "\n",
       "        canvas.attr('width', width * mpl.ratio);\n",
       "        canvas.attr('height', height * mpl.ratio);\n",
       "        canvas.attr('style', 'width: ' + width + 'px; height: ' + height + 'px;');\n",
       "\n",
       "        rubberband.attr('width', width);\n",
       "        rubberband.attr('height', height);\n",
       "    }\n",
       "\n",
       "    // Set the figure to an initial 600x600px, this will subsequently be updated\n",
       "    // upon first draw.\n",
       "    this._resize_canvas(600, 600);\n",
       "\n",
       "    // Disable right mouse context menu.\n",
       "    $(this.rubberband_canvas).bind(\"contextmenu\",function(e){\n",
       "        return false;\n",
       "    });\n",
       "\n",
       "    function set_focus () {\n",
       "        canvas.focus();\n",
       "        canvas_div.focus();\n",
       "    }\n",
       "\n",
       "    window.setTimeout(set_focus, 100);\n",
       "}\n",
       "\n",
       "mpl.figure.prototype._init_toolbar = function() {\n",
       "    var fig = this;\n",
       "\n",
       "    var nav_element = $('<div/>');\n",
       "    nav_element.attr('style', 'width: 100%');\n",
       "    this.root.append(nav_element);\n",
       "\n",
       "    // Define a callback function for later on.\n",
       "    function toolbar_event(event) {\n",
       "        return fig.toolbar_button_onclick(event['data']);\n",
       "    }\n",
       "    function toolbar_mouse_event(event) {\n",
       "        return fig.toolbar_button_onmouseover(event['data']);\n",
       "    }\n",
       "\n",
       "    for(var toolbar_ind in mpl.toolbar_items) {\n",
       "        var name = mpl.toolbar_items[toolbar_ind][0];\n",
       "        var tooltip = mpl.toolbar_items[toolbar_ind][1];\n",
       "        var image = mpl.toolbar_items[toolbar_ind][2];\n",
       "        var method_name = mpl.toolbar_items[toolbar_ind][3];\n",
       "\n",
       "        if (!name) {\n",
       "            // put a spacer in here.\n",
       "            continue;\n",
       "        }\n",
       "        var button = $('<button/>');\n",
       "        button.addClass('ui-button ui-widget ui-state-default ui-corner-all ' +\n",
       "                        'ui-button-icon-only');\n",
       "        button.attr('role', 'button');\n",
       "        button.attr('aria-disabled', 'false');\n",
       "        button.click(method_name, toolbar_event);\n",
       "        button.mouseover(tooltip, toolbar_mouse_event);\n",
       "\n",
       "        var icon_img = $('<span/>');\n",
       "        icon_img.addClass('ui-button-icon-primary ui-icon');\n",
       "        icon_img.addClass(image);\n",
       "        icon_img.addClass('ui-corner-all');\n",
       "\n",
       "        var tooltip_span = $('<span/>');\n",
       "        tooltip_span.addClass('ui-button-text');\n",
       "        tooltip_span.html(tooltip);\n",
       "\n",
       "        button.append(icon_img);\n",
       "        button.append(tooltip_span);\n",
       "\n",
       "        nav_element.append(button);\n",
       "    }\n",
       "\n",
       "    var fmt_picker_span = $('<span/>');\n",
       "\n",
       "    var fmt_picker = $('<select/>');\n",
       "    fmt_picker.addClass('mpl-toolbar-option ui-widget ui-widget-content');\n",
       "    fmt_picker_span.append(fmt_picker);\n",
       "    nav_element.append(fmt_picker_span);\n",
       "    this.format_dropdown = fmt_picker[0];\n",
       "\n",
       "    for (var ind in mpl.extensions) {\n",
       "        var fmt = mpl.extensions[ind];\n",
       "        var option = $(\n",
       "            '<option/>', {selected: fmt === mpl.default_extension}).html(fmt);\n",
       "        fmt_picker.append(option);\n",
       "    }\n",
       "\n",
       "    // Add hover states to the ui-buttons\n",
       "    $( \".ui-button\" ).hover(\n",
       "        function() { $(this).addClass(\"ui-state-hover\");},\n",
       "        function() { $(this).removeClass(\"ui-state-hover\");}\n",
       "    );\n",
       "\n",
       "    var status_bar = $('<span class=\"mpl-message\"/>');\n",
       "    nav_element.append(status_bar);\n",
       "    this.message = status_bar[0];\n",
       "}\n",
       "\n",
       "mpl.figure.prototype.request_resize = function(x_pixels, y_pixels) {\n",
       "    // Request matplotlib to resize the figure. Matplotlib will then trigger a resize in the client,\n",
       "    // which will in turn request a refresh of the image.\n",
       "    this.send_message('resize', {'width': x_pixels, 'height': y_pixels});\n",
       "}\n",
       "\n",
       "mpl.figure.prototype.send_message = function(type, properties) {\n",
       "    properties['type'] = type;\n",
       "    properties['figure_id'] = this.id;\n",
       "    this.ws.send(JSON.stringify(properties));\n",
       "}\n",
       "\n",
       "mpl.figure.prototype.send_draw_message = function() {\n",
       "    if (!this.waiting) {\n",
       "        this.waiting = true;\n",
       "        this.ws.send(JSON.stringify({type: \"draw\", figure_id: this.id}));\n",
       "    }\n",
       "}\n",
       "\n",
       "\n",
       "mpl.figure.prototype.handle_save = function(fig, msg) {\n",
       "    var format_dropdown = fig.format_dropdown;\n",
       "    var format = format_dropdown.options[format_dropdown.selectedIndex].value;\n",
       "    fig.ondownload(fig, format);\n",
       "}\n",
       "\n",
       "\n",
       "mpl.figure.prototype.handle_resize = function(fig, msg) {\n",
       "    var size = msg['size'];\n",
       "    if (size[0] != fig.canvas.width || size[1] != fig.canvas.height) {\n",
       "        fig._resize_canvas(size[0], size[1]);\n",
       "        fig.send_message(\"refresh\", {});\n",
       "    };\n",
       "}\n",
       "\n",
       "mpl.figure.prototype.handle_rubberband = function(fig, msg) {\n",
       "    var x0 = msg['x0'] / mpl.ratio;\n",
       "    var y0 = (fig.canvas.height - msg['y0']) / mpl.ratio;\n",
       "    var x1 = msg['x1'] / mpl.ratio;\n",
       "    var y1 = (fig.canvas.height - msg['y1']) / mpl.ratio;\n",
       "    x0 = Math.floor(x0) + 0.5;\n",
       "    y0 = Math.floor(y0) + 0.5;\n",
       "    x1 = Math.floor(x1) + 0.5;\n",
       "    y1 = Math.floor(y1) + 0.5;\n",
       "    var min_x = Math.min(x0, x1);\n",
       "    var min_y = Math.min(y0, y1);\n",
       "    var width = Math.abs(x1 - x0);\n",
       "    var height = Math.abs(y1 - y0);\n",
       "\n",
       "    fig.rubberband_context.clearRect(\n",
       "        0, 0, fig.canvas.width, fig.canvas.height);\n",
       "\n",
       "    fig.rubberband_context.strokeRect(min_x, min_y, width, height);\n",
       "}\n",
       "\n",
       "mpl.figure.prototype.handle_figure_label = function(fig, msg) {\n",
       "    // Updates the figure title.\n",
       "    fig.header.textContent = msg['label'];\n",
       "}\n",
       "\n",
       "mpl.figure.prototype.handle_cursor = function(fig, msg) {\n",
       "    var cursor = msg['cursor'];\n",
       "    switch(cursor)\n",
       "    {\n",
       "    case 0:\n",
       "        cursor = 'pointer';\n",
       "        break;\n",
       "    case 1:\n",
       "        cursor = 'default';\n",
       "        break;\n",
       "    case 2:\n",
       "        cursor = 'crosshair';\n",
       "        break;\n",
       "    case 3:\n",
       "        cursor = 'move';\n",
       "        break;\n",
       "    }\n",
       "    fig.rubberband_canvas.style.cursor = cursor;\n",
       "}\n",
       "\n",
       "mpl.figure.prototype.handle_message = function(fig, msg) {\n",
       "    fig.message.textContent = msg['message'];\n",
       "}\n",
       "\n",
       "mpl.figure.prototype.handle_draw = function(fig, msg) {\n",
       "    // Request the server to send over a new figure.\n",
       "    fig.send_draw_message();\n",
       "}\n",
       "\n",
       "mpl.figure.prototype.handle_image_mode = function(fig, msg) {\n",
       "    fig.image_mode = msg['mode'];\n",
       "}\n",
       "\n",
       "mpl.figure.prototype.updated_canvas_event = function() {\n",
       "    // Called whenever the canvas gets updated.\n",
       "    this.send_message(\"ack\", {});\n",
       "}\n",
       "\n",
       "// A function to construct a web socket function for onmessage handling.\n",
       "// Called in the figure constructor.\n",
       "mpl.figure.prototype._make_on_message_function = function(fig) {\n",
       "    return function socket_on_message(evt) {\n",
       "        if (evt.data instanceof Blob) {\n",
       "            /* FIXME: We get \"Resource interpreted as Image but\n",
       "             * transferred with MIME type text/plain:\" errors on\n",
       "             * Chrome.  But how to set the MIME type?  It doesn't seem\n",
       "             * to be part of the websocket stream */\n",
       "            evt.data.type = \"image/png\";\n",
       "\n",
       "            /* Free the memory for the previous frames */\n",
       "            if (fig.imageObj.src) {\n",
       "                (window.URL || window.webkitURL).revokeObjectURL(\n",
       "                    fig.imageObj.src);\n",
       "            }\n",
       "\n",
       "            fig.imageObj.src = (window.URL || window.webkitURL).createObjectURL(\n",
       "                evt.data);\n",
       "            fig.updated_canvas_event();\n",
       "            fig.waiting = false;\n",
       "            return;\n",
       "        }\n",
       "        else if (typeof evt.data === 'string' && evt.data.slice(0, 21) == \"data:image/png;base64\") {\n",
       "            fig.imageObj.src = evt.data;\n",
       "            fig.updated_canvas_event();\n",
       "            fig.waiting = false;\n",
       "            return;\n",
       "        }\n",
       "\n",
       "        var msg = JSON.parse(evt.data);\n",
       "        var msg_type = msg['type'];\n",
       "\n",
       "        // Call the  \"handle_{type}\" callback, which takes\n",
       "        // the figure and JSON message as its only arguments.\n",
       "        try {\n",
       "            var callback = fig[\"handle_\" + msg_type];\n",
       "        } catch (e) {\n",
       "            console.log(\"No handler for the '\" + msg_type + \"' message type: \", msg);\n",
       "            return;\n",
       "        }\n",
       "\n",
       "        if (callback) {\n",
       "            try {\n",
       "                // console.log(\"Handling '\" + msg_type + \"' message: \", msg);\n",
       "                callback(fig, msg);\n",
       "            } catch (e) {\n",
       "                console.log(\"Exception inside the 'handler_\" + msg_type + \"' callback:\", e, e.stack, msg);\n",
       "            }\n",
       "        }\n",
       "    };\n",
       "}\n",
       "\n",
       "// from http://stackoverflow.com/questions/1114465/getting-mouse-location-in-canvas\n",
       "mpl.findpos = function(e) {\n",
       "    //this section is from http://www.quirksmode.org/js/events_properties.html\n",
       "    var targ;\n",
       "    if (!e)\n",
       "        e = window.event;\n",
       "    if (e.target)\n",
       "        targ = e.target;\n",
       "    else if (e.srcElement)\n",
       "        targ = e.srcElement;\n",
       "    if (targ.nodeType == 3) // defeat Safari bug\n",
       "        targ = targ.parentNode;\n",
       "\n",
       "    // jQuery normalizes the pageX and pageY\n",
       "    // pageX,Y are the mouse positions relative to the document\n",
       "    // offset() returns the position of the element relative to the document\n",
       "    var x = e.pageX - $(targ).offset().left;\n",
       "    var y = e.pageY - $(targ).offset().top;\n",
       "\n",
       "    return {\"x\": x, \"y\": y};\n",
       "};\n",
       "\n",
       "/*\n",
       " * return a copy of an object with only non-object keys\n",
       " * we need this to avoid circular references\n",
       " * http://stackoverflow.com/a/24161582/3208463\n",
       " */\n",
       "function simpleKeys (original) {\n",
       "  return Object.keys(original).reduce(function (obj, key) {\n",
       "    if (typeof original[key] !== 'object')\n",
       "        obj[key] = original[key]\n",
       "    return obj;\n",
       "  }, {});\n",
       "}\n",
       "\n",
       "mpl.figure.prototype.mouse_event = function(event, name) {\n",
       "    var canvas_pos = mpl.findpos(event)\n",
       "\n",
       "    if (name === 'button_press')\n",
       "    {\n",
       "        this.canvas.focus();\n",
       "        this.canvas_div.focus();\n",
       "    }\n",
       "\n",
       "    var x = canvas_pos.x * mpl.ratio;\n",
       "    var y = canvas_pos.y * mpl.ratio;\n",
       "\n",
       "    this.send_message(name, {x: x, y: y, button: event.button,\n",
       "                             step: event.step,\n",
       "                             guiEvent: simpleKeys(event)});\n",
       "\n",
       "    /* This prevents the web browser from automatically changing to\n",
       "     * the text insertion cursor when the button is pressed.  We want\n",
       "     * to control all of the cursor setting manually through the\n",
       "     * 'cursor' event from matplotlib */\n",
       "    event.preventDefault();\n",
       "    return false;\n",
       "}\n",
       "\n",
       "mpl.figure.prototype._key_event_extra = function(event, name) {\n",
       "    // Handle any extra behaviour associated with a key event\n",
       "}\n",
       "\n",
       "mpl.figure.prototype.key_event = function(event, name) {\n",
       "\n",
       "    // Prevent repeat events\n",
       "    if (name == 'key_press')\n",
       "    {\n",
       "        if (event.which === this._key)\n",
       "            return;\n",
       "        else\n",
       "            this._key = event.which;\n",
       "    }\n",
       "    if (name == 'key_release')\n",
       "        this._key = null;\n",
       "\n",
       "    var value = '';\n",
       "    if (event.ctrlKey && event.which != 17)\n",
       "        value += \"ctrl+\";\n",
       "    if (event.altKey && event.which != 18)\n",
       "        value += \"alt+\";\n",
       "    if (event.shiftKey && event.which != 16)\n",
       "        value += \"shift+\";\n",
       "\n",
       "    value += 'k';\n",
       "    value += event.which.toString();\n",
       "\n",
       "    this._key_event_extra(event, name);\n",
       "\n",
       "    this.send_message(name, {key: value,\n",
       "                             guiEvent: simpleKeys(event)});\n",
       "    return false;\n",
       "}\n",
       "\n",
       "mpl.figure.prototype.toolbar_button_onclick = function(name) {\n",
       "    if (name == 'download') {\n",
       "        this.handle_save(this, null);\n",
       "    } else {\n",
       "        this.send_message(\"toolbar_button\", {name: name});\n",
       "    }\n",
       "};\n",
       "\n",
       "mpl.figure.prototype.toolbar_button_onmouseover = function(tooltip) {\n",
       "    this.message.textContent = tooltip;\n",
       "};\n",
       "mpl.toolbar_items = [[\"Home\", \"Reset original view\", \"fa fa-home icon-home\", \"home\"], [\"Back\", \"Back to previous view\", \"fa fa-arrow-left icon-arrow-left\", \"back\"], [\"Forward\", \"Forward to next view\", \"fa fa-arrow-right icon-arrow-right\", \"forward\"], [\"\", \"\", \"\", \"\"], [\"Pan\", \"Pan axes with left mouse, zoom with right\", \"fa fa-arrows icon-move\", \"pan\"], [\"Zoom\", \"Zoom to rectangle\", \"fa fa-square-o icon-check-empty\", \"zoom\"], [\"\", \"\", \"\", \"\"], [\"Download\", \"Download plot\", \"fa fa-floppy-o icon-save\", \"download\"]];\n",
       "\n",
       "mpl.extensions = [\"eps\", \"jpeg\", \"pdf\", \"png\", \"ps\", \"raw\", \"svg\", \"tif\"];\n",
       "\n",
       "mpl.default_extension = \"png\";var comm_websocket_adapter = function(comm) {\n",
       "    // Create a \"websocket\"-like object which calls the given IPython comm\n",
       "    // object with the appropriate methods. Currently this is a non binary\n",
       "    // socket, so there is still some room for performance tuning.\n",
       "    var ws = {};\n",
       "\n",
       "    ws.close = function() {\n",
       "        comm.close()\n",
       "    };\n",
       "    ws.send = function(m) {\n",
       "        //console.log('sending', m);\n",
       "        comm.send(m);\n",
       "    };\n",
       "    // Register the callback with on_msg.\n",
       "    comm.on_msg(function(msg) {\n",
       "        //console.log('receiving', msg['content']['data'], msg);\n",
       "        // Pass the mpl event to the overridden (by mpl) onmessage function.\n",
       "        ws.onmessage(msg['content']['data'])\n",
       "    });\n",
       "    return ws;\n",
       "}\n",
       "\n",
       "mpl.mpl_figure_comm = function(comm, msg) {\n",
       "    // This is the function which gets called when the mpl process\n",
       "    // starts-up an IPython Comm through the \"matplotlib\" channel.\n",
       "\n",
       "    var id = msg.content.data.id;\n",
       "    // Get hold of the div created by the display call when the Comm\n",
       "    // socket was opened in Python.\n",
       "    var element = $(\"#\" + id);\n",
       "    var ws_proxy = comm_websocket_adapter(comm)\n",
       "\n",
       "    function ondownload(figure, format) {\n",
       "        window.open(figure.imageObj.src);\n",
       "    }\n",
       "\n",
       "    var fig = new mpl.figure(id, ws_proxy,\n",
       "                           ondownload,\n",
       "                           element.get(0));\n",
       "\n",
       "    // Call onopen now - mpl needs it, as it is assuming we've passed it a real\n",
       "    // web socket which is closed, not our websocket->open comm proxy.\n",
       "    ws_proxy.onopen();\n",
       "\n",
       "    fig.parent_element = element.get(0);\n",
       "    fig.cell_info = mpl.find_output_cell(\"<div id='\" + id + \"'></div>\");\n",
       "    if (!fig.cell_info) {\n",
       "        console.error(\"Failed to find cell for figure\", id, fig);\n",
       "        return;\n",
       "    }\n",
       "\n",
       "    var output_index = fig.cell_info[2]\n",
       "    var cell = fig.cell_info[0];\n",
       "\n",
       "};\n",
       "\n",
       "mpl.figure.prototype.handle_close = function(fig, msg) {\n",
       "    var width = fig.canvas.width/mpl.ratio\n",
       "    fig.root.unbind('remove')\n",
       "\n",
       "    // Update the output cell to use the data from the current canvas.\n",
       "    fig.push_to_output();\n",
       "    var dataURL = fig.canvas.toDataURL();\n",
       "    // Re-enable the keyboard manager in IPython - without this line, in FF,\n",
       "    // the notebook keyboard shortcuts fail.\n",
       "    IPython.keyboard_manager.enable()\n",
       "    $(fig.parent_element).html('<img src=\"' + dataURL + '\" width=\"' + width + '\">');\n",
       "    fig.close_ws(fig, msg);\n",
       "}\n",
       "\n",
       "mpl.figure.prototype.close_ws = function(fig, msg){\n",
       "    fig.send_message('closing', msg);\n",
       "    // fig.ws.close()\n",
       "}\n",
       "\n",
       "mpl.figure.prototype.push_to_output = function(remove_interactive) {\n",
       "    // Turn the data on the canvas into data in the output cell.\n",
       "    var width = this.canvas.width/mpl.ratio\n",
       "    var dataURL = this.canvas.toDataURL();\n",
       "    this.cell_info[1]['text/html'] = '<img src=\"' + dataURL + '\" width=\"' + width + '\">';\n",
       "}\n",
       "\n",
       "mpl.figure.prototype.updated_canvas_event = function() {\n",
       "    // Tell IPython that the notebook contents must change.\n",
       "    IPython.notebook.set_dirty(true);\n",
       "    this.send_message(\"ack\", {});\n",
       "    var fig = this;\n",
       "    // Wait a second, then push the new image to the DOM so\n",
       "    // that it is saved nicely (might be nice to debounce this).\n",
       "    setTimeout(function () { fig.push_to_output() }, 1000);\n",
       "}\n",
       "\n",
       "mpl.figure.prototype._init_toolbar = function() {\n",
       "    var fig = this;\n",
       "\n",
       "    var nav_element = $('<div/>');\n",
       "    nav_element.attr('style', 'width: 100%');\n",
       "    this.root.append(nav_element);\n",
       "\n",
       "    // Define a callback function for later on.\n",
       "    function toolbar_event(event) {\n",
       "        return fig.toolbar_button_onclick(event['data']);\n",
       "    }\n",
       "    function toolbar_mouse_event(event) {\n",
       "        return fig.toolbar_button_onmouseover(event['data']);\n",
       "    }\n",
       "\n",
       "    for(var toolbar_ind in mpl.toolbar_items){\n",
       "        var name = mpl.toolbar_items[toolbar_ind][0];\n",
       "        var tooltip = mpl.toolbar_items[toolbar_ind][1];\n",
       "        var image = mpl.toolbar_items[toolbar_ind][2];\n",
       "        var method_name = mpl.toolbar_items[toolbar_ind][3];\n",
       "\n",
       "        if (!name) { continue; };\n",
       "\n",
       "        var button = $('<button class=\"btn btn-default\" href=\"#\" title=\"' + name + '\"><i class=\"fa ' + image + ' fa-lg\"></i></button>');\n",
       "        button.click(method_name, toolbar_event);\n",
       "        button.mouseover(tooltip, toolbar_mouse_event);\n",
       "        nav_element.append(button);\n",
       "    }\n",
       "\n",
       "    // Add the status bar.\n",
       "    var status_bar = $('<span class=\"mpl-message\" style=\"text-align:right; float: right;\"/>');\n",
       "    nav_element.append(status_bar);\n",
       "    this.message = status_bar[0];\n",
       "\n",
       "    // Add the close button to the window.\n",
       "    var buttongrp = $('<div class=\"btn-group inline pull-right\"></div>');\n",
       "    var button = $('<button class=\"btn btn-mini btn-primary\" href=\"#\" title=\"Stop Interaction\"><i class=\"fa fa-power-off icon-remove icon-large\"></i></button>');\n",
       "    button.click(function (evt) { fig.handle_close(fig, {}); } );\n",
       "    button.mouseover('Stop Interaction', toolbar_mouse_event);\n",
       "    buttongrp.append(button);\n",
       "    var titlebar = this.root.find($('.ui-dialog-titlebar'));\n",
       "    titlebar.prepend(buttongrp);\n",
       "}\n",
       "\n",
       "mpl.figure.prototype._root_extra_style = function(el){\n",
       "    var fig = this\n",
       "    el.on(\"remove\", function(){\n",
       "\tfig.close_ws(fig, {});\n",
       "    });\n",
       "}\n",
       "\n",
       "mpl.figure.prototype._canvas_extra_style = function(el){\n",
       "    // this is important to make the div 'focusable\n",
       "    el.attr('tabindex', 0)\n",
       "    // reach out to IPython and tell the keyboard manager to turn it's self\n",
       "    // off when our div gets focus\n",
       "\n",
       "    // location in version 3\n",
       "    if (IPython.notebook.keyboard_manager) {\n",
       "        IPython.notebook.keyboard_manager.register_events(el);\n",
       "    }\n",
       "    else {\n",
       "        // location in version 2\n",
       "        IPython.keyboard_manager.register_events(el);\n",
       "    }\n",
       "\n",
       "}\n",
       "\n",
       "mpl.figure.prototype._key_event_extra = function(event, name) {\n",
       "    var manager = IPython.notebook.keyboard_manager;\n",
       "    if (!manager)\n",
       "        manager = IPython.keyboard_manager;\n",
       "\n",
       "    // Check for shift+enter\n",
       "    if (event.shiftKey && event.which == 13) {\n",
       "        this.canvas_div.blur();\n",
       "        event.shiftKey = false;\n",
       "        // Send a \"J\" for go to next cell\n",
       "        event.which = 74;\n",
       "        event.keyCode = 74;\n",
       "        manager.command_mode();\n",
       "        manager.handle_keydown(event);\n",
       "    }\n",
       "}\n",
       "\n",
       "mpl.figure.prototype.handle_save = function(fig, msg) {\n",
       "    fig.ondownload(fig, null);\n",
       "}\n",
       "\n",
       "\n",
       "mpl.find_output_cell = function(html_output) {\n",
       "    // Return the cell and output element which can be found *uniquely* in the notebook.\n",
       "    // Note - this is a bit hacky, but it is done because the \"notebook_saving.Notebook\"\n",
       "    // IPython event is triggered only after the cells have been serialised, which for\n",
       "    // our purposes (turning an active figure into a static one), is too late.\n",
       "    var cells = IPython.notebook.get_cells();\n",
       "    var ncells = cells.length;\n",
       "    for (var i=0; i<ncells; i++) {\n",
       "        var cell = cells[i];\n",
       "        if (cell.cell_type === 'code'){\n",
       "            for (var j=0; j<cell.output_area.outputs.length; j++) {\n",
       "                var data = cell.output_area.outputs[j];\n",
       "                if (data.data) {\n",
       "                    // IPython >= 3 moved mimebundle to data attribute of output\n",
       "                    data = data.data;\n",
       "                }\n",
       "                if (data['text/html'] == html_output) {\n",
       "                    return [cell, data, j];\n",
       "                }\n",
       "            }\n",
       "        }\n",
       "    }\n",
       "}\n",
       "\n",
       "// Register the function which deals with the matplotlib target/channel.\n",
       "// The kernel may be null if the page has been refreshed.\n",
       "if (IPython.notebook.kernel != null) {\n",
       "    IPython.notebook.kernel.comm_manager.register_target('matplotlib', mpl.mpl_figure_comm);\n",
       "}\n"
      ],
      "text/plain": [
       "<IPython.core.display.Javascript object>"
      ]
     },
     "metadata": {},
     "output_type": "display_data"
    },
    {
     "data": {
      "text/html": [
       "<img src=\"data:image/png;base64,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\" width=\"640\">"
      ],
      "text/plain": [
       "<IPython.core.display.HTML object>"
      ]
     },
     "metadata": {},
     "output_type": "display_data"
    },
    {
     "data": {
      "text/plain": [
       "[<matplotlib.lines.Line2D at 0x1c914945160>]"
      ]
     },
     "execution_count": 8,
     "metadata": {},
     "output_type": "execute_result"
    }
   ],
   "source": [
    "fig = plt.figure()\n",
    "ax = fig.add_subplot(221)\n",
    "ax.plot(theta, s, '.')\n",
    "ax = fig.add_subplot(222)\n",
    "ax.plot(theta, s, '.')\n",
    "ax = fig.add_subplot(223)\n",
    "ax.plot(theta, s, '.')\n",
    "ax = fig.add_subplot(224)\n",
    "ax.plot(theta, s, '.')"
   ]
  },
  {
   "cell_type": "code",
   "execution_count": null,
   "metadata": {},
   "outputs": [],
   "source": [
    "theta=np.arange(0,2*np.pi,0.1)하면 더 빽뺵함."
   ]
  },
  {
   "cell_type": "code",
   "execution_count": 15,
   "metadata": {},
   "outputs": [
    {
     "data": {
      "text/plain": [
       "array([0. , 0.1, 0.2, 0.3, 0.4, 0.5, 0.6, 0.7, 0.8, 0.9, 1. , 1.1, 1.2,\n",
       "       1.3, 1.4, 1.5, 1.6, 1.7, 1.8, 1.9, 2. , 2.1, 2.2, 2.3, 2.4, 2.5,\n",
       "       2.6, 2.7, 2.8, 2.9, 3. , 3.1, 3.2, 3.3, 3.4, 3.5, 3.6, 3.7, 3.8,\n",
       "       3.9, 4. , 4.1, 4.2, 4.3, 4.4, 4.5, 4.6, 4.7, 4.8, 4.9, 5. , 5.1,\n",
       "       5.2, 5.3, 5.4, 5.5, 5.6, 5.7, 5.8, 5.9, 6. , 6.1, 6.2])"
      ]
     },
     "execution_count": 15,
     "metadata": {},
     "output_type": "execute_result"
    }
   ],
   "source": [
    "theta=np.arange(0,2*np.pi,0.1)\n",
    "theta"
   ]
  },
  {
   "cell_type": "code",
   "execution_count": 16,
   "metadata": {},
   "outputs": [
    {
     "data": {
      "text/plain": [
       "array([ 0.        ,  0.09983342,  0.19866933,  0.29552021,  0.38941834,\n",
       "        0.47942554,  0.56464247,  0.64421769,  0.71735609,  0.78332691,\n",
       "        0.84147098,  0.89120736,  0.93203909,  0.96355819,  0.98544973,\n",
       "        0.99749499,  0.9995736 ,  0.99166481,  0.97384763,  0.94630009,\n",
       "        0.90929743,  0.86320937,  0.8084964 ,  0.74570521,  0.67546318,\n",
       "        0.59847214,  0.51550137,  0.42737988,  0.33498815,  0.23924933,\n",
       "        0.14112001,  0.04158066, -0.05837414, -0.15774569, -0.2555411 ,\n",
       "       -0.35078323, -0.44252044, -0.52983614, -0.61185789, -0.68776616,\n",
       "       -0.7568025 , -0.81827711, -0.87157577, -0.91616594, -0.95160207,\n",
       "       -0.97753012, -0.993691  , -0.99992326, -0.99616461, -0.98245261,\n",
       "       -0.95892427, -0.92581468, -0.88345466, -0.83226744, -0.77276449,\n",
       "       -0.70554033, -0.63126664, -0.55068554, -0.46460218, -0.37387666,\n",
       "       -0.2794155 , -0.1821625 , -0.0830894 ])"
      ]
     },
     "execution_count": 16,
     "metadata": {},
     "output_type": "execute_result"
    }
   ],
   "source": [
    "s=np.sin(theta)\n",
    "s"
   ]
  },
  {
   "cell_type": "code",
   "execution_count": 13,
   "metadata": {},
   "outputs": [
    {
     "data": {
      "application/javascript": [
       "/* Put everything inside the global mpl namespace */\n",
       "window.mpl = {};\n",
       "\n",
       "\n",
       "mpl.get_websocket_type = function() {\n",
       "    if (typeof(WebSocket) !== 'undefined') {\n",
       "        return WebSocket;\n",
       "    } else if (typeof(MozWebSocket) !== 'undefined') {\n",
       "        return MozWebSocket;\n",
       "    } else {\n",
       "        alert('Your browser does not have WebSocket support. ' +\n",
       "              'Please try Chrome, Safari or Firefox ≥ 6. ' +\n",
       "              'Firefox 4 and 5 are also supported but you ' +\n",
       "              'have to enable WebSockets in about:config.');\n",
       "    };\n",
       "}\n",
       "\n",
       "mpl.figure = function(figure_id, websocket, ondownload, parent_element) {\n",
       "    this.id = figure_id;\n",
       "\n",
       "    this.ws = websocket;\n",
       "\n",
       "    this.supports_binary = (this.ws.binaryType != undefined);\n",
       "\n",
       "    if (!this.supports_binary) {\n",
       "        var warnings = document.getElementById(\"mpl-warnings\");\n",
       "        if (warnings) {\n",
       "            warnings.style.display = 'block';\n",
       "            warnings.textContent = (\n",
       "                \"This browser does not support binary websocket messages. \" +\n",
       "                    \"Performance may be slow.\");\n",
       "        }\n",
       "    }\n",
       "\n",
       "    this.imageObj = new Image();\n",
       "\n",
       "    this.context = undefined;\n",
       "    this.message = undefined;\n",
       "    this.canvas = undefined;\n",
       "    this.rubberband_canvas = undefined;\n",
       "    this.rubberband_context = undefined;\n",
       "    this.format_dropdown = undefined;\n",
       "\n",
       "    this.image_mode = 'full';\n",
       "\n",
       "    this.root = $('<div/>');\n",
       "    this._root_extra_style(this.root)\n",
       "    this.root.attr('style', 'display: inline-block');\n",
       "\n",
       "    $(parent_element).append(this.root);\n",
       "\n",
       "    this._init_header(this);\n",
       "    this._init_canvas(this);\n",
       "    this._init_toolbar(this);\n",
       "\n",
       "    var fig = this;\n",
       "\n",
       "    this.waiting = false;\n",
       "\n",
       "    this.ws.onopen =  function () {\n",
       "            fig.send_message(\"supports_binary\", {value: fig.supports_binary});\n",
       "            fig.send_message(\"send_image_mode\", {});\n",
       "            if (mpl.ratio != 1) {\n",
       "                fig.send_message(\"set_dpi_ratio\", {'dpi_ratio': mpl.ratio});\n",
       "            }\n",
       "            fig.send_message(\"refresh\", {});\n",
       "        }\n",
       "\n",
       "    this.imageObj.onload = function() {\n",
       "            if (fig.image_mode == 'full') {\n",
       "                // Full images could contain transparency (where diff images\n",
       "                // almost always do), so we need to clear the canvas so that\n",
       "                // there is no ghosting.\n",
       "                fig.context.clearRect(0, 0, fig.canvas.width, fig.canvas.height);\n",
       "            }\n",
       "            fig.context.drawImage(fig.imageObj, 0, 0);\n",
       "        };\n",
       "\n",
       "    this.imageObj.onunload = function() {\n",
       "        fig.ws.close();\n",
       "    }\n",
       "\n",
       "    this.ws.onmessage = this._make_on_message_function(this);\n",
       "\n",
       "    this.ondownload = ondownload;\n",
       "}\n",
       "\n",
       "mpl.figure.prototype._init_header = function() {\n",
       "    var titlebar = $(\n",
       "        '<div class=\"ui-dialog-titlebar ui-widget-header ui-corner-all ' +\n",
       "        'ui-helper-clearfix\"/>');\n",
       "    var titletext = $(\n",
       "        '<div class=\"ui-dialog-title\" style=\"width: 100%; ' +\n",
       "        'text-align: center; padding: 3px;\"/>');\n",
       "    titlebar.append(titletext)\n",
       "    this.root.append(titlebar);\n",
       "    this.header = titletext[0];\n",
       "}\n",
       "\n",
       "\n",
       "\n",
       "mpl.figure.prototype._canvas_extra_style = function(canvas_div) {\n",
       "\n",
       "}\n",
       "\n",
       "\n",
       "mpl.figure.prototype._root_extra_style = function(canvas_div) {\n",
       "\n",
       "}\n",
       "\n",
       "mpl.figure.prototype._init_canvas = function() {\n",
       "    var fig = this;\n",
       "\n",
       "    var canvas_div = $('<div/>');\n",
       "\n",
       "    canvas_div.attr('style', 'position: relative; clear: both; outline: 0');\n",
       "\n",
       "    function canvas_keyboard_event(event) {\n",
       "        return fig.key_event(event, event['data']);\n",
       "    }\n",
       "\n",
       "    canvas_div.keydown('key_press', canvas_keyboard_event);\n",
       "    canvas_div.keyup('key_release', canvas_keyboard_event);\n",
       "    this.canvas_div = canvas_div\n",
       "    this._canvas_extra_style(canvas_div)\n",
       "    this.root.append(canvas_div);\n",
       "\n",
       "    var canvas = $('<canvas/>');\n",
       "    canvas.addClass('mpl-canvas');\n",
       "    canvas.attr('style', \"left: 0; top: 0; z-index: 0; outline: 0\")\n",
       "\n",
       "    this.canvas = canvas[0];\n",
       "    this.context = canvas[0].getContext(\"2d\");\n",
       "\n",
       "    var backingStore = this.context.backingStorePixelRatio ||\n",
       "\tthis.context.webkitBackingStorePixelRatio ||\n",
       "\tthis.context.mozBackingStorePixelRatio ||\n",
       "\tthis.context.msBackingStorePixelRatio ||\n",
       "\tthis.context.oBackingStorePixelRatio ||\n",
       "\tthis.context.backingStorePixelRatio || 1;\n",
       "\n",
       "    mpl.ratio = (window.devicePixelRatio || 1) / backingStore;\n",
       "\n",
       "    var rubberband = $('<canvas/>');\n",
       "    rubberband.attr('style', \"position: absolute; left: 0; top: 0; z-index: 1;\")\n",
       "\n",
       "    var pass_mouse_events = true;\n",
       "\n",
       "    canvas_div.resizable({\n",
       "        start: function(event, ui) {\n",
       "            pass_mouse_events = false;\n",
       "        },\n",
       "        resize: function(event, ui) {\n",
       "            fig.request_resize(ui.size.width, ui.size.height);\n",
       "        },\n",
       "        stop: function(event, ui) {\n",
       "            pass_mouse_events = true;\n",
       "            fig.request_resize(ui.size.width, ui.size.height);\n",
       "        },\n",
       "    });\n",
       "\n",
       "    function mouse_event_fn(event) {\n",
       "        if (pass_mouse_events)\n",
       "            return fig.mouse_event(event, event['data']);\n",
       "    }\n",
       "\n",
       "    rubberband.mousedown('button_press', mouse_event_fn);\n",
       "    rubberband.mouseup('button_release', mouse_event_fn);\n",
       "    // Throttle sequential mouse events to 1 every 20ms.\n",
       "    rubberband.mousemove('motion_notify', mouse_event_fn);\n",
       "\n",
       "    rubberband.mouseenter('figure_enter', mouse_event_fn);\n",
       "    rubberband.mouseleave('figure_leave', mouse_event_fn);\n",
       "\n",
       "    canvas_div.on(\"wheel\", function (event) {\n",
       "        event = event.originalEvent;\n",
       "        event['data'] = 'scroll'\n",
       "        if (event.deltaY < 0) {\n",
       "            event.step = 1;\n",
       "        } else {\n",
       "            event.step = -1;\n",
       "        }\n",
       "        mouse_event_fn(event);\n",
       "    });\n",
       "\n",
       "    canvas_div.append(canvas);\n",
       "    canvas_div.append(rubberband);\n",
       "\n",
       "    this.rubberband = rubberband;\n",
       "    this.rubberband_canvas = rubberband[0];\n",
       "    this.rubberband_context = rubberband[0].getContext(\"2d\");\n",
       "    this.rubberband_context.strokeStyle = \"#000000\";\n",
       "\n",
       "    this._resize_canvas = function(width, height) {\n",
       "        // Keep the size of the canvas, canvas container, and rubber band\n",
       "        // canvas in synch.\n",
       "        canvas_div.css('width', width)\n",
       "        canvas_div.css('height', height)\n",
       "\n",
       "        canvas.attr('width', width * mpl.ratio);\n",
       "        canvas.attr('height', height * mpl.ratio);\n",
       "        canvas.attr('style', 'width: ' + width + 'px; height: ' + height + 'px;');\n",
       "\n",
       "        rubberband.attr('width', width);\n",
       "        rubberband.attr('height', height);\n",
       "    }\n",
       "\n",
       "    // Set the figure to an initial 600x600px, this will subsequently be updated\n",
       "    // upon first draw.\n",
       "    this._resize_canvas(600, 600);\n",
       "\n",
       "    // Disable right mouse context menu.\n",
       "    $(this.rubberband_canvas).bind(\"contextmenu\",function(e){\n",
       "        return false;\n",
       "    });\n",
       "\n",
       "    function set_focus () {\n",
       "        canvas.focus();\n",
       "        canvas_div.focus();\n",
       "    }\n",
       "\n",
       "    window.setTimeout(set_focus, 100);\n",
       "}\n",
       "\n",
       "mpl.figure.prototype._init_toolbar = function() {\n",
       "    var fig = this;\n",
       "\n",
       "    var nav_element = $('<div/>');\n",
       "    nav_element.attr('style', 'width: 100%');\n",
       "    this.root.append(nav_element);\n",
       "\n",
       "    // Define a callback function for later on.\n",
       "    function toolbar_event(event) {\n",
       "        return fig.toolbar_button_onclick(event['data']);\n",
       "    }\n",
       "    function toolbar_mouse_event(event) {\n",
       "        return fig.toolbar_button_onmouseover(event['data']);\n",
       "    }\n",
       "\n",
       "    for(var toolbar_ind in mpl.toolbar_items) {\n",
       "        var name = mpl.toolbar_items[toolbar_ind][0];\n",
       "        var tooltip = mpl.toolbar_items[toolbar_ind][1];\n",
       "        var image = mpl.toolbar_items[toolbar_ind][2];\n",
       "        var method_name = mpl.toolbar_items[toolbar_ind][3];\n",
       "\n",
       "        if (!name) {\n",
       "            // put a spacer in here.\n",
       "            continue;\n",
       "        }\n",
       "        var button = $('<button/>');\n",
       "        button.addClass('ui-button ui-widget ui-state-default ui-corner-all ' +\n",
       "                        'ui-button-icon-only');\n",
       "        button.attr('role', 'button');\n",
       "        button.attr('aria-disabled', 'false');\n",
       "        button.click(method_name, toolbar_event);\n",
       "        button.mouseover(tooltip, toolbar_mouse_event);\n",
       "\n",
       "        var icon_img = $('<span/>');\n",
       "        icon_img.addClass('ui-button-icon-primary ui-icon');\n",
       "        icon_img.addClass(image);\n",
       "        icon_img.addClass('ui-corner-all');\n",
       "\n",
       "        var tooltip_span = $('<span/>');\n",
       "        tooltip_span.addClass('ui-button-text');\n",
       "        tooltip_span.html(tooltip);\n",
       "\n",
       "        button.append(icon_img);\n",
       "        button.append(tooltip_span);\n",
       "\n",
       "        nav_element.append(button);\n",
       "    }\n",
       "\n",
       "    var fmt_picker_span = $('<span/>');\n",
       "\n",
       "    var fmt_picker = $('<select/>');\n",
       "    fmt_picker.addClass('mpl-toolbar-option ui-widget ui-widget-content');\n",
       "    fmt_picker_span.append(fmt_picker);\n",
       "    nav_element.append(fmt_picker_span);\n",
       "    this.format_dropdown = fmt_picker[0];\n",
       "\n",
       "    for (var ind in mpl.extensions) {\n",
       "        var fmt = mpl.extensions[ind];\n",
       "        var option = $(\n",
       "            '<option/>', {selected: fmt === mpl.default_extension}).html(fmt);\n",
       "        fmt_picker.append(option);\n",
       "    }\n",
       "\n",
       "    // Add hover states to the ui-buttons\n",
       "    $( \".ui-button\" ).hover(\n",
       "        function() { $(this).addClass(\"ui-state-hover\");},\n",
       "        function() { $(this).removeClass(\"ui-state-hover\");}\n",
       "    );\n",
       "\n",
       "    var status_bar = $('<span class=\"mpl-message\"/>');\n",
       "    nav_element.append(status_bar);\n",
       "    this.message = status_bar[0];\n",
       "}\n",
       "\n",
       "mpl.figure.prototype.request_resize = function(x_pixels, y_pixels) {\n",
       "    // Request matplotlib to resize the figure. Matplotlib will then trigger a resize in the client,\n",
       "    // which will in turn request a refresh of the image.\n",
       "    this.send_message('resize', {'width': x_pixels, 'height': y_pixels});\n",
       "}\n",
       "\n",
       "mpl.figure.prototype.send_message = function(type, properties) {\n",
       "    properties['type'] = type;\n",
       "    properties['figure_id'] = this.id;\n",
       "    this.ws.send(JSON.stringify(properties));\n",
       "}\n",
       "\n",
       "mpl.figure.prototype.send_draw_message = function() {\n",
       "    if (!this.waiting) {\n",
       "        this.waiting = true;\n",
       "        this.ws.send(JSON.stringify({type: \"draw\", figure_id: this.id}));\n",
       "    }\n",
       "}\n",
       "\n",
       "\n",
       "mpl.figure.prototype.handle_save = function(fig, msg) {\n",
       "    var format_dropdown = fig.format_dropdown;\n",
       "    var format = format_dropdown.options[format_dropdown.selectedIndex].value;\n",
       "    fig.ondownload(fig, format);\n",
       "}\n",
       "\n",
       "\n",
       "mpl.figure.prototype.handle_resize = function(fig, msg) {\n",
       "    var size = msg['size'];\n",
       "    if (size[0] != fig.canvas.width || size[1] != fig.canvas.height) {\n",
       "        fig._resize_canvas(size[0], size[1]);\n",
       "        fig.send_message(\"refresh\", {});\n",
       "    };\n",
       "}\n",
       "\n",
       "mpl.figure.prototype.handle_rubberband = function(fig, msg) {\n",
       "    var x0 = msg['x0'] / mpl.ratio;\n",
       "    var y0 = (fig.canvas.height - msg['y0']) / mpl.ratio;\n",
       "    var x1 = msg['x1'] / mpl.ratio;\n",
       "    var y1 = (fig.canvas.height - msg['y1']) / mpl.ratio;\n",
       "    x0 = Math.floor(x0) + 0.5;\n",
       "    y0 = Math.floor(y0) + 0.5;\n",
       "    x1 = Math.floor(x1) + 0.5;\n",
       "    y1 = Math.floor(y1) + 0.5;\n",
       "    var min_x = Math.min(x0, x1);\n",
       "    var min_y = Math.min(y0, y1);\n",
       "    var width = Math.abs(x1 - x0);\n",
       "    var height = Math.abs(y1 - y0);\n",
       "\n",
       "    fig.rubberband_context.clearRect(\n",
       "        0, 0, fig.canvas.width, fig.canvas.height);\n",
       "\n",
       "    fig.rubberband_context.strokeRect(min_x, min_y, width, height);\n",
       "}\n",
       "\n",
       "mpl.figure.prototype.handle_figure_label = function(fig, msg) {\n",
       "    // Updates the figure title.\n",
       "    fig.header.textContent = msg['label'];\n",
       "}\n",
       "\n",
       "mpl.figure.prototype.handle_cursor = function(fig, msg) {\n",
       "    var cursor = msg['cursor'];\n",
       "    switch(cursor)\n",
       "    {\n",
       "    case 0:\n",
       "        cursor = 'pointer';\n",
       "        break;\n",
       "    case 1:\n",
       "        cursor = 'default';\n",
       "        break;\n",
       "    case 2:\n",
       "        cursor = 'crosshair';\n",
       "        break;\n",
       "    case 3:\n",
       "        cursor = 'move';\n",
       "        break;\n",
       "    }\n",
       "    fig.rubberband_canvas.style.cursor = cursor;\n",
       "}\n",
       "\n",
       "mpl.figure.prototype.handle_message = function(fig, msg) {\n",
       "    fig.message.textContent = msg['message'];\n",
       "}\n",
       "\n",
       "mpl.figure.prototype.handle_draw = function(fig, msg) {\n",
       "    // Request the server to send over a new figure.\n",
       "    fig.send_draw_message();\n",
       "}\n",
       "\n",
       "mpl.figure.prototype.handle_image_mode = function(fig, msg) {\n",
       "    fig.image_mode = msg['mode'];\n",
       "}\n",
       "\n",
       "mpl.figure.prototype.updated_canvas_event = function() {\n",
       "    // Called whenever the canvas gets updated.\n",
       "    this.send_message(\"ack\", {});\n",
       "}\n",
       "\n",
       "// A function to construct a web socket function for onmessage handling.\n",
       "// Called in the figure constructor.\n",
       "mpl.figure.prototype._make_on_message_function = function(fig) {\n",
       "    return function socket_on_message(evt) {\n",
       "        if (evt.data instanceof Blob) {\n",
       "            /* FIXME: We get \"Resource interpreted as Image but\n",
       "             * transferred with MIME type text/plain:\" errors on\n",
       "             * Chrome.  But how to set the MIME type?  It doesn't seem\n",
       "             * to be part of the websocket stream */\n",
       "            evt.data.type = \"image/png\";\n",
       "\n",
       "            /* Free the memory for the previous frames */\n",
       "            if (fig.imageObj.src) {\n",
       "                (window.URL || window.webkitURL).revokeObjectURL(\n",
       "                    fig.imageObj.src);\n",
       "            }\n",
       "\n",
       "            fig.imageObj.src = (window.URL || window.webkitURL).createObjectURL(\n",
       "                evt.data);\n",
       "            fig.updated_canvas_event();\n",
       "            fig.waiting = false;\n",
       "            return;\n",
       "        }\n",
       "        else if (typeof evt.data === 'string' && evt.data.slice(0, 21) == \"data:image/png;base64\") {\n",
       "            fig.imageObj.src = evt.data;\n",
       "            fig.updated_canvas_event();\n",
       "            fig.waiting = false;\n",
       "            return;\n",
       "        }\n",
       "\n",
       "        var msg = JSON.parse(evt.data);\n",
       "        var msg_type = msg['type'];\n",
       "\n",
       "        // Call the  \"handle_{type}\" callback, which takes\n",
       "        // the figure and JSON message as its only arguments.\n",
       "        try {\n",
       "            var callback = fig[\"handle_\" + msg_type];\n",
       "        } catch (e) {\n",
       "            console.log(\"No handler for the '\" + msg_type + \"' message type: \", msg);\n",
       "            return;\n",
       "        }\n",
       "\n",
       "        if (callback) {\n",
       "            try {\n",
       "                // console.log(\"Handling '\" + msg_type + \"' message: \", msg);\n",
       "                callback(fig, msg);\n",
       "            } catch (e) {\n",
       "                console.log(\"Exception inside the 'handler_\" + msg_type + \"' callback:\", e, e.stack, msg);\n",
       "            }\n",
       "        }\n",
       "    };\n",
       "}\n",
       "\n",
       "// from http://stackoverflow.com/questions/1114465/getting-mouse-location-in-canvas\n",
       "mpl.findpos = function(e) {\n",
       "    //this section is from http://www.quirksmode.org/js/events_properties.html\n",
       "    var targ;\n",
       "    if (!e)\n",
       "        e = window.event;\n",
       "    if (e.target)\n",
       "        targ = e.target;\n",
       "    else if (e.srcElement)\n",
       "        targ = e.srcElement;\n",
       "    if (targ.nodeType == 3) // defeat Safari bug\n",
       "        targ = targ.parentNode;\n",
       "\n",
       "    // jQuery normalizes the pageX and pageY\n",
       "    // pageX,Y are the mouse positions relative to the document\n",
       "    // offset() returns the position of the element relative to the document\n",
       "    var x = e.pageX - $(targ).offset().left;\n",
       "    var y = e.pageY - $(targ).offset().top;\n",
       "\n",
       "    return {\"x\": x, \"y\": y};\n",
       "};\n",
       "\n",
       "/*\n",
       " * return a copy of an object with only non-object keys\n",
       " * we need this to avoid circular references\n",
       " * http://stackoverflow.com/a/24161582/3208463\n",
       " */\n",
       "function simpleKeys (original) {\n",
       "  return Object.keys(original).reduce(function (obj, key) {\n",
       "    if (typeof original[key] !== 'object')\n",
       "        obj[key] = original[key]\n",
       "    return obj;\n",
       "  }, {});\n",
       "}\n",
       "\n",
       "mpl.figure.prototype.mouse_event = function(event, name) {\n",
       "    var canvas_pos = mpl.findpos(event)\n",
       "\n",
       "    if (name === 'button_press')\n",
       "    {\n",
       "        this.canvas.focus();\n",
       "        this.canvas_div.focus();\n",
       "    }\n",
       "\n",
       "    var x = canvas_pos.x * mpl.ratio;\n",
       "    var y = canvas_pos.y * mpl.ratio;\n",
       "\n",
       "    this.send_message(name, {x: x, y: y, button: event.button,\n",
       "                             step: event.step,\n",
       "                             guiEvent: simpleKeys(event)});\n",
       "\n",
       "    /* This prevents the web browser from automatically changing to\n",
       "     * the text insertion cursor when the button is pressed.  We want\n",
       "     * to control all of the cursor setting manually through the\n",
       "     * 'cursor' event from matplotlib */\n",
       "    event.preventDefault();\n",
       "    return false;\n",
       "}\n",
       "\n",
       "mpl.figure.prototype._key_event_extra = function(event, name) {\n",
       "    // Handle any extra behaviour associated with a key event\n",
       "}\n",
       "\n",
       "mpl.figure.prototype.key_event = function(event, name) {\n",
       "\n",
       "    // Prevent repeat events\n",
       "    if (name == 'key_press')\n",
       "    {\n",
       "        if (event.which === this._key)\n",
       "            return;\n",
       "        else\n",
       "            this._key = event.which;\n",
       "    }\n",
       "    if (name == 'key_release')\n",
       "        this._key = null;\n",
       "\n",
       "    var value = '';\n",
       "    if (event.ctrlKey && event.which != 17)\n",
       "        value += \"ctrl+\";\n",
       "    if (event.altKey && event.which != 18)\n",
       "        value += \"alt+\";\n",
       "    if (event.shiftKey && event.which != 16)\n",
       "        value += \"shift+\";\n",
       "\n",
       "    value += 'k';\n",
       "    value += event.which.toString();\n",
       "\n",
       "    this._key_event_extra(event, name);\n",
       "\n",
       "    this.send_message(name, {key: value,\n",
       "                             guiEvent: simpleKeys(event)});\n",
       "    return false;\n",
       "}\n",
       "\n",
       "mpl.figure.prototype.toolbar_button_onclick = function(name) {\n",
       "    if (name == 'download') {\n",
       "        this.handle_save(this, null);\n",
       "    } else {\n",
       "        this.send_message(\"toolbar_button\", {name: name});\n",
       "    }\n",
       "};\n",
       "\n",
       "mpl.figure.prototype.toolbar_button_onmouseover = function(tooltip) {\n",
       "    this.message.textContent = tooltip;\n",
       "};\n",
       "mpl.toolbar_items = [[\"Home\", \"Reset original view\", \"fa fa-home icon-home\", \"home\"], [\"Back\", \"Back to previous view\", \"fa fa-arrow-left icon-arrow-left\", \"back\"], [\"Forward\", \"Forward to next view\", \"fa fa-arrow-right icon-arrow-right\", \"forward\"], [\"\", \"\", \"\", \"\"], [\"Pan\", \"Pan axes with left mouse, zoom with right\", \"fa fa-arrows icon-move\", \"pan\"], [\"Zoom\", \"Zoom to rectangle\", \"fa fa-square-o icon-check-empty\", \"zoom\"], [\"\", \"\", \"\", \"\"], [\"Download\", \"Download plot\", \"fa fa-floppy-o icon-save\", \"download\"]];\n",
       "\n",
       "mpl.extensions = [\"eps\", \"jpeg\", \"pdf\", \"png\", \"ps\", \"raw\", \"svg\", \"tif\"];\n",
       "\n",
       "mpl.default_extension = \"png\";var comm_websocket_adapter = function(comm) {\n",
       "    // Create a \"websocket\"-like object which calls the given IPython comm\n",
       "    // object with the appropriate methods. Currently this is a non binary\n",
       "    // socket, so there is still some room for performance tuning.\n",
       "    var ws = {};\n",
       "\n",
       "    ws.close = function() {\n",
       "        comm.close()\n",
       "    };\n",
       "    ws.send = function(m) {\n",
       "        //console.log('sending', m);\n",
       "        comm.send(m);\n",
       "    };\n",
       "    // Register the callback with on_msg.\n",
       "    comm.on_msg(function(msg) {\n",
       "        //console.log('receiving', msg['content']['data'], msg);\n",
       "        // Pass the mpl event to the overridden (by mpl) onmessage function.\n",
       "        ws.onmessage(msg['content']['data'])\n",
       "    });\n",
       "    return ws;\n",
       "}\n",
       "\n",
       "mpl.mpl_figure_comm = function(comm, msg) {\n",
       "    // This is the function which gets called when the mpl process\n",
       "    // starts-up an IPython Comm through the \"matplotlib\" channel.\n",
       "\n",
       "    var id = msg.content.data.id;\n",
       "    // Get hold of the div created by the display call when the Comm\n",
       "    // socket was opened in Python.\n",
       "    var element = $(\"#\" + id);\n",
       "    var ws_proxy = comm_websocket_adapter(comm)\n",
       "\n",
       "    function ondownload(figure, format) {\n",
       "        window.open(figure.imageObj.src);\n",
       "    }\n",
       "\n",
       "    var fig = new mpl.figure(id, ws_proxy,\n",
       "                           ondownload,\n",
       "                           element.get(0));\n",
       "\n",
       "    // Call onopen now - mpl needs it, as it is assuming we've passed it a real\n",
       "    // web socket which is closed, not our websocket->open comm proxy.\n",
       "    ws_proxy.onopen();\n",
       "\n",
       "    fig.parent_element = element.get(0);\n",
       "    fig.cell_info = mpl.find_output_cell(\"<div id='\" + id + \"'></div>\");\n",
       "    if (!fig.cell_info) {\n",
       "        console.error(\"Failed to find cell for figure\", id, fig);\n",
       "        return;\n",
       "    }\n",
       "\n",
       "    var output_index = fig.cell_info[2]\n",
       "    var cell = fig.cell_info[0];\n",
       "\n",
       "};\n",
       "\n",
       "mpl.figure.prototype.handle_close = function(fig, msg) {\n",
       "    var width = fig.canvas.width/mpl.ratio\n",
       "    fig.root.unbind('remove')\n",
       "\n",
       "    // Update the output cell to use the data from the current canvas.\n",
       "    fig.push_to_output();\n",
       "    var dataURL = fig.canvas.toDataURL();\n",
       "    // Re-enable the keyboard manager in IPython - without this line, in FF,\n",
       "    // the notebook keyboard shortcuts fail.\n",
       "    IPython.keyboard_manager.enable()\n",
       "    $(fig.parent_element).html('<img src=\"' + dataURL + '\" width=\"' + width + '\">');\n",
       "    fig.close_ws(fig, msg);\n",
       "}\n",
       "\n",
       "mpl.figure.prototype.close_ws = function(fig, msg){\n",
       "    fig.send_message('closing', msg);\n",
       "    // fig.ws.close()\n",
       "}\n",
       "\n",
       "mpl.figure.prototype.push_to_output = function(remove_interactive) {\n",
       "    // Turn the data on the canvas into data in the output cell.\n",
       "    var width = this.canvas.width/mpl.ratio\n",
       "    var dataURL = this.canvas.toDataURL();\n",
       "    this.cell_info[1]['text/html'] = '<img src=\"' + dataURL + '\" width=\"' + width + '\">';\n",
       "}\n",
       "\n",
       "mpl.figure.prototype.updated_canvas_event = function() {\n",
       "    // Tell IPython that the notebook contents must change.\n",
       "    IPython.notebook.set_dirty(true);\n",
       "    this.send_message(\"ack\", {});\n",
       "    var fig = this;\n",
       "    // Wait a second, then push the new image to the DOM so\n",
       "    // that it is saved nicely (might be nice to debounce this).\n",
       "    setTimeout(function () { fig.push_to_output() }, 1000);\n",
       "}\n",
       "\n",
       "mpl.figure.prototype._init_toolbar = function() {\n",
       "    var fig = this;\n",
       "\n",
       "    var nav_element = $('<div/>');\n",
       "    nav_element.attr('style', 'width: 100%');\n",
       "    this.root.append(nav_element);\n",
       "\n",
       "    // Define a callback function for later on.\n",
       "    function toolbar_event(event) {\n",
       "        return fig.toolbar_button_onclick(event['data']);\n",
       "    }\n",
       "    function toolbar_mouse_event(event) {\n",
       "        return fig.toolbar_button_onmouseover(event['data']);\n",
       "    }\n",
       "\n",
       "    for(var toolbar_ind in mpl.toolbar_items){\n",
       "        var name = mpl.toolbar_items[toolbar_ind][0];\n",
       "        var tooltip = mpl.toolbar_items[toolbar_ind][1];\n",
       "        var image = mpl.toolbar_items[toolbar_ind][2];\n",
       "        var method_name = mpl.toolbar_items[toolbar_ind][3];\n",
       "\n",
       "        if (!name) { continue; };\n",
       "\n",
       "        var button = $('<button class=\"btn btn-default\" href=\"#\" title=\"' + name + '\"><i class=\"fa ' + image + ' fa-lg\"></i></button>');\n",
       "        button.click(method_name, toolbar_event);\n",
       "        button.mouseover(tooltip, toolbar_mouse_event);\n",
       "        nav_element.append(button);\n",
       "    }\n",
       "\n",
       "    // Add the status bar.\n",
       "    var status_bar = $('<span class=\"mpl-message\" style=\"text-align:right; float: right;\"/>');\n",
       "    nav_element.append(status_bar);\n",
       "    this.message = status_bar[0];\n",
       "\n",
       "    // Add the close button to the window.\n",
       "    var buttongrp = $('<div class=\"btn-group inline pull-right\"></div>');\n",
       "    var button = $('<button class=\"btn btn-mini btn-primary\" href=\"#\" title=\"Stop Interaction\"><i class=\"fa fa-power-off icon-remove icon-large\"></i></button>');\n",
       "    button.click(function (evt) { fig.handle_close(fig, {}); } );\n",
       "    button.mouseover('Stop Interaction', toolbar_mouse_event);\n",
       "    buttongrp.append(button);\n",
       "    var titlebar = this.root.find($('.ui-dialog-titlebar'));\n",
       "    titlebar.prepend(buttongrp);\n",
       "}\n",
       "\n",
       "mpl.figure.prototype._root_extra_style = function(el){\n",
       "    var fig = this\n",
       "    el.on(\"remove\", function(){\n",
       "\tfig.close_ws(fig, {});\n",
       "    });\n",
       "}\n",
       "\n",
       "mpl.figure.prototype._canvas_extra_style = function(el){\n",
       "    // this is important to make the div 'focusable\n",
       "    el.attr('tabindex', 0)\n",
       "    // reach out to IPython and tell the keyboard manager to turn it's self\n",
       "    // off when our div gets focus\n",
       "\n",
       "    // location in version 3\n",
       "    if (IPython.notebook.keyboard_manager) {\n",
       "        IPython.notebook.keyboard_manager.register_events(el);\n",
       "    }\n",
       "    else {\n",
       "        // location in version 2\n",
       "        IPython.keyboard_manager.register_events(el);\n",
       "    }\n",
       "\n",
       "}\n",
       "\n",
       "mpl.figure.prototype._key_event_extra = function(event, name) {\n",
       "    var manager = IPython.notebook.keyboard_manager;\n",
       "    if (!manager)\n",
       "        manager = IPython.keyboard_manager;\n",
       "\n",
       "    // Check for shift+enter\n",
       "    if (event.shiftKey && event.which == 13) {\n",
       "        this.canvas_div.blur();\n",
       "        event.shiftKey = false;\n",
       "        // Send a \"J\" for go to next cell\n",
       "        event.which = 74;\n",
       "        event.keyCode = 74;\n",
       "        manager.command_mode();\n",
       "        manager.handle_keydown(event);\n",
       "    }\n",
       "}\n",
       "\n",
       "mpl.figure.prototype.handle_save = function(fig, msg) {\n",
       "    fig.ondownload(fig, null);\n",
       "}\n",
       "\n",
       "\n",
       "mpl.find_output_cell = function(html_output) {\n",
       "    // Return the cell and output element which can be found *uniquely* in the notebook.\n",
       "    // Note - this is a bit hacky, but it is done because the \"notebook_saving.Notebook\"\n",
       "    // IPython event is triggered only after the cells have been serialised, which for\n",
       "    // our purposes (turning an active figure into a static one), is too late.\n",
       "    var cells = IPython.notebook.get_cells();\n",
       "    var ncells = cells.length;\n",
       "    for (var i=0; i<ncells; i++) {\n",
       "        var cell = cells[i];\n",
       "        if (cell.cell_type === 'code'){\n",
       "            for (var j=0; j<cell.output_area.outputs.length; j++) {\n",
       "                var data = cell.output_area.outputs[j];\n",
       "                if (data.data) {\n",
       "                    // IPython >= 3 moved mimebundle to data attribute of output\n",
       "                    data = data.data;\n",
       "                }\n",
       "                if (data['text/html'] == html_output) {\n",
       "                    return [cell, data, j];\n",
       "                }\n",
       "            }\n",
       "        }\n",
       "    }\n",
       "}\n",
       "\n",
       "// Register the function which deals with the matplotlib target/channel.\n",
       "// The kernel may be null if the page has been refreshed.\n",
       "if (IPython.notebook.kernel != null) {\n",
       "    IPython.notebook.kernel.comm_manager.register_target('matplotlib', mpl.mpl_figure_comm);\n",
       "}\n"
      ],
      "text/plain": [
       "<IPython.core.display.Javascript object>"
      ]
     },
     "metadata": {},
     "output_type": "display_data"
    },
    {
     "data": {
      "text/html": [
       "<img src=\"data:image/png;base64,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\" width=\"640\">"
      ],
      "text/plain": [
       "<IPython.core.display.HTML object>"
      ]
     },
     "metadata": {},
     "output_type": "display_data"
    },
    {
     "data": {
      "text/plain": [
       "[<matplotlib.lines.Line2D at 0x1c915063a58>]"
      ]
     },
     "execution_count": 13,
     "metadata": {},
     "output_type": "execute_result"
    }
   ],
   "source": [
    "fig = plt.figure()\n",
    "ax = fig.add_subplot(221)\n",
    "ax.plot(theta, s, '.')\n",
    "ax = fig.add_subplot(222)\n",
    "ax.plot(theta, s, '.')\n",
    "ax = fig.add_subplot(223)\n",
    "ax.plot(theta, s, '.')\n",
    "ax = fig.add_subplot(224)\n",
    "ax.plot(theta, s, '.')"
   ]
  },
  {
   "cell_type": "code",
   "execution_count": null,
   "metadata": {},
   "outputs": [],
   "source": [
    "ax.set_xlabel('time (s)')\n",
    "ax.set_ylabel('real')\n",
    "위의 함수들을 통해 x축과 y축에 라벨링을 할 수 있음.\n",
    "0~2pi까지 범위. exquisistant로 쪼개짐. x축 상에서는 exquisistant(등간격)하지만 y축에서는 exquisistant하지 않음.\n",
    "linear한 경우에는 x, y축 모두 exquisistant하고 non-linear의 경우는 그렇지 않음."
   ]
  },
  {
   "cell_type": "code",
   "execution_count": 20,
   "metadata": {},
   "outputs": [
    {
     "data": {
      "application/javascript": [
       "/* Put everything inside the global mpl namespace */\n",
       "window.mpl = {};\n",
       "\n",
       "\n",
       "mpl.get_websocket_type = function() {\n",
       "    if (typeof(WebSocket) !== 'undefined') {\n",
       "        return WebSocket;\n",
       "    } else if (typeof(MozWebSocket) !== 'undefined') {\n",
       "        return MozWebSocket;\n",
       "    } else {\n",
       "        alert('Your browser does not have WebSocket support. ' +\n",
       "              'Please try Chrome, Safari or Firefox ≥ 6. ' +\n",
       "              'Firefox 4 and 5 are also supported but you ' +\n",
       "              'have to enable WebSockets in about:config.');\n",
       "    };\n",
       "}\n",
       "\n",
       "mpl.figure = function(figure_id, websocket, ondownload, parent_element) {\n",
       "    this.id = figure_id;\n",
       "\n",
       "    this.ws = websocket;\n",
       "\n",
       "    this.supports_binary = (this.ws.binaryType != undefined);\n",
       "\n",
       "    if (!this.supports_binary) {\n",
       "        var warnings = document.getElementById(\"mpl-warnings\");\n",
       "        if (warnings) {\n",
       "            warnings.style.display = 'block';\n",
       "            warnings.textContent = (\n",
       "                \"This browser does not support binary websocket messages. \" +\n",
       "                    \"Performance may be slow.\");\n",
       "        }\n",
       "    }\n",
       "\n",
       "    this.imageObj = new Image();\n",
       "\n",
       "    this.context = undefined;\n",
       "    this.message = undefined;\n",
       "    this.canvas = undefined;\n",
       "    this.rubberband_canvas = undefined;\n",
       "    this.rubberband_context = undefined;\n",
       "    this.format_dropdown = undefined;\n",
       "\n",
       "    this.image_mode = 'full';\n",
       "\n",
       "    this.root = $('<div/>');\n",
       "    this._root_extra_style(this.root)\n",
       "    this.root.attr('style', 'display: inline-block');\n",
       "\n",
       "    $(parent_element).append(this.root);\n",
       "\n",
       "    this._init_header(this);\n",
       "    this._init_canvas(this);\n",
       "    this._init_toolbar(this);\n",
       "\n",
       "    var fig = this;\n",
       "\n",
       "    this.waiting = false;\n",
       "\n",
       "    this.ws.onopen =  function () {\n",
       "            fig.send_message(\"supports_binary\", {value: fig.supports_binary});\n",
       "            fig.send_message(\"send_image_mode\", {});\n",
       "            if (mpl.ratio != 1) {\n",
       "                fig.send_message(\"set_dpi_ratio\", {'dpi_ratio': mpl.ratio});\n",
       "            }\n",
       "            fig.send_message(\"refresh\", {});\n",
       "        }\n",
       "\n",
       "    this.imageObj.onload = function() {\n",
       "            if (fig.image_mode == 'full') {\n",
       "                // Full images could contain transparency (where diff images\n",
       "                // almost always do), so we need to clear the canvas so that\n",
       "                // there is no ghosting.\n",
       "                fig.context.clearRect(0, 0, fig.canvas.width, fig.canvas.height);\n",
       "            }\n",
       "            fig.context.drawImage(fig.imageObj, 0, 0);\n",
       "        };\n",
       "\n",
       "    this.imageObj.onunload = function() {\n",
       "        fig.ws.close();\n",
       "    }\n",
       "\n",
       "    this.ws.onmessage = this._make_on_message_function(this);\n",
       "\n",
       "    this.ondownload = ondownload;\n",
       "}\n",
       "\n",
       "mpl.figure.prototype._init_header = function() {\n",
       "    var titlebar = $(\n",
       "        '<div class=\"ui-dialog-titlebar ui-widget-header ui-corner-all ' +\n",
       "        'ui-helper-clearfix\"/>');\n",
       "    var titletext = $(\n",
       "        '<div class=\"ui-dialog-title\" style=\"width: 100%; ' +\n",
       "        'text-align: center; padding: 3px;\"/>');\n",
       "    titlebar.append(titletext)\n",
       "    this.root.append(titlebar);\n",
       "    this.header = titletext[0];\n",
       "}\n",
       "\n",
       "\n",
       "\n",
       "mpl.figure.prototype._canvas_extra_style = function(canvas_div) {\n",
       "\n",
       "}\n",
       "\n",
       "\n",
       "mpl.figure.prototype._root_extra_style = function(canvas_div) {\n",
       "\n",
       "}\n",
       "\n",
       "mpl.figure.prototype._init_canvas = function() {\n",
       "    var fig = this;\n",
       "\n",
       "    var canvas_div = $('<div/>');\n",
       "\n",
       "    canvas_div.attr('style', 'position: relative; clear: both; outline: 0');\n",
       "\n",
       "    function canvas_keyboard_event(event) {\n",
       "        return fig.key_event(event, event['data']);\n",
       "    }\n",
       "\n",
       "    canvas_div.keydown('key_press', canvas_keyboard_event);\n",
       "    canvas_div.keyup('key_release', canvas_keyboard_event);\n",
       "    this.canvas_div = canvas_div\n",
       "    this._canvas_extra_style(canvas_div)\n",
       "    this.root.append(canvas_div);\n",
       "\n",
       "    var canvas = $('<canvas/>');\n",
       "    canvas.addClass('mpl-canvas');\n",
       "    canvas.attr('style', \"left: 0; top: 0; z-index: 0; outline: 0\")\n",
       "\n",
       "    this.canvas = canvas[0];\n",
       "    this.context = canvas[0].getContext(\"2d\");\n",
       "\n",
       "    var backingStore = this.context.backingStorePixelRatio ||\n",
       "\tthis.context.webkitBackingStorePixelRatio ||\n",
       "\tthis.context.mozBackingStorePixelRatio ||\n",
       "\tthis.context.msBackingStorePixelRatio ||\n",
       "\tthis.context.oBackingStorePixelRatio ||\n",
       "\tthis.context.backingStorePixelRatio || 1;\n",
       "\n",
       "    mpl.ratio = (window.devicePixelRatio || 1) / backingStore;\n",
       "\n",
       "    var rubberband = $('<canvas/>');\n",
       "    rubberband.attr('style', \"position: absolute; left: 0; top: 0; z-index: 1;\")\n",
       "\n",
       "    var pass_mouse_events = true;\n",
       "\n",
       "    canvas_div.resizable({\n",
       "        start: function(event, ui) {\n",
       "            pass_mouse_events = false;\n",
       "        },\n",
       "        resize: function(event, ui) {\n",
       "            fig.request_resize(ui.size.width, ui.size.height);\n",
       "        },\n",
       "        stop: function(event, ui) {\n",
       "            pass_mouse_events = true;\n",
       "            fig.request_resize(ui.size.width, ui.size.height);\n",
       "        },\n",
       "    });\n",
       "\n",
       "    function mouse_event_fn(event) {\n",
       "        if (pass_mouse_events)\n",
       "            return fig.mouse_event(event, event['data']);\n",
       "    }\n",
       "\n",
       "    rubberband.mousedown('button_press', mouse_event_fn);\n",
       "    rubberband.mouseup('button_release', mouse_event_fn);\n",
       "    // Throttle sequential mouse events to 1 every 20ms.\n",
       "    rubberband.mousemove('motion_notify', mouse_event_fn);\n",
       "\n",
       "    rubberband.mouseenter('figure_enter', mouse_event_fn);\n",
       "    rubberband.mouseleave('figure_leave', mouse_event_fn);\n",
       "\n",
       "    canvas_div.on(\"wheel\", function (event) {\n",
       "        event = event.originalEvent;\n",
       "        event['data'] = 'scroll'\n",
       "        if (event.deltaY < 0) {\n",
       "            event.step = 1;\n",
       "        } else {\n",
       "            event.step = -1;\n",
       "        }\n",
       "        mouse_event_fn(event);\n",
       "    });\n",
       "\n",
       "    canvas_div.append(canvas);\n",
       "    canvas_div.append(rubberband);\n",
       "\n",
       "    this.rubberband = rubberband;\n",
       "    this.rubberband_canvas = rubberband[0];\n",
       "    this.rubberband_context = rubberband[0].getContext(\"2d\");\n",
       "    this.rubberband_context.strokeStyle = \"#000000\";\n",
       "\n",
       "    this._resize_canvas = function(width, height) {\n",
       "        // Keep the size of the canvas, canvas container, and rubber band\n",
       "        // canvas in synch.\n",
       "        canvas_div.css('width', width)\n",
       "        canvas_div.css('height', height)\n",
       "\n",
       "        canvas.attr('width', width * mpl.ratio);\n",
       "        canvas.attr('height', height * mpl.ratio);\n",
       "        canvas.attr('style', 'width: ' + width + 'px; height: ' + height + 'px;');\n",
       "\n",
       "        rubberband.attr('width', width);\n",
       "        rubberband.attr('height', height);\n",
       "    }\n",
       "\n",
       "    // Set the figure to an initial 600x600px, this will subsequently be updated\n",
       "    // upon first draw.\n",
       "    this._resize_canvas(600, 600);\n",
       "\n",
       "    // Disable right mouse context menu.\n",
       "    $(this.rubberband_canvas).bind(\"contextmenu\",function(e){\n",
       "        return false;\n",
       "    });\n",
       "\n",
       "    function set_focus () {\n",
       "        canvas.focus();\n",
       "        canvas_div.focus();\n",
       "    }\n",
       "\n",
       "    window.setTimeout(set_focus, 100);\n",
       "}\n",
       "\n",
       "mpl.figure.prototype._init_toolbar = function() {\n",
       "    var fig = this;\n",
       "\n",
       "    var nav_element = $('<div/>');\n",
       "    nav_element.attr('style', 'width: 100%');\n",
       "    this.root.append(nav_element);\n",
       "\n",
       "    // Define a callback function for later on.\n",
       "    function toolbar_event(event) {\n",
       "        return fig.toolbar_button_onclick(event['data']);\n",
       "    }\n",
       "    function toolbar_mouse_event(event) {\n",
       "        return fig.toolbar_button_onmouseover(event['data']);\n",
       "    }\n",
       "\n",
       "    for(var toolbar_ind in mpl.toolbar_items) {\n",
       "        var name = mpl.toolbar_items[toolbar_ind][0];\n",
       "        var tooltip = mpl.toolbar_items[toolbar_ind][1];\n",
       "        var image = mpl.toolbar_items[toolbar_ind][2];\n",
       "        var method_name = mpl.toolbar_items[toolbar_ind][3];\n",
       "\n",
       "        if (!name) {\n",
       "            // put a spacer in here.\n",
       "            continue;\n",
       "        }\n",
       "        var button = $('<button/>');\n",
       "        button.addClass('ui-button ui-widget ui-state-default ui-corner-all ' +\n",
       "                        'ui-button-icon-only');\n",
       "        button.attr('role', 'button');\n",
       "        button.attr('aria-disabled', 'false');\n",
       "        button.click(method_name, toolbar_event);\n",
       "        button.mouseover(tooltip, toolbar_mouse_event);\n",
       "\n",
       "        var icon_img = $('<span/>');\n",
       "        icon_img.addClass('ui-button-icon-primary ui-icon');\n",
       "        icon_img.addClass(image);\n",
       "        icon_img.addClass('ui-corner-all');\n",
       "\n",
       "        var tooltip_span = $('<span/>');\n",
       "        tooltip_span.addClass('ui-button-text');\n",
       "        tooltip_span.html(tooltip);\n",
       "\n",
       "        button.append(icon_img);\n",
       "        button.append(tooltip_span);\n",
       "\n",
       "        nav_element.append(button);\n",
       "    }\n",
       "\n",
       "    var fmt_picker_span = $('<span/>');\n",
       "\n",
       "    var fmt_picker = $('<select/>');\n",
       "    fmt_picker.addClass('mpl-toolbar-option ui-widget ui-widget-content');\n",
       "    fmt_picker_span.append(fmt_picker);\n",
       "    nav_element.append(fmt_picker_span);\n",
       "    this.format_dropdown = fmt_picker[0];\n",
       "\n",
       "    for (var ind in mpl.extensions) {\n",
       "        var fmt = mpl.extensions[ind];\n",
       "        var option = $(\n",
       "            '<option/>', {selected: fmt === mpl.default_extension}).html(fmt);\n",
       "        fmt_picker.append(option);\n",
       "    }\n",
       "\n",
       "    // Add hover states to the ui-buttons\n",
       "    $( \".ui-button\" ).hover(\n",
       "        function() { $(this).addClass(\"ui-state-hover\");},\n",
       "        function() { $(this).removeClass(\"ui-state-hover\");}\n",
       "    );\n",
       "\n",
       "    var status_bar = $('<span class=\"mpl-message\"/>');\n",
       "    nav_element.append(status_bar);\n",
       "    this.message = status_bar[0];\n",
       "}\n",
       "\n",
       "mpl.figure.prototype.request_resize = function(x_pixels, y_pixels) {\n",
       "    // Request matplotlib to resize the figure. Matplotlib will then trigger a resize in the client,\n",
       "    // which will in turn request a refresh of the image.\n",
       "    this.send_message('resize', {'width': x_pixels, 'height': y_pixels});\n",
       "}\n",
       "\n",
       "mpl.figure.prototype.send_message = function(type, properties) {\n",
       "    properties['type'] = type;\n",
       "    properties['figure_id'] = this.id;\n",
       "    this.ws.send(JSON.stringify(properties));\n",
       "}\n",
       "\n",
       "mpl.figure.prototype.send_draw_message = function() {\n",
       "    if (!this.waiting) {\n",
       "        this.waiting = true;\n",
       "        this.ws.send(JSON.stringify({type: \"draw\", figure_id: this.id}));\n",
       "    }\n",
       "}\n",
       "\n",
       "\n",
       "mpl.figure.prototype.handle_save = function(fig, msg) {\n",
       "    var format_dropdown = fig.format_dropdown;\n",
       "    var format = format_dropdown.options[format_dropdown.selectedIndex].value;\n",
       "    fig.ondownload(fig, format);\n",
       "}\n",
       "\n",
       "\n",
       "mpl.figure.prototype.handle_resize = function(fig, msg) {\n",
       "    var size = msg['size'];\n",
       "    if (size[0] != fig.canvas.width || size[1] != fig.canvas.height) {\n",
       "        fig._resize_canvas(size[0], size[1]);\n",
       "        fig.send_message(\"refresh\", {});\n",
       "    };\n",
       "}\n",
       "\n",
       "mpl.figure.prototype.handle_rubberband = function(fig, msg) {\n",
       "    var x0 = msg['x0'] / mpl.ratio;\n",
       "    var y0 = (fig.canvas.height - msg['y0']) / mpl.ratio;\n",
       "    var x1 = msg['x1'] / mpl.ratio;\n",
       "    var y1 = (fig.canvas.height - msg['y1']) / mpl.ratio;\n",
       "    x0 = Math.floor(x0) + 0.5;\n",
       "    y0 = Math.floor(y0) + 0.5;\n",
       "    x1 = Math.floor(x1) + 0.5;\n",
       "    y1 = Math.floor(y1) + 0.5;\n",
       "    var min_x = Math.min(x0, x1);\n",
       "    var min_y = Math.min(y0, y1);\n",
       "    var width = Math.abs(x1 - x0);\n",
       "    var height = Math.abs(y1 - y0);\n",
       "\n",
       "    fig.rubberband_context.clearRect(\n",
       "        0, 0, fig.canvas.width, fig.canvas.height);\n",
       "\n",
       "    fig.rubberband_context.strokeRect(min_x, min_y, width, height);\n",
       "}\n",
       "\n",
       "mpl.figure.prototype.handle_figure_label = function(fig, msg) {\n",
       "    // Updates the figure title.\n",
       "    fig.header.textContent = msg['label'];\n",
       "}\n",
       "\n",
       "mpl.figure.prototype.handle_cursor = function(fig, msg) {\n",
       "    var cursor = msg['cursor'];\n",
       "    switch(cursor)\n",
       "    {\n",
       "    case 0:\n",
       "        cursor = 'pointer';\n",
       "        break;\n",
       "    case 1:\n",
       "        cursor = 'default';\n",
       "        break;\n",
       "    case 2:\n",
       "        cursor = 'crosshair';\n",
       "        break;\n",
       "    case 3:\n",
       "        cursor = 'move';\n",
       "        break;\n",
       "    }\n",
       "    fig.rubberband_canvas.style.cursor = cursor;\n",
       "}\n",
       "\n",
       "mpl.figure.prototype.handle_message = function(fig, msg) {\n",
       "    fig.message.textContent = msg['message'];\n",
       "}\n",
       "\n",
       "mpl.figure.prototype.handle_draw = function(fig, msg) {\n",
       "    // Request the server to send over a new figure.\n",
       "    fig.send_draw_message();\n",
       "}\n",
       "\n",
       "mpl.figure.prototype.handle_image_mode = function(fig, msg) {\n",
       "    fig.image_mode = msg['mode'];\n",
       "}\n",
       "\n",
       "mpl.figure.prototype.updated_canvas_event = function() {\n",
       "    // Called whenever the canvas gets updated.\n",
       "    this.send_message(\"ack\", {});\n",
       "}\n",
       "\n",
       "// A function to construct a web socket function for onmessage handling.\n",
       "// Called in the figure constructor.\n",
       "mpl.figure.prototype._make_on_message_function = function(fig) {\n",
       "    return function socket_on_message(evt) {\n",
       "        if (evt.data instanceof Blob) {\n",
       "            /* FIXME: We get \"Resource interpreted as Image but\n",
       "             * transferred with MIME type text/plain:\" errors on\n",
       "             * Chrome.  But how to set the MIME type?  It doesn't seem\n",
       "             * to be part of the websocket stream */\n",
       "            evt.data.type = \"image/png\";\n",
       "\n",
       "            /* Free the memory for the previous frames */\n",
       "            if (fig.imageObj.src) {\n",
       "                (window.URL || window.webkitURL).revokeObjectURL(\n",
       "                    fig.imageObj.src);\n",
       "            }\n",
       "\n",
       "            fig.imageObj.src = (window.URL || window.webkitURL).createObjectURL(\n",
       "                evt.data);\n",
       "            fig.updated_canvas_event();\n",
       "            fig.waiting = false;\n",
       "            return;\n",
       "        }\n",
       "        else if (typeof evt.data === 'string' && evt.data.slice(0, 21) == \"data:image/png;base64\") {\n",
       "            fig.imageObj.src = evt.data;\n",
       "            fig.updated_canvas_event();\n",
       "            fig.waiting = false;\n",
       "            return;\n",
       "        }\n",
       "\n",
       "        var msg = JSON.parse(evt.data);\n",
       "        var msg_type = msg['type'];\n",
       "\n",
       "        // Call the  \"handle_{type}\" callback, which takes\n",
       "        // the figure and JSON message as its only arguments.\n",
       "        try {\n",
       "            var callback = fig[\"handle_\" + msg_type];\n",
       "        } catch (e) {\n",
       "            console.log(\"No handler for the '\" + msg_type + \"' message type: \", msg);\n",
       "            return;\n",
       "        }\n",
       "\n",
       "        if (callback) {\n",
       "            try {\n",
       "                // console.log(\"Handling '\" + msg_type + \"' message: \", msg);\n",
       "                callback(fig, msg);\n",
       "            } catch (e) {\n",
       "                console.log(\"Exception inside the 'handler_\" + msg_type + \"' callback:\", e, e.stack, msg);\n",
       "            }\n",
       "        }\n",
       "    };\n",
       "}\n",
       "\n",
       "// from http://stackoverflow.com/questions/1114465/getting-mouse-location-in-canvas\n",
       "mpl.findpos = function(e) {\n",
       "    //this section is from http://www.quirksmode.org/js/events_properties.html\n",
       "    var targ;\n",
       "    if (!e)\n",
       "        e = window.event;\n",
       "    if (e.target)\n",
       "        targ = e.target;\n",
       "    else if (e.srcElement)\n",
       "        targ = e.srcElement;\n",
       "    if (targ.nodeType == 3) // defeat Safari bug\n",
       "        targ = targ.parentNode;\n",
       "\n",
       "    // jQuery normalizes the pageX and pageY\n",
       "    // pageX,Y are the mouse positions relative to the document\n",
       "    // offset() returns the position of the element relative to the document\n",
       "    var x = e.pageX - $(targ).offset().left;\n",
       "    var y = e.pageY - $(targ).offset().top;\n",
       "\n",
       "    return {\"x\": x, \"y\": y};\n",
       "};\n",
       "\n",
       "/*\n",
       " * return a copy of an object with only non-object keys\n",
       " * we need this to avoid circular references\n",
       " * http://stackoverflow.com/a/24161582/3208463\n",
       " */\n",
       "function simpleKeys (original) {\n",
       "  return Object.keys(original).reduce(function (obj, key) {\n",
       "    if (typeof original[key] !== 'object')\n",
       "        obj[key] = original[key]\n",
       "    return obj;\n",
       "  }, {});\n",
       "}\n",
       "\n",
       "mpl.figure.prototype.mouse_event = function(event, name) {\n",
       "    var canvas_pos = mpl.findpos(event)\n",
       "\n",
       "    if (name === 'button_press')\n",
       "    {\n",
       "        this.canvas.focus();\n",
       "        this.canvas_div.focus();\n",
       "    }\n",
       "\n",
       "    var x = canvas_pos.x * mpl.ratio;\n",
       "    var y = canvas_pos.y * mpl.ratio;\n",
       "\n",
       "    this.send_message(name, {x: x, y: y, button: event.button,\n",
       "                             step: event.step,\n",
       "                             guiEvent: simpleKeys(event)});\n",
       "\n",
       "    /* This prevents the web browser from automatically changing to\n",
       "     * the text insertion cursor when the button is pressed.  We want\n",
       "     * to control all of the cursor setting manually through the\n",
       "     * 'cursor' event from matplotlib */\n",
       "    event.preventDefault();\n",
       "    return false;\n",
       "}\n",
       "\n",
       "mpl.figure.prototype._key_event_extra = function(event, name) {\n",
       "    // Handle any extra behaviour associated with a key event\n",
       "}\n",
       "\n",
       "mpl.figure.prototype.key_event = function(event, name) {\n",
       "\n",
       "    // Prevent repeat events\n",
       "    if (name == 'key_press')\n",
       "    {\n",
       "        if (event.which === this._key)\n",
       "            return;\n",
       "        else\n",
       "            this._key = event.which;\n",
       "    }\n",
       "    if (name == 'key_release')\n",
       "        this._key = null;\n",
       "\n",
       "    var value = '';\n",
       "    if (event.ctrlKey && event.which != 17)\n",
       "        value += \"ctrl+\";\n",
       "    if (event.altKey && event.which != 18)\n",
       "        value += \"alt+\";\n",
       "    if (event.shiftKey && event.which != 16)\n",
       "        value += \"shift+\";\n",
       "\n",
       "    value += 'k';\n",
       "    value += event.which.toString();\n",
       "\n",
       "    this._key_event_extra(event, name);\n",
       "\n",
       "    this.send_message(name, {key: value,\n",
       "                             guiEvent: simpleKeys(event)});\n",
       "    return false;\n",
       "}\n",
       "\n",
       "mpl.figure.prototype.toolbar_button_onclick = function(name) {\n",
       "    if (name == 'download') {\n",
       "        this.handle_save(this, null);\n",
       "    } else {\n",
       "        this.send_message(\"toolbar_button\", {name: name});\n",
       "    }\n",
       "};\n",
       "\n",
       "mpl.figure.prototype.toolbar_button_onmouseover = function(tooltip) {\n",
       "    this.message.textContent = tooltip;\n",
       "};\n",
       "mpl.toolbar_items = [[\"Home\", \"Reset original view\", \"fa fa-home icon-home\", \"home\"], [\"Back\", \"Back to previous view\", \"fa fa-arrow-left icon-arrow-left\", \"back\"], [\"Forward\", \"Forward to next view\", \"fa fa-arrow-right icon-arrow-right\", \"forward\"], [\"\", \"\", \"\", \"\"], [\"Pan\", \"Pan axes with left mouse, zoom with right\", \"fa fa-arrows icon-move\", \"pan\"], [\"Zoom\", \"Zoom to rectangle\", \"fa fa-square-o icon-check-empty\", \"zoom\"], [\"\", \"\", \"\", \"\"], [\"Download\", \"Download plot\", \"fa fa-floppy-o icon-save\", \"download\"]];\n",
       "\n",
       "mpl.extensions = [\"eps\", \"jpeg\", \"pdf\", \"png\", \"ps\", \"raw\", \"svg\", \"tif\"];\n",
       "\n",
       "mpl.default_extension = \"png\";var comm_websocket_adapter = function(comm) {\n",
       "    // Create a \"websocket\"-like object which calls the given IPython comm\n",
       "    // object with the appropriate methods. Currently this is a non binary\n",
       "    // socket, so there is still some room for performance tuning.\n",
       "    var ws = {};\n",
       "\n",
       "    ws.close = function() {\n",
       "        comm.close()\n",
       "    };\n",
       "    ws.send = function(m) {\n",
       "        //console.log('sending', m);\n",
       "        comm.send(m);\n",
       "    };\n",
       "    // Register the callback with on_msg.\n",
       "    comm.on_msg(function(msg) {\n",
       "        //console.log('receiving', msg['content']['data'], msg);\n",
       "        // Pass the mpl event to the overridden (by mpl) onmessage function.\n",
       "        ws.onmessage(msg['content']['data'])\n",
       "    });\n",
       "    return ws;\n",
       "}\n",
       "\n",
       "mpl.mpl_figure_comm = function(comm, msg) {\n",
       "    // This is the function which gets called when the mpl process\n",
       "    // starts-up an IPython Comm through the \"matplotlib\" channel.\n",
       "\n",
       "    var id = msg.content.data.id;\n",
       "    // Get hold of the div created by the display call when the Comm\n",
       "    // socket was opened in Python.\n",
       "    var element = $(\"#\" + id);\n",
       "    var ws_proxy = comm_websocket_adapter(comm)\n",
       "\n",
       "    function ondownload(figure, format) {\n",
       "        window.open(figure.imageObj.src);\n",
       "    }\n",
       "\n",
       "    var fig = new mpl.figure(id, ws_proxy,\n",
       "                           ondownload,\n",
       "                           element.get(0));\n",
       "\n",
       "    // Call onopen now - mpl needs it, as it is assuming we've passed it a real\n",
       "    // web socket which is closed, not our websocket->open comm proxy.\n",
       "    ws_proxy.onopen();\n",
       "\n",
       "    fig.parent_element = element.get(0);\n",
       "    fig.cell_info = mpl.find_output_cell(\"<div id='\" + id + \"'></div>\");\n",
       "    if (!fig.cell_info) {\n",
       "        console.error(\"Failed to find cell for figure\", id, fig);\n",
       "        return;\n",
       "    }\n",
       "\n",
       "    var output_index = fig.cell_info[2]\n",
       "    var cell = fig.cell_info[0];\n",
       "\n",
       "};\n",
       "\n",
       "mpl.figure.prototype.handle_close = function(fig, msg) {\n",
       "    var width = fig.canvas.width/mpl.ratio\n",
       "    fig.root.unbind('remove')\n",
       "\n",
       "    // Update the output cell to use the data from the current canvas.\n",
       "    fig.push_to_output();\n",
       "    var dataURL = fig.canvas.toDataURL();\n",
       "    // Re-enable the keyboard manager in IPython - without this line, in FF,\n",
       "    // the notebook keyboard shortcuts fail.\n",
       "    IPython.keyboard_manager.enable()\n",
       "    $(fig.parent_element).html('<img src=\"' + dataURL + '\" width=\"' + width + '\">');\n",
       "    fig.close_ws(fig, msg);\n",
       "}\n",
       "\n",
       "mpl.figure.prototype.close_ws = function(fig, msg){\n",
       "    fig.send_message('closing', msg);\n",
       "    // fig.ws.close()\n",
       "}\n",
       "\n",
       "mpl.figure.prototype.push_to_output = function(remove_interactive) {\n",
       "    // Turn the data on the canvas into data in the output cell.\n",
       "    var width = this.canvas.width/mpl.ratio\n",
       "    var dataURL = this.canvas.toDataURL();\n",
       "    this.cell_info[1]['text/html'] = '<img src=\"' + dataURL + '\" width=\"' + width + '\">';\n",
       "}\n",
       "\n",
       "mpl.figure.prototype.updated_canvas_event = function() {\n",
       "    // Tell IPython that the notebook contents must change.\n",
       "    IPython.notebook.set_dirty(true);\n",
       "    this.send_message(\"ack\", {});\n",
       "    var fig = this;\n",
       "    // Wait a second, then push the new image to the DOM so\n",
       "    // that it is saved nicely (might be nice to debounce this).\n",
       "    setTimeout(function () { fig.push_to_output() }, 1000);\n",
       "}\n",
       "\n",
       "mpl.figure.prototype._init_toolbar = function() {\n",
       "    var fig = this;\n",
       "\n",
       "    var nav_element = $('<div/>');\n",
       "    nav_element.attr('style', 'width: 100%');\n",
       "    this.root.append(nav_element);\n",
       "\n",
       "    // Define a callback function for later on.\n",
       "    function toolbar_event(event) {\n",
       "        return fig.toolbar_button_onclick(event['data']);\n",
       "    }\n",
       "    function toolbar_mouse_event(event) {\n",
       "        return fig.toolbar_button_onmouseover(event['data']);\n",
       "    }\n",
       "\n",
       "    for(var toolbar_ind in mpl.toolbar_items){\n",
       "        var name = mpl.toolbar_items[toolbar_ind][0];\n",
       "        var tooltip = mpl.toolbar_items[toolbar_ind][1];\n",
       "        var image = mpl.toolbar_items[toolbar_ind][2];\n",
       "        var method_name = mpl.toolbar_items[toolbar_ind][3];\n",
       "\n",
       "        if (!name) { continue; };\n",
       "\n",
       "        var button = $('<button class=\"btn btn-default\" href=\"#\" title=\"' + name + '\"><i class=\"fa ' + image + ' fa-lg\"></i></button>');\n",
       "        button.click(method_name, toolbar_event);\n",
       "        button.mouseover(tooltip, toolbar_mouse_event);\n",
       "        nav_element.append(button);\n",
       "    }\n",
       "\n",
       "    // Add the status bar.\n",
       "    var status_bar = $('<span class=\"mpl-message\" style=\"text-align:right; float: right;\"/>');\n",
       "    nav_element.append(status_bar);\n",
       "    this.message = status_bar[0];\n",
       "\n",
       "    // Add the close button to the window.\n",
       "    var buttongrp = $('<div class=\"btn-group inline pull-right\"></div>');\n",
       "    var button = $('<button class=\"btn btn-mini btn-primary\" href=\"#\" title=\"Stop Interaction\"><i class=\"fa fa-power-off icon-remove icon-large\"></i></button>');\n",
       "    button.click(function (evt) { fig.handle_close(fig, {}); } );\n",
       "    button.mouseover('Stop Interaction', toolbar_mouse_event);\n",
       "    buttongrp.append(button);\n",
       "    var titlebar = this.root.find($('.ui-dialog-titlebar'));\n",
       "    titlebar.prepend(buttongrp);\n",
       "}\n",
       "\n",
       "mpl.figure.prototype._root_extra_style = function(el){\n",
       "    var fig = this\n",
       "    el.on(\"remove\", function(){\n",
       "\tfig.close_ws(fig, {});\n",
       "    });\n",
       "}\n",
       "\n",
       "mpl.figure.prototype._canvas_extra_style = function(el){\n",
       "    // this is important to make the div 'focusable\n",
       "    el.attr('tabindex', 0)\n",
       "    // reach out to IPython and tell the keyboard manager to turn it's self\n",
       "    // off when our div gets focus\n",
       "\n",
       "    // location in version 3\n",
       "    if (IPython.notebook.keyboard_manager) {\n",
       "        IPython.notebook.keyboard_manager.register_events(el);\n",
       "    }\n",
       "    else {\n",
       "        // location in version 2\n",
       "        IPython.keyboard_manager.register_events(el);\n",
       "    }\n",
       "\n",
       "}\n",
       "\n",
       "mpl.figure.prototype._key_event_extra = function(event, name) {\n",
       "    var manager = IPython.notebook.keyboard_manager;\n",
       "    if (!manager)\n",
       "        manager = IPython.keyboard_manager;\n",
       "\n",
       "    // Check for shift+enter\n",
       "    if (event.shiftKey && event.which == 13) {\n",
       "        this.canvas_div.blur();\n",
       "        event.shiftKey = false;\n",
       "        // Send a \"J\" for go to next cell\n",
       "        event.which = 74;\n",
       "        event.keyCode = 74;\n",
       "        manager.command_mode();\n",
       "        manager.handle_keydown(event);\n",
       "    }\n",
       "}\n",
       "\n",
       "mpl.figure.prototype.handle_save = function(fig, msg) {\n",
       "    fig.ondownload(fig, null);\n",
       "}\n",
       "\n",
       "\n",
       "mpl.find_output_cell = function(html_output) {\n",
       "    // Return the cell and output element which can be found *uniquely* in the notebook.\n",
       "    // Note - this is a bit hacky, but it is done because the \"notebook_saving.Notebook\"\n",
       "    // IPython event is triggered only after the cells have been serialised, which for\n",
       "    // our purposes (turning an active figure into a static one), is too late.\n",
       "    var cells = IPython.notebook.get_cells();\n",
       "    var ncells = cells.length;\n",
       "    for (var i=0; i<ncells; i++) {\n",
       "        var cell = cells[i];\n",
       "        if (cell.cell_type === 'code'){\n",
       "            for (var j=0; j<cell.output_area.outputs.length; j++) {\n",
       "                var data = cell.output_area.outputs[j];\n",
       "                if (data.data) {\n",
       "                    // IPython >= 3 moved mimebundle to data attribute of output\n",
       "                    data = data.data;\n",
       "                }\n",
       "                if (data['text/html'] == html_output) {\n",
       "                    return [cell, data, j];\n",
       "                }\n",
       "            }\n",
       "        }\n",
       "    }\n",
       "}\n",
       "\n",
       "// Register the function which deals with the matplotlib target/channel.\n",
       "// The kernel may be null if the page has been refreshed.\n",
       "if (IPython.notebook.kernel != null) {\n",
       "    IPython.notebook.kernel.comm_manager.register_target('matplotlib', mpl.mpl_figure_comm);\n",
       "}\n"
      ],
      "text/plain": [
       "<IPython.core.display.Javascript object>"
      ]
     },
     "metadata": {},
     "output_type": "display_data"
    },
    {
     "data": {
      "text/html": [
       "<img src=\"data:image/png;base64,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\" width=\"640\">"
      ],
      "text/plain": [
       "<IPython.core.display.HTML object>"
      ]
     },
     "metadata": {},
     "output_type": "display_data"
    },
    {
     "data": {
      "text/plain": [
       "Text(0, 0.5, 'value')"
      ]
     },
     "execution_count": 20,
     "metadata": {},
     "output_type": "execute_result"
    }
   ],
   "source": [
    "fig = plt.figure()\n",
    "ax = fig.add_subplot(111)\n",
    "ax.plot(theta, s, '.')\n",
    "ax.set_xlabel('theta in radians')\n",
    "ax.set_ylabel('value')"
   ]
  },
  {
   "cell_type": "code",
   "execution_count": null,
   "metadata": {},
   "outputs": [],
   "source": [
    "t = np.arange(1, sr * dur+1)/sr\n",
    "위에서 만든 것은 2pi기 때문에 한 바퀴 밖에 사이클을 돌지 않음. 그리고 위의 것은 시간의 개념이 없음.\n",
    "그래서 시간부터 먼저 만들음.\n",
    "time tick의 개수를 index로 먼저 만든다. 만약 1초라면 time tick의 개수는 sampling rate의 개수와 일치함.\n",
    "t=np.arange(1,sr)하면 time tick의 개수가 맞음.\n",
    "여기에 t=np.arange(1,sr*dur) 하면 time tick의 개수임. 그런데 이를 sr로 나눠주면 진짜 time이 나옴. 그리고 arange가 마지막을 제외\n",
    "하므로 +1\n",
    "t=np.arange(1,sr*dur+1)/sr\n",
    "\n",
    "time을 만들었으면 theta를 정의해주어야 됨. time을 가지고 theta로 확장.\n",
    "theta = t * 2*np.pi * freq\n",
    "만약 frequency 없을 때. time에다가 2pi를 곱하면 한 바퀴 도는 것을 만들어라는 것이고 거기에 frequency를 곱하면 몇 바퀴를 돌릴 것인가.\n",
    "\n",
    "이제 theta, time, s 3개 모두 확보 됨. 이제 실제로 plot을 할 때 x에 theta를 쓰지 않고 time을 씀. 대괄호를 적는 것은 일부만 쓸 때.\n",
    "t와 s의 개수는 반드시 동일해야만 함. 시험문제 점들의 개수는? 1000개.\n",
    "부분만 ploting하는 이유: 너무 빽빽해서 sin 그래프의 모양을 알아보기 힘들어서 편의상. \n"
   ]
  },
  {
   "cell_type": "code",
   "execution_count": 8,
   "metadata": {},
   "outputs": [],
   "source": [
    "#parameter setting\n",
    "amp = 1          # range [0.0, 1.0]\n",
    "sr = 10000       # sampling rate, Hz\n",
    "dur = 0.5        # in seconds\n",
    "freq = 100.0     # sine frequency, Hz"
   ]
  },
  {
   "cell_type": "code",
   "execution_count": 9,
   "metadata": {},
   "outputs": [],
   "source": [
    "# generate time\n",
    "t = np.arange(1, sr * dur+1)/sr"
   ]
  },
  {
   "cell_type": "code",
   "execution_count": 10,
   "metadata": {},
   "outputs": [],
   "source": [
    "# generate phase\n",
    "theta = t * 2*np.pi * freq"
   ]
  },
  {
   "cell_type": "code",
   "execution_count": 11,
   "metadata": {},
   "outputs": [],
   "source": [
    "s=np.sin(theta)"
   ]
  },
  {
   "cell_type": "code",
   "execution_count": 28,
   "metadata": {},
   "outputs": [
    {
     "data": {
      "application/javascript": [
       "/* Put everything inside the global mpl namespace */\n",
       "window.mpl = {};\n",
       "\n",
       "\n",
       "mpl.get_websocket_type = function() {\n",
       "    if (typeof(WebSocket) !== 'undefined') {\n",
       "        return WebSocket;\n",
       "    } else if (typeof(MozWebSocket) !== 'undefined') {\n",
       "        return MozWebSocket;\n",
       "    } else {\n",
       "        alert('Your browser does not have WebSocket support. ' +\n",
       "              'Please try Chrome, Safari or Firefox ≥ 6. ' +\n",
       "              'Firefox 4 and 5 are also supported but you ' +\n",
       "              'have to enable WebSockets in about:config.');\n",
       "    };\n",
       "}\n",
       "\n",
       "mpl.figure = function(figure_id, websocket, ondownload, parent_element) {\n",
       "    this.id = figure_id;\n",
       "\n",
       "    this.ws = websocket;\n",
       "\n",
       "    this.supports_binary = (this.ws.binaryType != undefined);\n",
       "\n",
       "    if (!this.supports_binary) {\n",
       "        var warnings = document.getElementById(\"mpl-warnings\");\n",
       "        if (warnings) {\n",
       "            warnings.style.display = 'block';\n",
       "            warnings.textContent = (\n",
       "                \"This browser does not support binary websocket messages. \" +\n",
       "                    \"Performance may be slow.\");\n",
       "        }\n",
       "    }\n",
       "\n",
       "    this.imageObj = new Image();\n",
       "\n",
       "    this.context = undefined;\n",
       "    this.message = undefined;\n",
       "    this.canvas = undefined;\n",
       "    this.rubberband_canvas = undefined;\n",
       "    this.rubberband_context = undefined;\n",
       "    this.format_dropdown = undefined;\n",
       "\n",
       "    this.image_mode = 'full';\n",
       "\n",
       "    this.root = $('<div/>');\n",
       "    this._root_extra_style(this.root)\n",
       "    this.root.attr('style', 'display: inline-block');\n",
       "\n",
       "    $(parent_element).append(this.root);\n",
       "\n",
       "    this._init_header(this);\n",
       "    this._init_canvas(this);\n",
       "    this._init_toolbar(this);\n",
       "\n",
       "    var fig = this;\n",
       "\n",
       "    this.waiting = false;\n",
       "\n",
       "    this.ws.onopen =  function () {\n",
       "            fig.send_message(\"supports_binary\", {value: fig.supports_binary});\n",
       "            fig.send_message(\"send_image_mode\", {});\n",
       "            if (mpl.ratio != 1) {\n",
       "                fig.send_message(\"set_dpi_ratio\", {'dpi_ratio': mpl.ratio});\n",
       "            }\n",
       "            fig.send_message(\"refresh\", {});\n",
       "        }\n",
       "\n",
       "    this.imageObj.onload = function() {\n",
       "            if (fig.image_mode == 'full') {\n",
       "                // Full images could contain transparency (where diff images\n",
       "                // almost always do), so we need to clear the canvas so that\n",
       "                // there is no ghosting.\n",
       "                fig.context.clearRect(0, 0, fig.canvas.width, fig.canvas.height);\n",
       "            }\n",
       "            fig.context.drawImage(fig.imageObj, 0, 0);\n",
       "        };\n",
       "\n",
       "    this.imageObj.onunload = function() {\n",
       "        fig.ws.close();\n",
       "    }\n",
       "\n",
       "    this.ws.onmessage = this._make_on_message_function(this);\n",
       "\n",
       "    this.ondownload = ondownload;\n",
       "}\n",
       "\n",
       "mpl.figure.prototype._init_header = function() {\n",
       "    var titlebar = $(\n",
       "        '<div class=\"ui-dialog-titlebar ui-widget-header ui-corner-all ' +\n",
       "        'ui-helper-clearfix\"/>');\n",
       "    var titletext = $(\n",
       "        '<div class=\"ui-dialog-title\" style=\"width: 100%; ' +\n",
       "        'text-align: center; padding: 3px;\"/>');\n",
       "    titlebar.append(titletext)\n",
       "    this.root.append(titlebar);\n",
       "    this.header = titletext[0];\n",
       "}\n",
       "\n",
       "\n",
       "\n",
       "mpl.figure.prototype._canvas_extra_style = function(canvas_div) {\n",
       "\n",
       "}\n",
       "\n",
       "\n",
       "mpl.figure.prototype._root_extra_style = function(canvas_div) {\n",
       "\n",
       "}\n",
       "\n",
       "mpl.figure.prototype._init_canvas = function() {\n",
       "    var fig = this;\n",
       "\n",
       "    var canvas_div = $('<div/>');\n",
       "\n",
       "    canvas_div.attr('style', 'position: relative; clear: both; outline: 0');\n",
       "\n",
       "    function canvas_keyboard_event(event) {\n",
       "        return fig.key_event(event, event['data']);\n",
       "    }\n",
       "\n",
       "    canvas_div.keydown('key_press', canvas_keyboard_event);\n",
       "    canvas_div.keyup('key_release', canvas_keyboard_event);\n",
       "    this.canvas_div = canvas_div\n",
       "    this._canvas_extra_style(canvas_div)\n",
       "    this.root.append(canvas_div);\n",
       "\n",
       "    var canvas = $('<canvas/>');\n",
       "    canvas.addClass('mpl-canvas');\n",
       "    canvas.attr('style', \"left: 0; top: 0; z-index: 0; outline: 0\")\n",
       "\n",
       "    this.canvas = canvas[0];\n",
       "    this.context = canvas[0].getContext(\"2d\");\n",
       "\n",
       "    var backingStore = this.context.backingStorePixelRatio ||\n",
       "\tthis.context.webkitBackingStorePixelRatio ||\n",
       "\tthis.context.mozBackingStorePixelRatio ||\n",
       "\tthis.context.msBackingStorePixelRatio ||\n",
       "\tthis.context.oBackingStorePixelRatio ||\n",
       "\tthis.context.backingStorePixelRatio || 1;\n",
       "\n",
       "    mpl.ratio = (window.devicePixelRatio || 1) / backingStore;\n",
       "\n",
       "    var rubberband = $('<canvas/>');\n",
       "    rubberband.attr('style', \"position: absolute; left: 0; top: 0; z-index: 1;\")\n",
       "\n",
       "    var pass_mouse_events = true;\n",
       "\n",
       "    canvas_div.resizable({\n",
       "        start: function(event, ui) {\n",
       "            pass_mouse_events = false;\n",
       "        },\n",
       "        resize: function(event, ui) {\n",
       "            fig.request_resize(ui.size.width, ui.size.height);\n",
       "        },\n",
       "        stop: function(event, ui) {\n",
       "            pass_mouse_events = true;\n",
       "            fig.request_resize(ui.size.width, ui.size.height);\n",
       "        },\n",
       "    });\n",
       "\n",
       "    function mouse_event_fn(event) {\n",
       "        if (pass_mouse_events)\n",
       "            return fig.mouse_event(event, event['data']);\n",
       "    }\n",
       "\n",
       "    rubberband.mousedown('button_press', mouse_event_fn);\n",
       "    rubberband.mouseup('button_release', mouse_event_fn);\n",
       "    // Throttle sequential mouse events to 1 every 20ms.\n",
       "    rubberband.mousemove('motion_notify', mouse_event_fn);\n",
       "\n",
       "    rubberband.mouseenter('figure_enter', mouse_event_fn);\n",
       "    rubberband.mouseleave('figure_leave', mouse_event_fn);\n",
       "\n",
       "    canvas_div.on(\"wheel\", function (event) {\n",
       "        event = event.originalEvent;\n",
       "        event['data'] = 'scroll'\n",
       "        if (event.deltaY < 0) {\n",
       "            event.step = 1;\n",
       "        } else {\n",
       "            event.step = -1;\n",
       "        }\n",
       "        mouse_event_fn(event);\n",
       "    });\n",
       "\n",
       "    canvas_div.append(canvas);\n",
       "    canvas_div.append(rubberband);\n",
       "\n",
       "    this.rubberband = rubberband;\n",
       "    this.rubberband_canvas = rubberband[0];\n",
       "    this.rubberband_context = rubberband[0].getContext(\"2d\");\n",
       "    this.rubberband_context.strokeStyle = \"#000000\";\n",
       "\n",
       "    this._resize_canvas = function(width, height) {\n",
       "        // Keep the size of the canvas, canvas container, and rubber band\n",
       "        // canvas in synch.\n",
       "        canvas_div.css('width', width)\n",
       "        canvas_div.css('height', height)\n",
       "\n",
       "        canvas.attr('width', width * mpl.ratio);\n",
       "        canvas.attr('height', height * mpl.ratio);\n",
       "        canvas.attr('style', 'width: ' + width + 'px; height: ' + height + 'px;');\n",
       "\n",
       "        rubberband.attr('width', width);\n",
       "        rubberband.attr('height', height);\n",
       "    }\n",
       "\n",
       "    // Set the figure to an initial 600x600px, this will subsequently be updated\n",
       "    // upon first draw.\n",
       "    this._resize_canvas(600, 600);\n",
       "\n",
       "    // Disable right mouse context menu.\n",
       "    $(this.rubberband_canvas).bind(\"contextmenu\",function(e){\n",
       "        return false;\n",
       "    });\n",
       "\n",
       "    function set_focus () {\n",
       "        canvas.focus();\n",
       "        canvas_div.focus();\n",
       "    }\n",
       "\n",
       "    window.setTimeout(set_focus, 100);\n",
       "}\n",
       "\n",
       "mpl.figure.prototype._init_toolbar = function() {\n",
       "    var fig = this;\n",
       "\n",
       "    var nav_element = $('<div/>');\n",
       "    nav_element.attr('style', 'width: 100%');\n",
       "    this.root.append(nav_element);\n",
       "\n",
       "    // Define a callback function for later on.\n",
       "    function toolbar_event(event) {\n",
       "        return fig.toolbar_button_onclick(event['data']);\n",
       "    }\n",
       "    function toolbar_mouse_event(event) {\n",
       "        return fig.toolbar_button_onmouseover(event['data']);\n",
       "    }\n",
       "\n",
       "    for(var toolbar_ind in mpl.toolbar_items) {\n",
       "        var name = mpl.toolbar_items[toolbar_ind][0];\n",
       "        var tooltip = mpl.toolbar_items[toolbar_ind][1];\n",
       "        var image = mpl.toolbar_items[toolbar_ind][2];\n",
       "        var method_name = mpl.toolbar_items[toolbar_ind][3];\n",
       "\n",
       "        if (!name) {\n",
       "            // put a spacer in here.\n",
       "            continue;\n",
       "        }\n",
       "        var button = $('<button/>');\n",
       "        button.addClass('ui-button ui-widget ui-state-default ui-corner-all ' +\n",
       "                        'ui-button-icon-only');\n",
       "        button.attr('role', 'button');\n",
       "        button.attr('aria-disabled', 'false');\n",
       "        button.click(method_name, toolbar_event);\n",
       "        button.mouseover(tooltip, toolbar_mouse_event);\n",
       "\n",
       "        var icon_img = $('<span/>');\n",
       "        icon_img.addClass('ui-button-icon-primary ui-icon');\n",
       "        icon_img.addClass(image);\n",
       "        icon_img.addClass('ui-corner-all');\n",
       "\n",
       "        var tooltip_span = $('<span/>');\n",
       "        tooltip_span.addClass('ui-button-text');\n",
       "        tooltip_span.html(tooltip);\n",
       "\n",
       "        button.append(icon_img);\n",
       "        button.append(tooltip_span);\n",
       "\n",
       "        nav_element.append(button);\n",
       "    }\n",
       "\n",
       "    var fmt_picker_span = $('<span/>');\n",
       "\n",
       "    var fmt_picker = $('<select/>');\n",
       "    fmt_picker.addClass('mpl-toolbar-option ui-widget ui-widget-content');\n",
       "    fmt_picker_span.append(fmt_picker);\n",
       "    nav_element.append(fmt_picker_span);\n",
       "    this.format_dropdown = fmt_picker[0];\n",
       "\n",
       "    for (var ind in mpl.extensions) {\n",
       "        var fmt = mpl.extensions[ind];\n",
       "        var option = $(\n",
       "            '<option/>', {selected: fmt === mpl.default_extension}).html(fmt);\n",
       "        fmt_picker.append(option);\n",
       "    }\n",
       "\n",
       "    // Add hover states to the ui-buttons\n",
       "    $( \".ui-button\" ).hover(\n",
       "        function() { $(this).addClass(\"ui-state-hover\");},\n",
       "        function() { $(this).removeClass(\"ui-state-hover\");}\n",
       "    );\n",
       "\n",
       "    var status_bar = $('<span class=\"mpl-message\"/>');\n",
       "    nav_element.append(status_bar);\n",
       "    this.message = status_bar[0];\n",
       "}\n",
       "\n",
       "mpl.figure.prototype.request_resize = function(x_pixels, y_pixels) {\n",
       "    // Request matplotlib to resize the figure. Matplotlib will then trigger a resize in the client,\n",
       "    // which will in turn request a refresh of the image.\n",
       "    this.send_message('resize', {'width': x_pixels, 'height': y_pixels});\n",
       "}\n",
       "\n",
       "mpl.figure.prototype.send_message = function(type, properties) {\n",
       "    properties['type'] = type;\n",
       "    properties['figure_id'] = this.id;\n",
       "    this.ws.send(JSON.stringify(properties));\n",
       "}\n",
       "\n",
       "mpl.figure.prototype.send_draw_message = function() {\n",
       "    if (!this.waiting) {\n",
       "        this.waiting = true;\n",
       "        this.ws.send(JSON.stringify({type: \"draw\", figure_id: this.id}));\n",
       "    }\n",
       "}\n",
       "\n",
       "\n",
       "mpl.figure.prototype.handle_save = function(fig, msg) {\n",
       "    var format_dropdown = fig.format_dropdown;\n",
       "    var format = format_dropdown.options[format_dropdown.selectedIndex].value;\n",
       "    fig.ondownload(fig, format);\n",
       "}\n",
       "\n",
       "\n",
       "mpl.figure.prototype.handle_resize = function(fig, msg) {\n",
       "    var size = msg['size'];\n",
       "    if (size[0] != fig.canvas.width || size[1] != fig.canvas.height) {\n",
       "        fig._resize_canvas(size[0], size[1]);\n",
       "        fig.send_message(\"refresh\", {});\n",
       "    };\n",
       "}\n",
       "\n",
       "mpl.figure.prototype.handle_rubberband = function(fig, msg) {\n",
       "    var x0 = msg['x0'] / mpl.ratio;\n",
       "    var y0 = (fig.canvas.height - msg['y0']) / mpl.ratio;\n",
       "    var x1 = msg['x1'] / mpl.ratio;\n",
       "    var y1 = (fig.canvas.height - msg['y1']) / mpl.ratio;\n",
       "    x0 = Math.floor(x0) + 0.5;\n",
       "    y0 = Math.floor(y0) + 0.5;\n",
       "    x1 = Math.floor(x1) + 0.5;\n",
       "    y1 = Math.floor(y1) + 0.5;\n",
       "    var min_x = Math.min(x0, x1);\n",
       "    var min_y = Math.min(y0, y1);\n",
       "    var width = Math.abs(x1 - x0);\n",
       "    var height = Math.abs(y1 - y0);\n",
       "\n",
       "    fig.rubberband_context.clearRect(\n",
       "        0, 0, fig.canvas.width, fig.canvas.height);\n",
       "\n",
       "    fig.rubberband_context.strokeRect(min_x, min_y, width, height);\n",
       "}\n",
       "\n",
       "mpl.figure.prototype.handle_figure_label = function(fig, msg) {\n",
       "    // Updates the figure title.\n",
       "    fig.header.textContent = msg['label'];\n",
       "}\n",
       "\n",
       "mpl.figure.prototype.handle_cursor = function(fig, msg) {\n",
       "    var cursor = msg['cursor'];\n",
       "    switch(cursor)\n",
       "    {\n",
       "    case 0:\n",
       "        cursor = 'pointer';\n",
       "        break;\n",
       "    case 1:\n",
       "        cursor = 'default';\n",
       "        break;\n",
       "    case 2:\n",
       "        cursor = 'crosshair';\n",
       "        break;\n",
       "    case 3:\n",
       "        cursor = 'move';\n",
       "        break;\n",
       "    }\n",
       "    fig.rubberband_canvas.style.cursor = cursor;\n",
       "}\n",
       "\n",
       "mpl.figure.prototype.handle_message = function(fig, msg) {\n",
       "    fig.message.textContent = msg['message'];\n",
       "}\n",
       "\n",
       "mpl.figure.prototype.handle_draw = function(fig, msg) {\n",
       "    // Request the server to send over a new figure.\n",
       "    fig.send_draw_message();\n",
       "}\n",
       "\n",
       "mpl.figure.prototype.handle_image_mode = function(fig, msg) {\n",
       "    fig.image_mode = msg['mode'];\n",
       "}\n",
       "\n",
       "mpl.figure.prototype.updated_canvas_event = function() {\n",
       "    // Called whenever the canvas gets updated.\n",
       "    this.send_message(\"ack\", {});\n",
       "}\n",
       "\n",
       "// A function to construct a web socket function for onmessage handling.\n",
       "// Called in the figure constructor.\n",
       "mpl.figure.prototype._make_on_message_function = function(fig) {\n",
       "    return function socket_on_message(evt) {\n",
       "        if (evt.data instanceof Blob) {\n",
       "            /* FIXME: We get \"Resource interpreted as Image but\n",
       "             * transferred with MIME type text/plain:\" errors on\n",
       "             * Chrome.  But how to set the MIME type?  It doesn't seem\n",
       "             * to be part of the websocket stream */\n",
       "            evt.data.type = \"image/png\";\n",
       "\n",
       "            /* Free the memory for the previous frames */\n",
       "            if (fig.imageObj.src) {\n",
       "                (window.URL || window.webkitURL).revokeObjectURL(\n",
       "                    fig.imageObj.src);\n",
       "            }\n",
       "\n",
       "            fig.imageObj.src = (window.URL || window.webkitURL).createObjectURL(\n",
       "                evt.data);\n",
       "            fig.updated_canvas_event();\n",
       "            fig.waiting = false;\n",
       "            return;\n",
       "        }\n",
       "        else if (typeof evt.data === 'string' && evt.data.slice(0, 21) == \"data:image/png;base64\") {\n",
       "            fig.imageObj.src = evt.data;\n",
       "            fig.updated_canvas_event();\n",
       "            fig.waiting = false;\n",
       "            return;\n",
       "        }\n",
       "\n",
       "        var msg = JSON.parse(evt.data);\n",
       "        var msg_type = msg['type'];\n",
       "\n",
       "        // Call the  \"handle_{type}\" callback, which takes\n",
       "        // the figure and JSON message as its only arguments.\n",
       "        try {\n",
       "            var callback = fig[\"handle_\" + msg_type];\n",
       "        } catch (e) {\n",
       "            console.log(\"No handler for the '\" + msg_type + \"' message type: \", msg);\n",
       "            return;\n",
       "        }\n",
       "\n",
       "        if (callback) {\n",
       "            try {\n",
       "                // console.log(\"Handling '\" + msg_type + \"' message: \", msg);\n",
       "                callback(fig, msg);\n",
       "            } catch (e) {\n",
       "                console.log(\"Exception inside the 'handler_\" + msg_type + \"' callback:\", e, e.stack, msg);\n",
       "            }\n",
       "        }\n",
       "    };\n",
       "}\n",
       "\n",
       "// from http://stackoverflow.com/questions/1114465/getting-mouse-location-in-canvas\n",
       "mpl.findpos = function(e) {\n",
       "    //this section is from http://www.quirksmode.org/js/events_properties.html\n",
       "    var targ;\n",
       "    if (!e)\n",
       "        e = window.event;\n",
       "    if (e.target)\n",
       "        targ = e.target;\n",
       "    else if (e.srcElement)\n",
       "        targ = e.srcElement;\n",
       "    if (targ.nodeType == 3) // defeat Safari bug\n",
       "        targ = targ.parentNode;\n",
       "\n",
       "    // jQuery normalizes the pageX and pageY\n",
       "    // pageX,Y are the mouse positions relative to the document\n",
       "    // offset() returns the position of the element relative to the document\n",
       "    var x = e.pageX - $(targ).offset().left;\n",
       "    var y = e.pageY - $(targ).offset().top;\n",
       "\n",
       "    return {\"x\": x, \"y\": y};\n",
       "};\n",
       "\n",
       "/*\n",
       " * return a copy of an object with only non-object keys\n",
       " * we need this to avoid circular references\n",
       " * http://stackoverflow.com/a/24161582/3208463\n",
       " */\n",
       "function simpleKeys (original) {\n",
       "  return Object.keys(original).reduce(function (obj, key) {\n",
       "    if (typeof original[key] !== 'object')\n",
       "        obj[key] = original[key]\n",
       "    return obj;\n",
       "  }, {});\n",
       "}\n",
       "\n",
       "mpl.figure.prototype.mouse_event = function(event, name) {\n",
       "    var canvas_pos = mpl.findpos(event)\n",
       "\n",
       "    if (name === 'button_press')\n",
       "    {\n",
       "        this.canvas.focus();\n",
       "        this.canvas_div.focus();\n",
       "    }\n",
       "\n",
       "    var x = canvas_pos.x * mpl.ratio;\n",
       "    var y = canvas_pos.y * mpl.ratio;\n",
       "\n",
       "    this.send_message(name, {x: x, y: y, button: event.button,\n",
       "                             step: event.step,\n",
       "                             guiEvent: simpleKeys(event)});\n",
       "\n",
       "    /* This prevents the web browser from automatically changing to\n",
       "     * the text insertion cursor when the button is pressed.  We want\n",
       "     * to control all of the cursor setting manually through the\n",
       "     * 'cursor' event from matplotlib */\n",
       "    event.preventDefault();\n",
       "    return false;\n",
       "}\n",
       "\n",
       "mpl.figure.prototype._key_event_extra = function(event, name) {\n",
       "    // Handle any extra behaviour associated with a key event\n",
       "}\n",
       "\n",
       "mpl.figure.prototype.key_event = function(event, name) {\n",
       "\n",
       "    // Prevent repeat events\n",
       "    if (name == 'key_press')\n",
       "    {\n",
       "        if (event.which === this._key)\n",
       "            return;\n",
       "        else\n",
       "            this._key = event.which;\n",
       "    }\n",
       "    if (name == 'key_release')\n",
       "        this._key = null;\n",
       "\n",
       "    var value = '';\n",
       "    if (event.ctrlKey && event.which != 17)\n",
       "        value += \"ctrl+\";\n",
       "    if (event.altKey && event.which != 18)\n",
       "        value += \"alt+\";\n",
       "    if (event.shiftKey && event.which != 16)\n",
       "        value += \"shift+\";\n",
       "\n",
       "    value += 'k';\n",
       "    value += event.which.toString();\n",
       "\n",
       "    this._key_event_extra(event, name);\n",
       "\n",
       "    this.send_message(name, {key: value,\n",
       "                             guiEvent: simpleKeys(event)});\n",
       "    return false;\n",
       "}\n",
       "\n",
       "mpl.figure.prototype.toolbar_button_onclick = function(name) {\n",
       "    if (name == 'download') {\n",
       "        this.handle_save(this, null);\n",
       "    } else {\n",
       "        this.send_message(\"toolbar_button\", {name: name});\n",
       "    }\n",
       "};\n",
       "\n",
       "mpl.figure.prototype.toolbar_button_onmouseover = function(tooltip) {\n",
       "    this.message.textContent = tooltip;\n",
       "};\n",
       "mpl.toolbar_items = [[\"Home\", \"Reset original view\", \"fa fa-home icon-home\", \"home\"], [\"Back\", \"Back to previous view\", \"fa fa-arrow-left icon-arrow-left\", \"back\"], [\"Forward\", \"Forward to next view\", \"fa fa-arrow-right icon-arrow-right\", \"forward\"], [\"\", \"\", \"\", \"\"], [\"Pan\", \"Pan axes with left mouse, zoom with right\", \"fa fa-arrows icon-move\", \"pan\"], [\"Zoom\", \"Zoom to rectangle\", \"fa fa-square-o icon-check-empty\", \"zoom\"], [\"\", \"\", \"\", \"\"], [\"Download\", \"Download plot\", \"fa fa-floppy-o icon-save\", \"download\"]];\n",
       "\n",
       "mpl.extensions = [\"eps\", \"jpeg\", \"pdf\", \"png\", \"ps\", \"raw\", \"svg\", \"tif\"];\n",
       "\n",
       "mpl.default_extension = \"png\";var comm_websocket_adapter = function(comm) {\n",
       "    // Create a \"websocket\"-like object which calls the given IPython comm\n",
       "    // object with the appropriate methods. Currently this is a non binary\n",
       "    // socket, so there is still some room for performance tuning.\n",
       "    var ws = {};\n",
       "\n",
       "    ws.close = function() {\n",
       "        comm.close()\n",
       "    };\n",
       "    ws.send = function(m) {\n",
       "        //console.log('sending', m);\n",
       "        comm.send(m);\n",
       "    };\n",
       "    // Register the callback with on_msg.\n",
       "    comm.on_msg(function(msg) {\n",
       "        //console.log('receiving', msg['content']['data'], msg);\n",
       "        // Pass the mpl event to the overridden (by mpl) onmessage function.\n",
       "        ws.onmessage(msg['content']['data'])\n",
       "    });\n",
       "    return ws;\n",
       "}\n",
       "\n",
       "mpl.mpl_figure_comm = function(comm, msg) {\n",
       "    // This is the function which gets called when the mpl process\n",
       "    // starts-up an IPython Comm through the \"matplotlib\" channel.\n",
       "\n",
       "    var id = msg.content.data.id;\n",
       "    // Get hold of the div created by the display call when the Comm\n",
       "    // socket was opened in Python.\n",
       "    var element = $(\"#\" + id);\n",
       "    var ws_proxy = comm_websocket_adapter(comm)\n",
       "\n",
       "    function ondownload(figure, format) {\n",
       "        window.open(figure.imageObj.src);\n",
       "    }\n",
       "\n",
       "    var fig = new mpl.figure(id, ws_proxy,\n",
       "                           ondownload,\n",
       "                           element.get(0));\n",
       "\n",
       "    // Call onopen now - mpl needs it, as it is assuming we've passed it a real\n",
       "    // web socket which is closed, not our websocket->open comm proxy.\n",
       "    ws_proxy.onopen();\n",
       "\n",
       "    fig.parent_element = element.get(0);\n",
       "    fig.cell_info = mpl.find_output_cell(\"<div id='\" + id + \"'></div>\");\n",
       "    if (!fig.cell_info) {\n",
       "        console.error(\"Failed to find cell for figure\", id, fig);\n",
       "        return;\n",
       "    }\n",
       "\n",
       "    var output_index = fig.cell_info[2]\n",
       "    var cell = fig.cell_info[0];\n",
       "\n",
       "};\n",
       "\n",
       "mpl.figure.prototype.handle_close = function(fig, msg) {\n",
       "    var width = fig.canvas.width/mpl.ratio\n",
       "    fig.root.unbind('remove')\n",
       "\n",
       "    // Update the output cell to use the data from the current canvas.\n",
       "    fig.push_to_output();\n",
       "    var dataURL = fig.canvas.toDataURL();\n",
       "    // Re-enable the keyboard manager in IPython - without this line, in FF,\n",
       "    // the notebook keyboard shortcuts fail.\n",
       "    IPython.keyboard_manager.enable()\n",
       "    $(fig.parent_element).html('<img src=\"' + dataURL + '\" width=\"' + width + '\">');\n",
       "    fig.close_ws(fig, msg);\n",
       "}\n",
       "\n",
       "mpl.figure.prototype.close_ws = function(fig, msg){\n",
       "    fig.send_message('closing', msg);\n",
       "    // fig.ws.close()\n",
       "}\n",
       "\n",
       "mpl.figure.prototype.push_to_output = function(remove_interactive) {\n",
       "    // Turn the data on the canvas into data in the output cell.\n",
       "    var width = this.canvas.width/mpl.ratio\n",
       "    var dataURL = this.canvas.toDataURL();\n",
       "    this.cell_info[1]['text/html'] = '<img src=\"' + dataURL + '\" width=\"' + width + '\">';\n",
       "}\n",
       "\n",
       "mpl.figure.prototype.updated_canvas_event = function() {\n",
       "    // Tell IPython that the notebook contents must change.\n",
       "    IPython.notebook.set_dirty(true);\n",
       "    this.send_message(\"ack\", {});\n",
       "    var fig = this;\n",
       "    // Wait a second, then push the new image to the DOM so\n",
       "    // that it is saved nicely (might be nice to debounce this).\n",
       "    setTimeout(function () { fig.push_to_output() }, 1000);\n",
       "}\n",
       "\n",
       "mpl.figure.prototype._init_toolbar = function() {\n",
       "    var fig = this;\n",
       "\n",
       "    var nav_element = $('<div/>');\n",
       "    nav_element.attr('style', 'width: 100%');\n",
       "    this.root.append(nav_element);\n",
       "\n",
       "    // Define a callback function for later on.\n",
       "    function toolbar_event(event) {\n",
       "        return fig.toolbar_button_onclick(event['data']);\n",
       "    }\n",
       "    function toolbar_mouse_event(event) {\n",
       "        return fig.toolbar_button_onmouseover(event['data']);\n",
       "    }\n",
       "\n",
       "    for(var toolbar_ind in mpl.toolbar_items){\n",
       "        var name = mpl.toolbar_items[toolbar_ind][0];\n",
       "        var tooltip = mpl.toolbar_items[toolbar_ind][1];\n",
       "        var image = mpl.toolbar_items[toolbar_ind][2];\n",
       "        var method_name = mpl.toolbar_items[toolbar_ind][3];\n",
       "\n",
       "        if (!name) { continue; };\n",
       "\n",
       "        var button = $('<button class=\"btn btn-default\" href=\"#\" title=\"' + name + '\"><i class=\"fa ' + image + ' fa-lg\"></i></button>');\n",
       "        button.click(method_name, toolbar_event);\n",
       "        button.mouseover(tooltip, toolbar_mouse_event);\n",
       "        nav_element.append(button);\n",
       "    }\n",
       "\n",
       "    // Add the status bar.\n",
       "    var status_bar = $('<span class=\"mpl-message\" style=\"text-align:right; float: right;\"/>');\n",
       "    nav_element.append(status_bar);\n",
       "    this.message = status_bar[0];\n",
       "\n",
       "    // Add the close button to the window.\n",
       "    var buttongrp = $('<div class=\"btn-group inline pull-right\"></div>');\n",
       "    var button = $('<button class=\"btn btn-mini btn-primary\" href=\"#\" title=\"Stop Interaction\"><i class=\"fa fa-power-off icon-remove icon-large\"></i></button>');\n",
       "    button.click(function (evt) { fig.handle_close(fig, {}); } );\n",
       "    button.mouseover('Stop Interaction', toolbar_mouse_event);\n",
       "    buttongrp.append(button);\n",
       "    var titlebar = this.root.find($('.ui-dialog-titlebar'));\n",
       "    titlebar.prepend(buttongrp);\n",
       "}\n",
       "\n",
       "mpl.figure.prototype._root_extra_style = function(el){\n",
       "    var fig = this\n",
       "    el.on(\"remove\", function(){\n",
       "\tfig.close_ws(fig, {});\n",
       "    });\n",
       "}\n",
       "\n",
       "mpl.figure.prototype._canvas_extra_style = function(el){\n",
       "    // this is important to make the div 'focusable\n",
       "    el.attr('tabindex', 0)\n",
       "    // reach out to IPython and tell the keyboard manager to turn it's self\n",
       "    // off when our div gets focus\n",
       "\n",
       "    // location in version 3\n",
       "    if (IPython.notebook.keyboard_manager) {\n",
       "        IPython.notebook.keyboard_manager.register_events(el);\n",
       "    }\n",
       "    else {\n",
       "        // location in version 2\n",
       "        IPython.keyboard_manager.register_events(el);\n",
       "    }\n",
       "\n",
       "}\n",
       "\n",
       "mpl.figure.prototype._key_event_extra = function(event, name) {\n",
       "    var manager = IPython.notebook.keyboard_manager;\n",
       "    if (!manager)\n",
       "        manager = IPython.keyboard_manager;\n",
       "\n",
       "    // Check for shift+enter\n",
       "    if (event.shiftKey && event.which == 13) {\n",
       "        this.canvas_div.blur();\n",
       "        event.shiftKey = false;\n",
       "        // Send a \"J\" for go to next cell\n",
       "        event.which = 74;\n",
       "        event.keyCode = 74;\n",
       "        manager.command_mode();\n",
       "        manager.handle_keydown(event);\n",
       "    }\n",
       "}\n",
       "\n",
       "mpl.figure.prototype.handle_save = function(fig, msg) {\n",
       "    fig.ondownload(fig, null);\n",
       "}\n",
       "\n",
       "\n",
       "mpl.find_output_cell = function(html_output) {\n",
       "    // Return the cell and output element which can be found *uniquely* in the notebook.\n",
       "    // Note - this is a bit hacky, but it is done because the \"notebook_saving.Notebook\"\n",
       "    // IPython event is triggered only after the cells have been serialised, which for\n",
       "    // our purposes (turning an active figure into a static one), is too late.\n",
       "    var cells = IPython.notebook.get_cells();\n",
       "    var ncells = cells.length;\n",
       "    for (var i=0; i<ncells; i++) {\n",
       "        var cell = cells[i];\n",
       "        if (cell.cell_type === 'code'){\n",
       "            for (var j=0; j<cell.output_area.outputs.length; j++) {\n",
       "                var data = cell.output_area.outputs[j];\n",
       "                if (data.data) {\n",
       "                    // IPython >= 3 moved mimebundle to data attribute of output\n",
       "                    data = data.data;\n",
       "                }\n",
       "                if (data['text/html'] == html_output) {\n",
       "                    return [cell, data, j];\n",
       "                }\n",
       "            }\n",
       "        }\n",
       "    }\n",
       "}\n",
       "\n",
       "// Register the function which deals with the matplotlib target/channel.\n",
       "// The kernel may be null if the page has been refreshed.\n",
       "if (IPython.notebook.kernel != null) {\n",
       "    IPython.notebook.kernel.comm_manager.register_target('matplotlib', mpl.mpl_figure_comm);\n",
       "}\n"
      ],
      "text/plain": [
       "<IPython.core.display.Javascript object>"
      ]
     },
     "metadata": {},
     "output_type": "display_data"
    },
    {
     "data": {
      "text/html": [
       "<img src=\"data:image/png;base64,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\" width=\"640\">"
      ],
      "text/plain": [
       "<IPython.core.display.HTML object>"
      ]
     },
     "metadata": {},
     "output_type": "display_data"
    },
    {
     "data": {
      "text/plain": [
       "Text(0, 0.5, 'real')"
      ]
     },
     "execution_count": 28,
     "metadata": {},
     "output_type": "execute_result"
    }
   ],
   "source": [
    "fig = plt.figure()\n",
    "ax = fig.add_subplot(111)\n",
    "ax.plot(t[0:1000], s[0:1000], '.')\n",
    "ax.set_xlabel('time (s)')\n",
    "ax.set_ylabel('real')"
   ]
  },
  {
   "cell_type": "code",
   "execution_count": null,
   "metadata": {},
   "outputs": [],
   "source": [
    "# generate signal by complex-phasor\n",
    "c = np.exp(theta*1j)\n",
    "exp는 exponential함수. np.exp가 오일러 function의 e라고 생각하면 됨. 그 함수 안의 값이 theta*1j라는 것의 의미는\n",
    "e의 지수로 theta*1j가 들어간다는 것임. 그런 의미에서 sin과 크게 다를 것 없음. 하나하나의 값들이 a+bi의 형태. \n",
    "e-01은 e의 -1승 이라는 의미. 밑의 값들의 표기는 e어쩌구로 표현하므로써 쓰는 형태와 정보량이 똑같음.\n",
    "complex number(복소수)의 vector가 들어있음. 복소수인 이유는 i를 사용했기 때문에.\n",
    "\n",
    "이를 plot하는 방법. figure만들고 subplot만드는데, projection을 '3d'로 함. \n",
    "ax.plot할 때 3d 답게 입력값이 3개가 들어가야함. 위의 2d같은 경우는 입력값이 2개가 들어갔었음. 한 점을 표현하기 위해서 3차원의\n",
    "벡터값이 사용됨. 또한 각각의 입력값의 정보의 개수를 동일하게 해주어야 함. 그래서 밑의 그림에도 1000개의 점이 찍힘.\n",
    "x축에 time y축에 real값, z축에 imag. c값은 대부분이 복소수값(a+bi). 그로 인해 하나의 값이 나오지만 사실 그 안에 두 개의 정보가\n",
    "들어있는 것임. exponential oyler function을 쓰면 두 개의 정보가 나오는 것임. 그래서 그 정보를 각각 따로 받아오는 방법임.\n",
    "x축은 time, 나머지 하나는 real(a값.) imag(b값.) c.real이라는 것은 a값 즉, 실수부만 빼오는 것, c.imag하면 b값 즉 허수부만 빼옴.\n",
    "이렇게 x축은 time y,z축은 실수부 허수부를 따로 받아서 plot함. \n",
    "\n",
    "오일러 공식을 보면 ⅇ^θⅈ=cos⁡(θ)+sin⁡(θ)ⅈ 인데, 이를 볼 때 cos은 실수부, sin은 허수부와 관련이 있음. real만 본다면 위에서 보면 됨.\n",
    "그렇게 했을 때 1부터 시작함. cos의 형태임. projection 즉 visualization이 왜 중요한 지를 보여줌. projection을 해 보았을 때 \n",
    "sin과 cos의 기능을 모두 가진 complex한 phasor임을 알 수 있음.\n",
    "\n",
    "오디오 play하려면 ipd를 import 하고 입력값은 signal(벡터값)과 원하는 sr을 넣어주면 됨. sin으로 만든 값을 써도 만들어지고\n",
    "c.real c.imag 같은 형태로 해도 소리 만들 수 있음."
   ]
  },
  {
   "cell_type": "code",
   "execution_count": 12,
   "metadata": {},
   "outputs": [
    {
     "data": {
      "text/plain": [
       "array([0.99802673+6.27905195e-02j, 0.9921147 +1.25333234e-01j,\n",
       "       0.98228725+1.87381315e-01j, ..., 0.9921147 -1.25333234e-01j,\n",
       "       0.99802673-6.27905195e-02j, 1.        +1.96438672e-15j])"
      ]
     },
     "execution_count": 12,
     "metadata": {},
     "output_type": "execute_result"
    }
   ],
   "source": [
    "# generate signal by complex-phasor\n",
    "c = np.exp(theta*1j)\n",
    "c"
   ]
  },
  {
   "cell_type": "code",
   "execution_count": 13,
   "metadata": {},
   "outputs": [
    {
     "data": {
      "text/plain": [
       "Text(0.5, 0, 'imag')"
      ]
     },
     "execution_count": 13,
     "metadata": {},
     "output_type": "execute_result"
    },
    {
     "data": {
      "image/png": "[encoded data removed]",
      "text/plain": [
       "<Figure size 432x288 with 1 Axes>"
      ]
     },
     "metadata": {
      "needs_background": "light"
     },
     "output_type": "display_data"
    }
   ],
   "source": [
    "fig = plt.figure()\n",
    "ax = fig.add_subplot(111, projection='3d')\n",
    "ax.plot(t[0:1000], c.real[0:1000], c.imag[0:1000], '-')\n",
    "ax.set_xlabel('time (s)')\n",
    "ax.set_ylabel('real')\n",
    "ax.set_zlabel('imag')"
   ]
  },
  {
   "cell_type": "code",
   "execution_count": 14,
   "metadata": {},
   "outputs": [
    {
     "data": {
      "text/html": [
       "\n",
       "                <audio  controls=\"controls\" >\n",
       "                    <source src=\"data:audio/wav;base64,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\" type=\"audio/wav\" />\n",
       "                    Your browser does not support the audio element.\n",
       "                </audio>\n",
       "              "
      ],
      "text/plain": [
       "<IPython.lib.display.Audio object>"
      ]
     },
     "execution_count": 14,
     "metadata": {},
     "output_type": "execute_result"
    }
   ],
   "source": [
    "ipd.Audio(s, rate=sr)\n"
   ]
  },
  {
   "cell_type": "code",
   "execution_count": 7,
   "metadata": {},
   "outputs": [
    {
     "data": {
      "text/plain": [
       "array([0., 1., 2., 3., 4., 5., 6.])"
      ]
     },
     "execution_count": 7,
     "metadata": {},
     "output_type": "execute_result"
    }
   ],
   "source": [
    "theta=np.arange(0,2*np.pi)\n",
    "theta"
   ]
  },
  {
   "cell_type": "code",
   "execution_count": 8,
   "metadata": {},
   "outputs": [
    {
     "data": {
      "text/plain": [
       "array([ 0.        ,  0.84147098,  0.90929743,  0.14112001, -0.7568025 ,\n",
       "       -0.95892427, -0.2794155 ])"
      ]
     },
     "execution_count": 8,
     "metadata": {},
     "output_type": "execute_result"
    }
   ],
   "source": [
    "s=np.sin(theta)\n",
    "s"
   ]
  },
  {
   "cell_type": "code",
   "execution_count": null,
   "metadata": {},
   "outputs": [],
   "source": [
    "plt 속의 figure라는 function figure 안의 add_supplot.\n",
    "밑 그림 전체가 figure임. subplot은 화면 분리. 221은 총 (2,2)로 나누는데 줄이 2줄 열이 2줄로 화면 분리를 한다.그 중 첫 번째거. \n",
    "4개의 그림이 각각 왼쪽 위 오른쪽 위 왼쪾 아래 오른쪽 아래 221 222 223 224.\n",
    "subplot 밑에 실제 ploting하려는 x값 theta, s(x값을 sin function 거쳐 나온값)를 y값으로. 값의 개수는 7개로 똑같음.\n",
    "그림을 잘 보면 sin함수의 결과값임을 볼 수 있음. 근데 이런 식으로 하면 너무 sparse함."
   ]
  },
  {
   "cell_type": "code",
   "execution_count": 9,
   "metadata": {},
   "outputs": [
    {
     "data": {
      "text/plain": [
       "[<matplotlib.lines.Line2D at 0x1eeb0cb0080>]"
      ]
     },
     "execution_count": 9,
     "metadata": {},
     "output_type": "execute_result"
    },
    {
     "data": {
      "image/png": "[encoded data removed]",
      "text/plain": [
       "<Figure size 432x288 with 4 Axes>"
      ]
     },
     "metadata": {
      "needs_background": "light"
     },
     "output_type": "display_data"
    }
   ],
   "source": [
    "fig = plt.figure()\n",
    "ax = fig.add_subplot(221)\n",
    "ax.plot(theta, s, '.')\n",
    "ax = fig.add_subplot(222)\n",
    "ax.plot(theta, s, '.')\n",
    "ax = fig.add_subplot(223)\n",
    "ax.plot(theta, s, '.')\n",
    "ax = fig.add_subplot(224)\n",
    "ax.plot(theta, s, '.')"
   ]
  },
  {
   "cell_type": "code",
   "execution_count": null,
   "metadata": {},
   "outputs": [],
   "source": [
    "theta=np.arange(0,2*np.pi,0.1)하면 더 빽뺵함."
   ]
  },
  {
   "cell_type": "code",
   "execution_count": 10,
   "metadata": {},
   "outputs": [
    {
     "data": {
      "text/plain": [
       "array([0. , 0.1, 0.2, 0.3, 0.4, 0.5, 0.6, 0.7, 0.8, 0.9, 1. , 1.1, 1.2,\n",
       "       1.3, 1.4, 1.5, 1.6, 1.7, 1.8, 1.9, 2. , 2.1, 2.2, 2.3, 2.4, 2.5,\n",
       "       2.6, 2.7, 2.8, 2.9, 3. , 3.1, 3.2, 3.3, 3.4, 3.5, 3.6, 3.7, 3.8,\n",
       "       3.9, 4. , 4.1, 4.2, 4.3, 4.4, 4.5, 4.6, 4.7, 4.8, 4.9, 5. , 5.1,\n",
       "       5.2, 5.3, 5.4, 5.5, 5.6, 5.7, 5.8, 5.9, 6. , 6.1, 6.2])"
      ]
     },
     "execution_count": 10,
     "metadata": {},
     "output_type": "execute_result"
    }
   ],
   "source": [
    "theta=np.arange(0,2*np.pi,0.1)\n",
    "theta"
   ]
  },
  {
   "cell_type": "code",
   "execution_count": 11,
   "metadata": {},
   "outputs": [
    {
     "data": {
      "text/plain": [
       "array([ 0.        ,  0.09983342,  0.19866933,  0.29552021,  0.38941834,\n",
       "        0.47942554,  0.56464247,  0.64421769,  0.71735609,  0.78332691,\n",
       "        0.84147098,  0.89120736,  0.93203909,  0.96355819,  0.98544973,\n",
       "        0.99749499,  0.9995736 ,  0.99166481,  0.97384763,  0.94630009,\n",
       "        0.90929743,  0.86320937,  0.8084964 ,  0.74570521,  0.67546318,\n",
       "        0.59847214,  0.51550137,  0.42737988,  0.33498815,  0.23924933,\n",
       "        0.14112001,  0.04158066, -0.05837414, -0.15774569, -0.2555411 ,\n",
       "       -0.35078323, -0.44252044, -0.52983614, -0.61185789, -0.68776616,\n",
       "       -0.7568025 , -0.81827711, -0.87157577, -0.91616594, -0.95160207,\n",
       "       -0.97753012, -0.993691  , -0.99992326, -0.99616461, -0.98245261,\n",
       "       -0.95892427, -0.92581468, -0.88345466, -0.83226744, -0.77276449,\n",
       "       -0.70554033, -0.63126664, -0.55068554, -0.46460218, -0.37387666,\n",
       "       -0.2794155 , -0.1821625 , -0.0830894 ])"
      ]
     },
     "execution_count": 11,
     "metadata": {},
     "output_type": "execute_result"
    }
   ],
   "source": [
    "s=np.sin(theta)\n",
    "s"
   ]
  },
  {
   "cell_type": "code",
   "execution_count": 12,
   "metadata": {},
   "outputs": [
    {
     "data": {
      "text/plain": [
       "[<matplotlib.lines.Line2D at 0x1eeb0de0908>]"
      ]
     },
     "execution_count": 12,
     "metadata": {},
     "output_type": "execute_result"
    },
    {
     "data": {
      "image/png": "[encoded data removed]",
      "text/plain": [
       "<Figure size 432x288 with 4 Axes>"
      ]
     },
     "metadata": {
      "needs_background": "light"
     },
     "output_type": "display_data"
    }
   ],
   "source": [
    "fig = plt.figure()\n",
    "ax = fig.add_subplot(221)\n",
    "ax.plot(theta, s, '.')\n",
    "ax = fig.add_subplot(222)\n",
    "ax.plot(theta, s, '.')\n",
    "ax = fig.add_subplot(223)\n",
    "ax.plot(theta, s, '.')\n",
    "ax = fig.add_subplot(224)\n",
    "ax.plot(theta, s, '.')"
   ]
  },
  {
   "cell_type": "code",
   "execution_count": null,
   "metadata": {},
   "outputs": [],
   "source": [
    "ax.set_xlabel('time (s)')\n",
    "ax.set_ylabel('real')\n",
    "위의 함수들을 통해 x축과 y축에 라벨링을 할 수 있음.\n",
    "0~2pi까지 범위. exquisistant로 쪼개짐. x축 상에서는 exquisistant(등간격)하지만 y축에서는 exquisistant하지 않음.\n",
    "linear한 경우에는 x, y축 모두 exquisistant하고 non-linear의 경우는 그렇지 않음."
   ]
  },
  {
   "cell_type": "code",
   "execution_count": 13,
   "metadata": {},
   "outputs": [
    {
     "data": {
      "text/plain": [
       "Text(0, 0.5, 'value')"
      ]
     },
     "execution_count": 13,
     "metadata": {},
     "output_type": "execute_result"
    },
    {
     "data": {
      "image/png": "[encoded data removed]",
      "text/plain": [
       "<Figure size 432x288 with 1 Axes>"
      ]
     },
     "metadata": {
      "needs_background": "light"
     },
     "output_type": "display_data"
    }
   ],
   "source": [
    "fig = plt.figure()\n",
    "ax = fig.add_subplot(111)\n",
    "ax.plot(theta, s, '.')\n",
    "ax.set_xlabel('theta in radians')\n",
    "ax.set_ylabel('value')"
   ]
  },
  {
   "cell_type": "markdown",
   "metadata": {},
   "source": [
    "t = np.arange(1, sr * dur+1)/sr\n",
    "위에서 만든 것은 2pi기 때문에 한 바퀴 밖에 사이클을 돌지 않음. 그리고 위의 것은 시간의 개념이 없음.\n",
    "그래서 시간부터 먼저 만들음.\n",
    "time tick의 개수를 index로 먼저 만든다. 만약 1초라면 time tick의 개수는 sampling rate의 개수와 일치함.\n",
    "t=np.arange(1,sr)하면 time tick의 개수가 맞음.\n",
    "여기에 t=np.arange(1,sr*dur) 하면 time tick의 개수임. 그런데 이를 sr로 나눠주면 진짜 time이 나옴. 그리고 arange가 마지막을 제외\n",
    "하므로 +1\n",
    "t=np.arange(1,sr*dur+1)/sr\n",
    "\n",
    "time을 만들었으면 theta를 정의해주어야 됨. time을 가지고 theta로 확장.\n",
    "theta = t * 2*np.pi * freq\n",
    "만약 frequency 없을 때. time에다가 2pi를 곱하면 한 바퀴 도는 것을 만들어라는 것이고 거기에 frequency를 곱하면 몇 바퀴를 돌릴 것인가.\n",
    "\n",
    "이제 theta, time, s 3개 모두 확보 됨. 이제 실제로 plot을 할 때 x에 theta를 쓰지 않고 time을 씀. 대괄호를 적는 것은 일부만 쓸 때.\n",
    "t와 s의 개수는 반드시 동일해야만 함. 시험문제 점들의 개수는? 1000개.\n",
    "부분만 ploting하는 이유: 너무 빽빽해서 sin 그래프의 모양을 알아보기 힘들어서 편의상. \n"
   ]
  },
  {
   "cell_type": "code",
   "execution_count": 50,
   "metadata": {},
   "outputs": [
    {
     "ename": "SyntaxError",
     "evalue": "invalid syntax (<ipython-input-50-0365472a324b>, line 7)",
     "output_type": "error",
     "traceback": [
      "\u001b[1;36m  File \u001b[1;32m\"<ipython-input-50-0365472a324b>\"\u001b[1;36m, line \u001b[1;32m7\u001b[0m\n\u001b[1;33m    frequency와 sr은 unit은 같지만 내용이 완전히 다르므로 주의\u001b[0m\n\u001b[1;37m                 ^\u001b[0m\n\u001b[1;31mSyntaxError\u001b[0m\u001b[1;31m:\u001b[0m invalid syntax\n"
     ]
    }
   ],
   "source": [
    "#parameter setting\n",
    "amp = 2          # range [0.0, 1.0]  진폭\n",
    "sr = 10000       # sampling rate, Hz 정보 촘촘히\n",
    "dur = 0.5        # in seconds  정보 길게\n",
    "freq = 100.0     # sine frequency, Hz 사인웨이브 반복 횟수\n",
    "\n",
    "frequency와 sr은 unit은 같지만 내용이 완전히 다르므로 주의"
   ]
  },
  {
   "cell_type": "code",
   "execution_count": 51,
   "metadata": {},
   "outputs": [],
   "source": [
    "# generate time\n",
    "t = np.arange(1, sr * dur+1)/sr"
   ]
  },
  {
   "cell_type": "code",
   "execution_count": 52,
   "metadata": {},
   "outputs": [],
   "source": [
    "# generate phase\n",
    "theta = t * 2*np.pi * freq"
   ]
  },
  {
   "cell_type": "code",
   "execution_count": 53,
   "metadata": {},
   "outputs": [],
   "source": [
    "s=np.sin(theta)"
   ]
  },
  {
   "cell_type": "code",
   "execution_count": 54,
   "metadata": {},
   "outputs": [
    {
     "data": {
      "text/plain": [
       "Text(0, 0.5, 'real')"
      ]
     },
     "execution_count": 54,
     "metadata": {},
     "output_type": "execute_result"
    },
    {
     "data": {
      "image/png": "[encoded data removed]",
      "text/plain": [
       "<Figure size 432x288 with 1 Axes>"
      ]
     },
     "metadata": {
      "needs_background": "light"
     },
     "output_type": "display_data"
    }
   ],
   "source": [
    "fig = plt.figure()\n",
    "ax = fig.add_subplot(111)\n",
    "ax.plot(t[0:1000], s[0:1000], '.')\n",
    "ax.set_xlabel('time (s)')\n",
    "ax.set_ylabel('real')"
   ]
  },
  {
   "cell_type": "code",
   "execution_count": null,
   "metadata": {},
   "outputs": [],
   "source": [
    "# generate signal by complex-phasor\n",
    "c = np.exp(theta*1j)\n",
    "exp는 exponential함수. np.exp가 오일러 function의 e라고 생각하면 됨. 그 함수 안의 값이 theta*1j라는 것의 의미는\n",
    "e의 지수로 theta*1j가 들어간다는 것임. 그런 의미에서 sin과 크게 다를 것 없음. 하나하나의 값들이 a+bi의 형태. \n",
    "e-01은 e의 -1승 이라는 의미. 밑의 값들의 표기는 e어쩌구로 표현하므로써 쓰는 형태와 정보량이 똑같음.\n",
    "complex number(복소수)의 vector가 들어있음. 복소수인 이유는 i를 사용했기 때문에.\n",
    "\n",
    "이를 plot하는 방법. figure만들고 subplot만드는데, projection을 '3d'로 함. \n",
    "ax.plot할 때 3d 답게 입력값이 3개가 들어가야함. 위의 2d같은 경우는 입력값이 2개가 들어갔었음. 한 점을 표현하기 위해서 3차원의\n",
    "벡터값이 사용됨. 또한 각각의 입력값의 정보의 개수를 동일하게 해주어야 함. 그래서 밑의 그림에도 1000개의 점이 찍힘.\n",
    "x축에 time y축에 real값, z축에 imag. c값은 대부분이 복소수값(a+bi). 그로 인해 하나의 값이 나오지만 사실 그 안에 두 개의 정보가\n",
    "들어있는 것임. exponential oyler function을 쓰면 두 개의 정보가 나오는 것임. 그래서 그 정보를 각각 따로 받아오는 방법임.\n",
    "x축은 time, 나머지 하나는 real(a값.) imag(b값.) c.real이라는 것은 a값 즉, 실수부만 빼오는 것, c.imag하면 b값 즉 허수부만 빼옴.\n",
    "이렇게 x축은 time y,z축은 실수부 허수부를 따로 받아서 plot함. \n",
    "\n",
    "오일러 공식을 보면 ⅇ^θⅈ=cos⁡(θ)+sin⁡(θ)ⅈ 인데, 이를 볼 때 cos은 실수부, sin은 허수부와 관련이 있음. real만 본다면 위에서 보면 됨.\n",
    "그렇게 했을 때 1부터 시작함. cos의 형태임. projection 즉 visualization이 왜 중요한 지를 보여줌. projection을 해 보았을 때 \n",
    "sin과 cos의 기능을 모두 가진 complex한 phasor임을 알 수 있음.\n",
    "\n",
    "오디오 play하려면 ipd를 import 하고 입력값은 signal(벡터값)과 원하는 sr을 넣어주면 됨. sin으로 만든 값을 써도 만들어지고\n",
    "c.real c.imag 같은 형태로 해도 소리 만들 수 있음."
   ]
  },
  {
   "cell_type": "code",
   "execution_count": 24,
   "metadata": {},
   "outputs": [
    {
     "data": {
      "text/plain": [
       "array([0.99802673+6.27905195e-02j, 0.9921147 +1.25333234e-01j,\n",
       "       0.98228725+1.87381315e-01j, ..., 0.9921147 -1.25333234e-01j,\n",
       "       0.99802673-6.27905195e-02j, 1.        +1.96438672e-15j])"
      ]
     },
     "execution_count": 24,
     "metadata": {},
     "output_type": "execute_result"
    }
   ],
   "source": [
    "# generate signal by complex-phasor\n",
    "c = np.exp(theta*1j)\n",
    "c"
   ]
  },
  {
   "cell_type": "code",
   "execution_count": 25,
   "metadata": {},
   "outputs": [
    {
     "data": {
      "text/plain": [
       "Text(0.5, 0, 'imag')"
      ]
     },
     "execution_count": 25,
     "metadata": {},
     "output_type": "execute_result"
    },
    {
     "data": {
      "image/png": "[encoded data removed]",
      "text/plain": [
       "<Figure size 432x288 with 1 Axes>"
      ]
     },
     "metadata": {
      "needs_background": "light"
     },
     "output_type": "display_data"
    }
   ],
   "source": [
    "fig = plt.figure()\n",
    "ax = fig.add_subplot(111, projection='3d')\n",
    "ax.plot(t[0:1000], c.real[0:1000], c.imag[0:1000], '-')\n",
    "ax.set_xlabel('time (s)')\n",
    "ax.set_ylabel('real')\n",
    "ax.set_zlabel('imag')"
   ]
  },
  {
   "cell_type": "code",
   "execution_count": 26,
   "metadata": {},
   "outputs": [
    {
     "data": {
      "text/html": [
       "\n",
       "                <audio  controls=\"controls\" >\n",
       "                    <source src=\"data:audio/wav;base64,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\" type=\"audio/wav\" />\n",
       "                    Your browser does not support the audio element.\n",
       "                </audio>\n",
       "              "
      ],
      "text/plain": [
       "<IPython.lib.display.Audio object>"
      ]
     },
     "execution_count": 26,
     "metadata": {},
     "output_type": "execute_result"
    }
   ],
   "source": [
    "ipd.Audio(s, rate=sr)\n"
   ]
  },
  {
   "cell_type": "code",
   "execution_count": 27,
   "metadata": {},
   "outputs": [
    {
     "data": {
      "text/html": [
       "\n",
       "                <audio  controls=\"controls\" >\n",
       "                    <source src=\"data:audio/wav;base64,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\" type=\"audio/wav\" />\n",
       "                    Your browser does not support the audio element.\n",
       "                </audio>\n",
       "              "
      ],
      "text/plain": [
       "<IPython.lib.display.Audio object>"
      ]
     },
     "execution_count": 27,
     "metadata": {},
     "output_type": "execute_result"
    }
   ],
   "source": [
    "ipd.Audio(c.real, rate=sr)"
   ]
  },
  {
   "cell_type": "code",
   "execution_count": null,
   "metadata": {},
   "outputs": [],
   "source": [
    "다른 방법의 sound play. "
   ]
  },
  {
   "cell_type": "code",
   "execution_count": null,
   "metadata": {},
   "outputs": [],
   "source": [
    " #!pip install sounddevice\n",
    "import sounddevice as sd\n",
    "sd.play(c.real.sr)"
   ]
  },
  {
   "cell_type": "markdown",
   "metadata": {},
   "source": [
    "s=np.sin(theta)  ->-1~1까지 가는 그래프이고 전체에 x2를 하면 -2~2 이게 amplitude임.\n",
    "s=amp*np.sin(theta) 이렇게 해주면 amplitude가 구현이 됨"
   ]
  },
  {
   "cell_type": "code",
   "execution_count": 55,
   "metadata": {},
   "outputs": [],
   "source": [
    "s=amp*np.sin(theta)"
   ]
  },
  {
   "cell_type": "markdown",
   "metadata": {},
   "source": [
    "가장 최소의 f0를 정하고 그에 따른 sine wave를 만들고 그의 배음을 얹음(덧셈)\n",
    "sampling rate과 frequency가 연결되는 부분이 있음. sampling rate이 100hz라고 가정했을 시, 100개의 숫자를 가지고 frequency를 1hz frequency표현할 수 있을까 없을까? ㅇㅇ. 한 번의 sine wave 주기가 있으면 됨. 2hz는 가능할까요? ㅇㅇ 두 번 왔다갔다하면 됨. 10000hz 가능할까?ㄴㄴ. sampling rate이 1초에 충분히 있어야 그만큼의 주파수를 표현할 수 있음.sr=10hz, fr=100hz. 10hz 아무리 아껴써도 5번밖에 표현 못함. 즉 sr로 maximum 절반밖에 표현 못함.. 즉 sr=10hz면 fr=5hz maximum 표현 가능. 이를 Nyquist frequency라고 부름. Nyquist frequency는 sr의 1/2임. 즉, Nyquist frequency가 표현가능한 frequency의 maximum이다. \n",
    "\n",
    "우리가 cd에 담는 것은 sr=44100hz임. 이것의 nyquist frequency는 22050hz. cd음질은 44100hz로 잡은 이유? 사람의 가청주파수가 20000hz. 그러므로 22050hz면 사람이 들을 수 있는 소리를 경제적으로 충분히 표현 가능. cf)유선 전화 sampling rate은 8000hz. 이의 Nyquist frequency는 4000hz.그래서 소리가 헷갈릴 때가 많음. 그런데 요즘 폰은 sr이 16000hz까지 올라갔다고 한다.\n",
    "cf)초음파- 사람의 가청주파수를 넘은 소리임. \n"
   ]
  },
  {
   "cell_type": "markdown",
   "metadata": {},
   "source": [
    "f0를 100으로 했고, 이 끝은 sampling rate의 절반까지 올라갈 수 있음. 제일 마지막을 Fend라는 variable로 함. 이게 Nyquist frequency임.\n",
    "이를 지저분하지 않게 int로 반올림처리 했음. 이 밑 식에서 time은 이미 만들어졌다고 가정한 상태. frequency만 바꾸면서 반복을 하면 되는데   range(F0, Fend+1, F0(increment)) 100~5000까지 50번의 loop가 돌음.\n",
    "s = s + tmp 할 때 제일 처음의 s가 정의되어있지 않으면 error message가 남. 그래서 제일 처음의 s값을 정의해주어야 함.\n",
    "s = np.zeros(len(t))이것이 제일 처음의 s 값임. time vector의 개수만큼 0을 만들어 줌. 그 다음에 sine wave를 만들어서 더하고 더하고.. 100hz부터 5000hz까지 다 더해진 s를 plot함.  여러 sound를 harmonix해서 만든 소리임. 매우 정교한 소리. 이를 purse train이라고 명한 이유: \n"
   ]
  },
  {
   "cell_type": "code",
   "execution_count": 58,
   "metadata": {},
   "outputs": [
    {
     "data": {
      "text/html": [
       "\n",
       "                <audio  controls=\"controls\" >\n",
       "                    <source src=\"data:audio/wav;base64,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\" type=\"audio/wav\" />\n",
       "                    Your browser does not support the audio element.\n",
       "                </audio>\n",
       "              "
      ],
      "text/plain": [
       "<IPython.lib.display.Audio object>"
      ]
     },
     "execution_count": 58,
     "metadata": {},
     "output_type": "execute_result"
    },
    {
     "data": {
      "image/png": "[encoded data removed]",
      "text/plain": [
       "<Figure size 432x288 with 1 Axes>"
      ]
     },
     "metadata": {
      "needs_background": "light"
     },
     "output_type": "display_data"
    }
   ],
   "source": [
    "# generate samples, note conversion to float32 array\n",
    "F0 = 100; Fend = int(sr/2); s = np.zeros(len(t));\n",
    "for freq in range(F0, Fend+1, F0):\n",
    "    theta = t * 2*np.pi * freq\n",
    "    tmp = amp * np.sin(theta)\n",
    "    s = s + tmp\n",
    "fig = plt.figure()\n",
    "ax = fig.add_subplot(111)\n",
    "ax.plot(t[0:1000], s[0:1000]); \n",
    "ax.set_xlabel('time (msec)')\n",
    "ipd.Audio(s, rate=sr)"
   ]
  },
  {
   "cell_type": "code",
   "execution_count": null,
   "metadata": {},
   "outputs": [],
   "source": [
    "sine wave를 더해나가면 purse train의 형태가 나온다는 것까지 배웠음. x축은 time. y축은 value. energy.\n",
    "waveform 말고 spectrogram의 형태로 볼 수도 있더라(frequency성분대별로 확인) \n",
    "한 슬라이스만 잘라서 이 부분에 어떤 frequency 성분이 많은지 분석. frequency(x)-amplitude(y)그래프인 spectrum.\n",
    "spectrum을 시간 순으로 나열해서 보여주는 그래프가 spectrogram. \n",
    "formant. 특히 f1. f2에 따라 모음의 종류 구분 하는 것. 그 과정을 파이썬으로 할 것임.\n",
    "source의 스펙트럼 보면 gradually decreasing.-첫 번째\n",
    "산맥을 하나하나씩 만들 것임-두 번째\n",
    "이후에도 산맥을 하나씩 더 만듦.\n",
    "\n",
    "+위의 그림은 waveform이지 spectrum이 아님. spectrum은 이 부분에서 한 부분을 따서 만든 frequency-amplitude그래프임.\n"
   ]
  },
  {
   "cell_type": "code",
   "execution_count": 1,
   "metadata": {},
   "outputs": [],
   "source": [
    "from matplotlib import pyplot as plt\n",
    "from mpl_toolkits.mplot3d import Axes3D\n",
    "from mpl_toolkits.axes_grid1 import make_axes_locatable\n",
    "import IPython.display as ipd\n",
    "import numpy as np\n",
    "%matplotlib notebook\n",
    "from scipy.signal import lfilter"
   ]
  },
  {
   "cell_type": "code",
   "execution_count": 17,
   "metadata": {},
   "outputs": [],
   "source": [
    "#parameter setting\n",
    "amp = 1         # range [0.0, 1.0]  진폭\n",
    "sr = 10000       # sampling rate, Hz 정보 촘촘히\n",
    "dur = 0.5        # in seconds  정보 길게\n",
    "freq = 880.0     # sine frequency, Hz 사인웨이브 반복 횟수"
   ]
  },
  {
   "cell_type": "code",
   "execution_count": 18,
   "metadata": {},
   "outputs": [],
   "source": [
    "t = np.arange(1, sr * dur+1)/sr"
   ]
  },
  {
   "cell_type": "code",
   "execution_count": 19,
   "metadata": {},
   "outputs": [],
   "source": [
    "theta = t * 2*np.pi * freq"
   ]
  },
  {
   "cell_type": "code",
   "execution_count": 22,
   "metadata": {},
   "outputs": [],
   "source": [
    "s=amp*np.cos(theta)"
   ]
  },
  {
   "cell_type": "markdown",
   "metadata": {},
   "source": [
    "sin으로 하냐 cos으로 하냐가 1부터 시작이냐 아니냐냐지 소리는 똑같이 들림. sin 그래프와 cos그래프를 같게 만드려면 pi/2 만큼 이동하면 됨.\n",
    "pi/8만큼 이동하건 몇도를 이동하건 소리가 안달라진다. phase는 우리가 들을 때 인식을 못한다. phase shift에 대한 sensitivity를 가지고 있지 않고, frequency shift에 관해서 sensitive함. \n"
   ]
  },
  {
   "cell_type": "code",
   "execution_count": 21,
   "metadata": {},
   "outputs": [
    {
     "data": {
      "text/plain": [
       "[<matplotlib.lines.Line2D at 0x23bc2739ac8>]"
      ]
     },
     "execution_count": 21,
     "metadata": {},
     "output_type": "execute_result"
    },
    {
     "data": {
      "image/png": "[encoded data removed]",
      "text/plain": [
       "<Figure size 432x288 with 1 Axes>"
      ]
     },
     "metadata": {
      "needs_background": "light"
     },
     "output_type": "display_data"
    }
   ],
   "source": [
    "fig = plt.figure()\n",
    "ax = fig.add_subplot(111)\n",
    "ax.plot(t[0:100], s[0:100], '.')"
   ]
  },
  {
   "cell_type": "code",
   "execution_count": 16,
   "metadata": {},
   "outputs": [
    {
     "data": {
      "text/html": [
       "\n",
       "                <audio  controls=\"controls\" >\n",
       "                    <source src=\"data:audio/wav;base64,UklGRjQnAABXQVZFZm10IBAAAAABAAEAECcAACBOAAACABAAZGF0YRAnAAA5Q2pygn+bZh8vmenAqk6FbYRgqHDmHSymZDB/0nPxRTcDib8Qj0CAgZfnzToT01K9eV988Vm1HOvWX503gdiKY7eS+ao9Y2/qf1JqCjX176evS4fogsyjK+AFJoxgTX5qdj1LpAksxTySAoDskwzI2AzRTZl3vX1oXvAiEN2YoUOCZ4gvsijz9DcUbP5/xG3UOlz2w7SWibOBdJ/72dUfNFwYfbV4WVALEPbKrpUWgJ2QVsJuBp1IKHXJfqFiFSlL4w+moYNDhi2txuwZMn9owH/wcHdAyfwPui6M0IBam+PTkBmgV5N7snpAVWcW4dBlmX6Alo3HvAAAOUNqcoJ/m2YfL5npwKpOhW2EYKhw5h0spmQwf9Jz8UU3A4m/EI9AgIGX5806E9NSvXlffPFZtRzr1l+dN4HYimO3kvmqPWNv6n9Sago19e+nr0uH6ILMoyvgBSaMYE1+anY9S6QJLMU8kgKA7JMMyNgM0U2Zd719aF7wIhDdmKFDgmeIL7Io8/Q3FGz+f8Rt1Dpc9sO0lomzgXSf+9nVHzRcGH21eFlQCxD2yq6VFoCdkFbCbgadSCh1yX6hYhUpS+MPpqGDQ4YtrcbsGTJ/aMB/8HB3QMn8D7oujNCAWpvj05AZoFeTe7J6QFVnFuHQZZl+gJaNx7wAADlDanKCf5tmHy+Z6cCqToVthGCocOYdLKZkMH/Sc/FFNwOJvxCPQICBl+fNOhPTUr15X3zxWbUc69ZfnTeB2Ipjt5L5qj1jb+p/UmoKNfXvp69Lh+iCzKMr4AUmjGBNfmp2PUukCSzFPJICgOyTDMjYDNFNmXe9fWhe8CIQ3ZihQ4JniC+yKPP0NxRs/n/EbdQ6XPbDtJaJs4F0n/vZ1R80XBh9tXhZUAsQ9squlRaAnZBWwm4GnUgodcl+oWIVKUvjD6ahg0OGLa3G7Bkyf2jAf/Bwd0DJ/A+6LozQgFqb49OQGaBXk3uyekBVZxbh0GWZfoCWjce8AAA5Q2pygn+bZh8vmenAqk6FbYRgqHDmHSymZDB/0nPxRTcDib8Qj0CAgZfnzToT01K9eV988Vm1HOvWX503gdiKY7eS+ao9Y2/qf1JqCjX176evS4fogsyjK+AFJoxgTX5qdj1LpAksxTySAoDskwzI2AzRTZl3vX1oXvAiEN2YoUOCZ4gvsijz9DcUbP5/xG3UOlz2w7SWibOBdJ/72dUfNFwYfbV4WVALEPbKrpUWgJ2QVsJuBp1IKHXJfqFiFSlL4w+moYNDhi2txuwZMn9owH/wcHdAyfwPui6M0IBam+PTkBmgV5N7snpAVWcW4dBlmX6Alo3HvAAAOUNqcoJ/m2YfL5npwKpOhW2EYKhw5h0spmQwf9Jz8UU3A4m/EI9AgIGX5806E9NSvXlffPFZtRzr1l+dN4HYimO3kvmqPWNv6n9Sago19e+nr0uH6ILMoyvgBSaMYE1+anY9S6QJLMU8kgKA7JMMyNgM0U2Zd719aF7wIhDdmKFDgmeIL7Io8/Q3FGz+f8Rt1Dpc9sO0lomzgXSf+9nVHzRcGH21eFlQCxD2yq6VFoCdkFbCbgadSCh1yX6hYhUpS+MPpqGDQ4YtrcbsGTJ/aMB/8HB3QMn8D7oujNCAWpvj05AZoFeTe7J6QFVnFuHQZZl+gJaNx7wAADlDanKCf5tmHy+Z6cCqToVthGCocOYdLKZkMH/Sc/FFNwOJvxCPQICBl+fNOhPTUr15X3zxWbUc69ZfnTeB2Ipjt5L5qj1jb+p/UmoKNfXvp69Lh+iCzKMr4AUmjGBNfmp2PUukCSzFPJICgOyTDMjYDNFNmXe9fWhe8CIQ3ZihQ4JniC+yKPP0NxRs/n/EbdQ6XPbDtJaJs4F0n/vZ1R80XBh9tXhZUAsQ9squlRaAnZBWwm4GnUgodcl+oWIVKUvjD6ahg0OGLa3G7Bkyf2jAf/Bwd0DJ/A+6LozQgFqb49OQGaBXk3uyekBVZxbh0GWZfoCWjce8AAA5Q2pygn+bZh8vmenAqk6FbYRgqHDmHSymZDB/0nPxRTcDib8Qj0CAgZfnzToT01K9eV988Vm1HOvWX503gdiKY7eS+ao9Y2/qf1JqCjX176evS4fogsyjK+AFJoxgTX5qdj1LpAksxTySAoDskwzI2AzRTZl3vX1oXvAiEN2YoUOCZ4gvsijz9DcUbP5/xG3UOlz2w7SWibOBdJ/72dUfNFwYfbV4WVALEPbKrpUWgJ2QVsJuBp1IKHXJfqFiFSlL4w+moYNDhi2txuwZMn9owH/wcHdAyfwPui6M0IBam+PTkBmgV5N7snpAVWcW4dBlmX6Alo3HvAAAOUNqcoJ/m2YfL5npwKpOhW2EYKhw5h0spmQwf9Jz8UU3A4m/EI9AgIGX5806E9NSvXlffPFZtRzr1l+dN4HYimO3kvmqPWNv6n9Sago19e+nr0uH6ILMoyvgBSaMYE1+anY9S6QJLMU8kgKA7JMMyNgM0U2Zd719aF7wIhDdmKFDgmeIL7Io8/Q3FGz+f8Rt1Dpc9sO0lomzgXSf+9nVHzRcGH21eFlQCxD2yq6VFoCdkFbCbgadSCh1yX6hYhUpS+MPpqGDQ4YtrcbsGTJ/aMB/8HB3QMn8D7oujNCAWpvj05AZoFeTe7J6QFVnFuHQZZl+gJaNx7wAADlDanKCf5tmHy+Z6cCqToVthGCocOYdLKZkMH/Sc/FFNwOJvxCPQICBl+fNOhPTUr15X3zxWbUc69ZfnTeB2Ipjt5L5qj1jb+p/UmoKNfXvp69Lh+iCzKMr4AUmjGBNfmp2PUukCSzFPJICgOyTDMjYDNFNmXe9fWhe8CIQ3ZihQ4JniC+yKPP0NxRs/n/EbdQ6XPbDtJaJs4F0n/vZ1R80XBh9tXhZUAsQ9squlRaAnZBWwm4GnUgodcl+oWIVKUvjD6ahg0OGLa3G7Bkyf2jAf/Bwd0DJ/A+6LozQgFqb49OQGaBXk3uyekBVZxbh0GWZfoCWjce8AAA5Q2pygn+bZh8vmenAqk6FbYRgqHDmHSymZDB/0nPxRTcDib8Qj0CAgZfnzToT01K9eV988Vm1HOvWX503gdiKY7eS+ao9Y2/qf1JqCjX176evS4fogsyjK+AFJoxgTX5qdj1LpAksxTySAoDskwzI2AzRTZl3vX1oXvAiEN2YoUOCZ4gvsijz9DcUbP5/xG3UOlz2w7SWibOBdJ/72dUfNFwYfbV4WVALEPbKrpUWgJ2QVsJuBp1IKHXJfqFiFSlL4w+moYNDhi2txuwZMn9owH/wcHdAyfwPui6M0IBam+PTkBmgV5N7snpAVWcW4dBlmX6Alo3HvAAAOUNqcoJ/m2YfL5npwKpOhW2EYKhw5h0spmQwf9Jz8UU3A4m/EI9AgIGX5806E9NSvXlffPFZtRzr1l+dN4HYimO3kvmqPWNv6n9Sago19e+nr0uH6ILMoyvgBSaMYE1+anY9S6QJLMU8kgKA7JMMyNgM0U2Zd719aF7wIhDdmKFDgmeIL7Io8/Q3FGz+f8Rt1Dpc9sO0lomzgXSf+9nVHzRcGH21eFlQCxD2yq6VFoCdkFbCbgadSCh1yX6hYhUpS+MPpqGDQ4YtrcbsGTJ/aMB/8HB3QMn8D7oujNCAWpvj05AZoFeTe7J6QFVnFuHQZZl+gJaNx7wAADlDanKCf5tmHy+Z6cCqToVthGCocOYdLKZkMH/Sc/FFNwOJvxCPQICBl+fNOhPTUr15X3zxWbUc69ZfnTeB2Ipjt5L5qj1jb+p/UmoKNfXvp69Lh+iCzKMr4AUmjGBNfmp2PUukCSzFPJICgOyTDMjYDNFNmXe9fWhe8CIQ3ZihQ4JniC+yKPP0NxRs/n/EbdQ6XPbDtJaJs4F0n/vZ1R80XBh9tXhZUAsQ9squlRaAnZBWwm4GnUgodcl+oWIVKUvjD6ahg0OGLa3G7Bkyf2jAf/Bwd0DJ/A+6LozQgFqb49OQGaBXk3uyekBVZxbh0GWZfoCWjce8AAA5Q2pygn+bZh8vmenAqk6FbYRgqHDmHSymZDB/0nPxRTcDib8Qj0CAgZfnzToT01K9eV988Vm1HOvWX503gdiKY7eS+ao9Y2/qf1JqCjX176evS4fogsyjK+AFJoxgTX5qdj1LpAksxTySAoDskwzI2AzRTZl3vX1oXvAiEN2YoUOCZ4gvsijz9DcUbP5/xG3UOlz2w7SWibOBdJ/72dUfNFwYfbV4WVALEPbKrpUWgJ2QVsJuBp1IKHXJfqFiFSlL4w+moYNDhi2txuwZMn9owH/wcHdAyfwPui6M0IBam+PTkBmgV5N7snpAVWcW4dBlmX6Alo3HvAAAOUNqcoJ/m2YfL5npwKpOhW2EYKhw5h0spmQwf9Jz8UU3A4m/EI9AgIGX5806E9NSvXlffPFZtRzr1l+dN4HYimO3kvmqPWNv6n9Sago19e+nr0uH6ILMoyvgBSaMYE1+anY9S6QJLMU8kgKA7JMMyNgM0U2Zd719aF7wIhDdmKFDgmeIL7Io8/Q3FGz+f8Rt1Dpc9sO0lomzgXSf+9nVHzRcGH21eFlQCxD2yq6VFoCdkFbCbgadSCh1yX6hYhUpS+MPpqGDQ4YtrcbsGTJ/aMB/8HB3QMn8D7oujNCAWpvj05AZoFeTe7J6QFVnFuHQZZl+gJaNx7wAADlDanKCf5tmHy+Z6cCqToVthGCocOYdLKZkMH/Sc/FFNwOJvxCPQICBl+fNOhPTUr15X3zxWbUc69ZfnTeB2Ipjt5L5qj1jb+p/UmoKNfXvp69Lh+iCzKMr4AUmjGBNfmp2PUukCSzFPJICgOyTDMjYDNFNmXe9fWhe8CIQ3ZihQ4JniC+yKPP0NxRs/n/EbdQ6XPbDtJaJs4F0n/vZ1R80XBh9tXhZUAsQ9squlRaAnZBWwm4GnUgodcl+oWIVKUvjD6ahg0OGLa3G7Bkyf2jAf/Bwd0DJ/A+6LozQgFqb49OQGaBXk3uyekBVZxbh0GWZfoCWjce8AAA5Q2pygn+bZh8vmenAqk6FbYRgqHDmHSymZDB/0nPxRTcDib8Qj0CAgZfnzToT01K9eV988Vm1HOvWX503gdiKY7eS+ao9Y2/qf1JqCjX176evS4fogsyjK+AFJoxgTX5qdj1LpAksxTySAoDskwzI2AzRTZl3vX1oXvAiEN2YoUOCZ4gvsijz9DcUbP5/xG3UOlz2w7SWibOBdJ/72dUfNFwYfbV4WVALEPbKrpUWgJ2QVsJuBp1IKHXJfqFiFSlL4w+moYNDhi2txuwZMn9owH/wcHdAyfwPui6M0IBam+PTkBmgV5N7snpAVWcW4dBlmX6Alo3HvAAAOUNqcoJ/m2YfL5npwKpOhW2EYKhw5h0spmQwf9Jz8UU3A4m/EI9AgIGX5806E9NSvXlffPFZtRzr1l+dN4HYimO3kvmqPWNv6n9Sago19e+nr0uH6ILMoyvgBSaMYE1+anY9S6QJLMU8kgKA7JMMyNgM0U2Zd719aF7wIhDdmKFDgmeIL7Io8/Q3FGz+f8Rt1Dpc9sO0lomzgXSf+9nVHzRcGH21eFlQCxD2yq6VFoCdkFbCbgadSCh1yX6hYhUpS+MPpqGDQ4YtrcbsGTJ/aMB/8HB3QMn8D7oujNCAWpvj05AZoFeTe7J6QFVnFuHQZZl+gJaNx7wAADlDanKCf5tmHy+Z6cCqToVthGCocOYdLKZkMH/Sc/FFNwOJvxCPQICBl+fNOhPTUr15X3zxWbUc69ZfnTeB2Ipjt5L5qj1jb+p/UmoKNfXvp69Lh+iCzKMr4AUmjGBNfmp2PUukCSzFPJICgOyTDMjYDNFNmXe9fWhe8CIQ3ZihQ4JniC+yKPP0NxRs/n/EbdQ6XPbDtJaJs4F0n/vZ1R80XBh9tXhZUAsQ9squlRaAnZBWwm4GnUgodcl+oWIVKUvjD6ahg0OGLa3G7Bkyf2jAf/Bwd0DJ/A+6LozQgFqb49OQGaBXk3uyekBVZxbh0GWZfoCWjce8AAA5Q2pygn+bZh8vmenAqk6FbYRgqHDmHSymZDB/0nPxRTcDib8Qj0CAgZfnzToT01K9eV988Vm1HOvWX503gdiKY7eS+ao9Y2/qf1JqCjX176evS4fogsyjK+AFJoxgTX5qdj1LpAksxTySAoDskwzI2AzRTZl3vX1oXvAiEN2YoUOCZ4gvsijz9DcUbP5/xG3UOlz2w7SWibOBdJ/72dUfNFwYfbV4WVALEPbKrpUWgJ2QVsJuBp1IKHXJfqFiFSlL4w+moYNDhi2txuwZMn9owH/wcHdAyfwPui6M0IBam+PTkBmgV5N7snpAVWcW4dBlmX6Alo3HvAAAOUNqcoJ/m2YfL5npwKpOhW2EYKhw5h0spmQwf9Jz8UU3A4m/EI9AgIGX5806E9NSvXlffPFZtRzr1l+dN4HYimO3kvmqPWNv6n9Sago19e+nr0uH6ILMoyvgBSaMYE1+anY9S6QJLMU8kgKA7JMMyNgM0U2Zd719aF7wIhDdmKFDgmeIL7Io8/Q3FGz+f8Rt1Dpc9sO0lomzgXSf+9nVHzRcGH21eFlQCxD2yq6VFoCdkFbCbgadSCh1yX6hYhUpS+MPpqGDQ4YtrcbsGTJ/aMB/8HB3QMn8D7oujNCAWpvj05AZoFeTe7J6QFVnFuHQZZl+gJaNx7wAADlDanKCf5tmHy+Z6cCqToVthGCocOYdLKZkMH/Sc/FFNwOJvxCPQICBl+fNOhPTUr15X3zxWbUc69ZfnTeB2Ipjt5L5qj1jb+p/UmoKNfXvp69Lh+iCzKMr4AUmjGBNfmp2PUukCSzFPJICgOyTDMjYDNFNmXe9fWhe8CIQ3ZihQ4JniC+yKPP0NxRs/n/EbdQ6XPbDtJaJs4F0n/vZ1R80XBh9tXhZUAsQ9squlRaAnZBWwm4GnUgodcl+oWIVKUvjD6ahg0OGLa3G7Bkyf2jAf/Bwd0DJ/A+6LozQgFqb49OQGaBXk3uyekBVZxbh0GWZfoCWjce8AAA5Q2pygn+bZh8vmenAqk6FbYRgqHDmHSymZDB/0nPxRTcDib8Qj0CAgZfnzToT01K9eV988Vm1HOvWX503gdiKY7eS+ao9Y2/qf1JqCjX176evS4fogsyjK+AFJoxgTX5qdj1LpAksxTySAoDskwzI2AzRTZl3vX1oXvAiEN2YoUOCZ4gvsijz9DcUbP5/xG3UOlz2w7SWibOBdJ/72dUfNFwYfbV4WVALEPbKrpUWgJ2QVsJuBp1IKHXJfqFiFSlL4w+moYNDhi2txuwZMn9owH/wcHdAyfwPui6M0IBam+PTkBmgV5N7snpAVWcW4dBlmX6Alo3HvAAAOUNqcoJ/m2YfL5npwKpOhW2EYKhw5h0spmQwf9Jz8UU3A4m/EI9AgIGX5806E9NSvXlffPFZtRzr1l+dN4HYimO3kvmqPWNv6n9Sago19e+nr0uH6ILMoyvgBSaMYE1+anY9S6QJLMU8kgKA7JMMyNgM0U2Zd719aF7wIhDdmKFDgmeIL7Io8/Q3FGz+f8Rt1Dpc9sO0lomzgXSf+9nVHzRcGH21eFlQCxD2yq6VFoCdkFbCbgadSCh1yX6hYhUpS+MPpqGDQ4YtrcbsGTJ/aMB/8HB3QMn8D7oujNCAWpvj05AZoFeTe7J6QFVnFuHQZZl+gJaNx7wAADlDanKCf5tmHy+Z6cCqToVthGCocOYdLKZkMH/Sc/FFNwOJvxCPQICBl+fNOhPTUr15X3zxWbUc69ZfnTeB2Ipjt5L5qj1jb+p/UmoKNfXvp69Lh+iCzKMr4AUmjGBNfmp2PUukCSzFPJICgOyTDMjYDNFNmXe9fWhe8CIQ3ZihQ4JniC+yKPP0NxRs/n/EbdQ6XPbDtJaJs4F0n/vZ1R80XBh9tXhZUAsQ9squlRaAnZBWwm4GnUgodcl+oWIVKUvjD6ahg0OGLa3G7Bkyf2jAf/Bwd0DJ/A+6LozQgFqb49OQGaBXk3uyekBVZxbh0GWZfoCWjce8AAA5Q2pygn+bZh8vmenAqk6FbYRgqHDmHSymZDB/0nPxRTcDib8Qj0CAgZfnzToT01K9eV988Vm1HOvWX503gdiKY7eS+ao9Y2/qf1JqCjX176evS4fogsyjK+AFJoxgTX5qdj1LpAksxTySAoDskwzI2AzRTZl3vX1oXvAiEN2YoUOCZ4gvsijz9DcUbP5/xG3UOlz2w7SWibOBdJ/72dUfNFwYfbV4WVALEPbKrpUWgJ2QVsJuBp1IKHXJfqFiFSlL4w+moYNDhi2txuwZMn9owH/wcHdAyfwPui6M0IBam+PTkBmgV5N7snpAVWcW4dBlmX6Alo3HvAAAOUNqcoJ/m2YfL5npwKpOhW2EYKhw5h0spmQwf9Jz8UU3A4m/EI9AgIGX5806E9NSvXlffPFZtRzr1l+dN4HYimO3kvmqPWNv6n9Sago19e+nr0uH6ILMoyvgBSaMYE1+anY9S6QJLMU8kgKA7JMMyNgM0U2Zd719aF7wIhDdmKFDgmeIL7Io8/Q3FGz+f8Rt1Dpc9sO0lomzgXSf+9nVHzRcGH21eFlQCxD2yq6VFoCdkFbCbgadSCh1yX6hYhUpS+MPpqGDQ4YtrcbsGTJ/aMB/8HB3QMn8D7oujNCAWpvj05AZoFeTe7J6QFVnFuHQZZl+gJaNx7wAADlDanKCf5tmHy+Z6cCqToVthGCocOYdLKZkMH/Sc/FFNwOJvxCPQICBl+fNOhPTUr15X3zxWbUc69ZfnTeB2Ipjt5L5qj1jb+p/UmoKNfXvp69Lh+iCzKMr4AUmjGBNfmp2PUukCSzFPJICgOyTDMjYDNFNmXe9fWhe8CIQ3ZihQ4JniC+yKPP0NxRs/n/EbdQ6XPbDtJaJs4F0n/vZ1R80XBh9tXhZUAsQ9squlRaAnZBWwm4GnUgodcl+oWIVKUvjD6ahg0OGLa3G7Bkyf2jAf/Bwd0DJ/A+6LozQgFqb49OQGaBXk3uyekBVZxbh0GWZfoCWjce8AAA5Q2pygn+bZh8vmenAqk6FbYRgqHDmHSymZDB/0nPxRTcDib8Qj0CAgZfnzToT01K9eV988Vm1HOvWX503gdiKY7eS+ao9Y2/qf1JqCjX176evS4fogsyjK+AFJoxgTX5qdj1LpAksxTySAoDskwzI2AzRTZl3vX1oXvAiEN2YoUOCZ4gvsijz9DcUbP5/xG3UOlz2w7SWibOBdJ/72dUfNFwYfbV4WVALEPbKrpUWgJ2QVsJuBp1IKHXJfqFiFSlL4w+moYNDhi2txuwZMn9owH/wcHdAyfwPui6M0IBam+PTkBmgV5N7snpAVWcW4dBlmX6Alo3HvAAAOUNqcoJ/m2YfL5npwKpOhW2EYKhw5h0spmQwf9Jz8UU3A4m/EI9AgIGX5806E9NSvXlffPFZtRzr1l+dN4HYimO3kvmqPWNv6n9Sago19e+nr0uH6ILMoyvgBSaMYE1+anY9S6QJLMU8kgKA7JMMyNgM0U2Zd719aF7wIhDdmKFDgmeIL7Io8/Q3FGz+f8Rt1Dpc9sO0lomzgXSf+9nVHzRcGH21eFlQCxD2yq6VFoCdkFbCbgadSCh1yX6hYhUpS+MPpqGDQ4YtrcbsGTJ/aMB/8HB3QMn8D7oujNCAWpvj05AZoFeTe7J6QFVnFuHQZZl+gJaNx7wAADlDanKCf5tmHy+Z6cCqToVthGCocOYdLKZkMH/Sc/FFNwOJvxCPQICBl+fNOhPTUr15X3zxWbUc69ZfnTeB2Ipjt5L5qj1jb+p/UmoKNfXvp69Lh+iCzKMr4AUmjGBNfmp2PUukCSzFPJICgOyTDMjYDNFNmXe9fWhe8CIQ3ZihQ4JniC+yKPP0NxRs/n/EbdQ6XPbDtJaJs4F0n/vZ1R80XBh9tXhZUAsQ9squlRaAnZBWwm4GnUgodcl+oWIVKUvjD6ahg0OGLa3G7Bkyf2jAf/Bwd0DJ/A+6LozQgFqb49OQGaBXk3uyekBVZxbh0GWZfoCWjce8AAA5Q2pygn+bZh8vmenAqk6FbYRgqHDmHSymZDB/0nPxRTcDib8Qj0CAgZfnzToT01K9eV988Vm1HOvWX503gdiKY7eS+ao9Y2/qf1JqCjX176evS4fogsyjK+AFJoxgTX5qdj1LpAksxTySAoDskwzI2AzRTZl3vX1oXvAiEN2YoUOCZ4gvsijz9DcUbP5/xG3UOlz2w7SWibOBdJ/72dUfNFwYfbV4WVALEPbKrpUWgJ2QVsJuBp1IKHXJfqFiFSlL4w+moYNDhi2txuwZMn9owH/wcHdAyfwPui6M0IBam+PTkBmgV5N7snpAVWcW4dBlmX6Alo3HvAAAOUNqcoJ/m2YfL5npwKpOhW2EYKhw5h0spmQwf9Jz8UU3A4m/EI9AgIGX5806E9NSvXlffPFZtRzr1l+dN4HYimO3kvmqPWNv6n9Sago19e+nr0uH6ILMoyvgBSaMYE1+anY9S6QJLMU8kgKA7JMMyNgM0U2Zd719aF7wIhDdmKFDgmeIL7Io8/Q3FGz+f8Rt1Dpc9sO0lomzgXSf+9nVHzRcGH21eFlQCxD2yq6VFoCdkFbCbgadSCh1yX6hYhUpS+MPpqGDQ4YtrcbsGTJ/aMB/8HB3QMn8D7oujNCAWpvj05AZoFeTe7J6QFVnFuHQZZl+gJaNx7wAADlDanKCf5tmHy+Z6cCqToVthGCocOYdLKZkMH/Sc/FFNwOJvxCPQICBl+fNOhPTUr15X3zxWbUc69ZfnTeB2Ipjt5L5qj1jb+p/UmoKNfXvp69Lh+iCzKMr4AUmjGBNfmp2PUukCSzFPJICgOyTDMjYDNFNmXe9fWhe8CIQ3ZihQ4JniC+yKPP0NxRs/n/EbdQ6XPbDtJaJs4F0n/vZ1R80XBh9tXhZUAsQ9squlRaAnZBWwm4GnUgodcl+oWIVKUvjD6ahg0OGLa3G7Bkyf2jAf/Bwd0DJ/A+6LozQgFqb49OQGaBXk3uyekBVZxbh0GWZfoCWjce8AAA5Q2pygn+bZh8vmenAqk6FbYRgqHDmHSymZDB/0nPxRTcDib8Qj0CAgZfnzToT01K9eV988Vm1HOvWX503gdiKY7eS+ao9Y2/qf1JqCjX176evS4fogsyjK+AFJoxgTX5qdj1LpAksxTySAoDskwzI2AzRTZl3vX1oXvAiEN2YoUOCZ4gvsijz9DcUbP5/xG3UOlz2w7SWibOBdJ/72dUfNFwYfbV4WVALEPbKrpUWgJ2QVsJuBp1IKHXJfqFiFSlL4w+moYNDhi2txuwZMn9owH/wcHdAyfwPui6M0IBam+PTkBmgV5N7snpAVWcW4dBlmX6Alo3HvAAAOUNqcoJ/m2YfL5npwKpOhW2EYKhw5h0spmQwf9Jz8UU3A4m/EI9AgIGX5806E9NSvXlffPFZtRzr1l+dN4HYimO3kvmqPWNv6n9Sago19e+nr0uH6ILMoyvgBSaMYE1+anY9S6QJLMU8kgKA7JMMyNgM0U2Zd719aF7wIhDdmKFDgmeIL7Io8/Q3FGz+f8Rt1Dpc9sO0lomzgXSf+9nVHzRcGH21eFlQCxD2yq6VFoCdkFbCbgadSCh1yX6hYhUpS+MPpqGDQ4YtrcbsGTJ/aMB/8HB3QMn8D7oujNCAWpvj05AZoFeTe7J6QFVnFuHQZZl+gJaNx7wAADlDanKCf5tmHy+Z6cCqToVthGCocOYdLKZkMH/Sc/FFNwOJvxCPQICBl+fNOhPTUr15X3zxWbUc69ZfnTeB2Ipjt5L5qj1jb+p/UmoKNfXvp69Lh+iCzKMr4AUmjGBNfmp2PUukCSzFPJICgOyTDMjYDNFNmXe9fWhe8CIQ3ZihQ4JniC+yKPP0NxRs/n/EbdQ6XPbDtJaJs4F0n/vZ1R80XBh9tXhZUAsQ9squlRaAnZBWwm4GnUgodcl+oWIVKUvjD6ahg0OGLa3G7Bkyf2jAf/Bwd0DJ/A+6LozQgFqb49OQGaBXk3uyekBVZxbh0GWZfoCWjce8AAA5Q2pygn+bZh8vmenAqk6FbYRgqHDmHSymZDB/0nPxRTcDib8Qj0CAgZfnzToT01K9eV988Vm1HOvWX503gdiKY7eS+ao9Y2/qf1JqCjX176evS4fogsyjK+AFJoxgTX5qdj1LpAksxTySAoDskwzI2AzRTZl3vX1oXvAiEN2YoUOCZ4gvsijz9DcUbP5/xG3UOlz2w7SWibOBdJ/72dUfNFwYfbV4WVALEPbKrpUWgJ2QVsJuBp1IKHXJfqFiFSlL4w+moYNDhi2txuwZMn9owH/wcHdAyfwPui6M0IBam+PTkBmgV5N7snpAVWcW4dBlmX6Alo3HvAAAOUNqcoJ/m2YfL5npwKpOhW2EYKhw5h0spmQwf9Jz8UU3A4m/EI9AgIGX5806E9NSvXlffPFZtRzr1l+dN4HYimO3kvmqPWNv6n9Sago19e+nr0uH6ILMoyvgBSaMYE1+anY9S6QJLMU8kgKA7JMMyNgM0U2Zd719aF7wIhDdmKFDgmeIL7Io8/Q3FGz+f8Rt1Dpc9sO0lomzgXSf+9nVHzRcGH21eFlQCxD2yq6VFoCdkFbCbgadSCh1yX6hYhUpS+MPpqGDQ4YtrcbsGTJ/aMB/8HB3QMn8D7oujNCAWpvj05AZoFeTe7J6QFVnFuHQZZl+gJaNx7wAADlDanKCf5tmHy+Z6cCqToVthGCocOYdLKZkMH/Sc/FFNwOJvxCPQICBl+fNOhPTUr15X3zxWbUc69ZfnTeB2Ipjt5L5qj1jb+p/UmoKNfXvp69Lh+iCzKMr4AUmjGBNfmp2PUukCSzFPJICgOyTDMjYDNFNmXe9fWhe8CIQ3ZihQ4JniC+yKPP0NxRs/n/EbdQ6XPbDtJaJs4F0n/vZ1R80XBh9tXhZUAsQ9squlRaAnZBWwm4GnUgodcl+oWIVKUvjD6ahg0OGLa3G7Bkyf2jAf/Bwd0DJ/A+6LozQgFqb49OQGaBXk3uyekBVZxbh0GWZfoCWjce8AAA5Q2pygn+bZh8vmenAqk6FbYRgqHDmHSymZDB/0nPxRTcDib8Qj0CAgZfnzToT01K9eV988Vm1HOvWX503gdiKY7eS+ao9Y2/qf1JqCjX176evS4fogsyjK+AFJoxgTX5qdj1LpAksxTySAYDskwzI2AzRTZl3vX1oXvAiEN2YoUOCZ4gvsijz9DcUbP5/xG3UOlz2w7SWibOBdJ/72dUfNFwYfbV4WVALEPbKrpUWgJ2QVsJuBp1IKHXJfqFiFSlL4w+moYNDhi2txuwZMn9owH/wcHdAyfwPui6M0IBam+PTkBmgV5N7snpAVWcW4dBlmX6Alo3HvAAA\" type=\"audio/wav\" />\n",
       "                    Your browser does not support the audio element.\n",
       "                </audio>\n",
       "              "
      ],
      "text/plain": [
       "<IPython.lib.display.Audio object>"
      ]
     },
     "execution_count": 16,
     "metadata": {},
     "output_type": "execute_result"
    }
   ],
   "source": [
    "ipd.Audio(s, rate=sr)"
   ]
  },
  {
   "cell_type": "markdown",
   "metadata": {},
   "source": [
    "440이 라니까 220 110 ---도 라임 옥타브를 뛸려면 주파수를 배수로."
   ]
  },
  {
   "cell_type": "code",
   "execution_count": 24,
   "metadata": {},
   "outputs": [
    {
     "data": {
      "text/plain": [
       "array([ 0.85099448+5.25174630e-01j,  0.44838322+8.93841424e-01j,\n",
       "       -0.0878512 +9.96133609e-01j, ...,  0.44838322-8.93841424e-01j,\n",
       "        0.85099448-5.25174630e-01j,  1.        +6.27613383e-14j])"
      ]
     },
     "execution_count": 24,
     "metadata": {},
     "output_type": "execute_result"
    }
   ],
   "source": [
    "c =amp*np.exp(theta*1j)\n",
    "c"
   ]
  },
  {
   "cell_type": "markdown",
   "metadata": {},
   "source": [
    "complex phasor 값 같은 경우는 plotting이 안되는데 하려면 실수부 허수부를 나누어서 3차원으로 plotting을 해야 됨."
   ]
  },
  {
   "cell_type": "code",
   "execution_count": 28,
   "metadata": {},
   "outputs": [
    {
     "data": {
      "text/plain": [
       "Text(0.5, 0, 'imag')"
      ]
     },
     "execution_count": 28,
     "metadata": {},
     "output_type": "execute_result"
    },
    {
     "data": {
      "image/png": "[encoded data removed]",
      "text/plain": [
       "<Figure size 432x288 with 1 Axes>"
      ]
     },
     "metadata": {
      "needs_background": "light"
     },
     "output_type": "display_data"
    }
   ],
   "source": [
    "fig = plt.figure()\n",
    "ax = fig.add_subplot(111, projection='3d')\n",
    "ax.plot(t[0:100], c.real[0:100], c.imag[0:100], '.')\n",
    "ax.set_xlabel('time (s)')  \n",
    "ax.set_ylabel('real')      #cos 값과 같음\n",
    "ax.set_zlabel('imag')      #sin 값과 같음"
   ]
  },
  {
   "cell_type": "markdown",
   "metadata": {},
   "source": [
    "def 적고 옆에 function name(입력값들)\n",
    "function을 만드는 과정임. 지금은 function 구성하는 법은 모르고 사용하는 법만 알면됨.\n",
    "밑에 function에서는 입력 3개 출력 2개. cf)밑에 함수는 함수를 만들면서 다른 함수를 불러옴.\n",
    "\n",
    "아무튼 쓰는 법: resonance 함수를 쓸 때, 첫번 째 입력으로 sampling rate를 넣고, F에 산맥의 위치(frequency)넣고, BW(산을 만들 때 얼마나 뚱뚱하고 홀쭉한지-width) 산맥의 shape을 결정하는 요소."
   ]
  },
  {
   "cell_type": "code",
   "execution_count": 32,
   "metadata": {},
   "outputs": [],
   "source": [
    "def hz2w(F, sr):\n",
    "    NyFreq = sr/2;\n",
    "    w = F/NyFreq *np.pi;\n",
    "    return w\n",
    "\n",
    "def resonance (srate, F, BW):\n",
    "    a2 = np.exp(-hz2w(BW,srate))\n",
    "    omega = F*2*np.pi/srate\n",
    "    a1 = -2*np.sqrt(a2)*np.cos(omega)\n",
    "    a = np.array([1, a1, a2])\n",
    "    b = np.array([sum(a)])\n",
    "    return a, b"
   ]
  },
  {
   "cell_type": "code",
   "execution_count": 33,
   "metadata": {},
   "outputs": [
    {
     "data": {
      "text/html": [
       "\n",
       "                <audio  controls=\"controls\" >\n",
       "                    <source src=\"data:audio/wav;base64,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\" type=\"audio/wav\" />\n",
       "                    Your browser does not support the audio element.\n",
       "                </audio>\n",
       "              "
      ],
      "text/plain": [
       "<IPython.lib.display.Audio object>"
      ]
     },
     "execution_count": 33,
     "metadata": {},
     "output_type": "execute_result"
    }
   ],
   "source": [
    "RG = 0  # RG is the frequency of the Glottal Resonator\n",
    "BWG = 100  # BWG is the bandwidth of the Glottal Resonator\n",
    "a, b=resonance(sr,RG,BWG)\n",
    "s = lfilter(b, a, s, axis=0)\n",
    "ipd.Audio(s, rate=sr)"
   ]
  },
  {
   "cell_type": "code",
   "execution_count": null,
   "metadata": {},
   "outputs": [],
   "source": [
    "위의 식은 0의 위치에 100만큼 뚱뚱하고 gradually decreasing하는 shape??"
   ]
  },
  {
   "cell_type": "code",
   "execution_count": 34,
   "metadata": {},
   "outputs": [
    {
     "data": {
      "text/html": [
       "\n",
       "                <audio  controls=\"controls\" >\n",
       "                    <source src=\"data:audio/wav;base64,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\" type=\"audio/wav\" />\n",
       "                    Your browser does not support the audio element.\n",
       "                </audio>\n",
       "              "
      ],
      "text/plain": [
       "<IPython.lib.display.Audio object>"
      ]
     },
     "execution_count": 34,
     "metadata": {},
     "output_type": "execute_result"
    }
   ],
   "source": [
    "\n",
    "RG = 500  # RG is the frequency of the Glottal Resonator\n",
    "BWG = 60  # BWG is the bandwidth of the Glottal Resonator\n",
    "a, b=resonance(sr,RG,BWG)\n",
    "s = lfilter(b, a, s, axis=0)\n",
    "ipd.Audio(s, rate=sr)"
   ]
  },
  {
   "cell_type": "code",
   "execution_count": null,
   "metadata": {},
   "outputs": [],
   "source": [
    "500 hz에 산맥 만들고 위보다 홀쭊함"
   ]
  },
  {
   "cell_type": "code",
   "execution_count": 35,
   "metadata": {},
   "outputs": [
    {
     "data": {
      "text/html": [
       "\n",
       "                <audio  controls=\"controls\" >\n",
       "                    <source src=\"data:audio/wav;base64,UklGRjQnAABXQVZFZm10IBAAAAABAAEAECcAACBOAAACABAAZGF0YRAnAAAAAAAAAgAIABYAMwBoALwANQHSAYwCUgMLBJgE1gSoBPIDqALJAGT+j/tw+DD1+PHv7jTs3un354LmdeW85Dvk0ONS45nifeHc36LdxtpQ11rTDM+ZyjjGH8J8vnC7C7lNtyS2crUPtc60grQCtCmz3LELsLGt16qPp/yjR6CgnDmZQJbakx6SEpGqkMqQSJHzkZmSC5Mjk8mS8pGgkOCOzIyDiiiI4IXRgxyC3YAngAGAaYBKgYmC/YN6hdOG4YeGiLOIZ4iwh6iGcYUwhAqDHYKEgVCBiYEvgjuDnoREhhKI64mvi0CNhI5pj+aPApDLj12P2Y5jjhyOH459jj6PXZDOkX2TVJU9lx+Z6JqFnOmdC5/ln3egyqDroO+g7qACoUehz6GnotKjSaX6ptCosaqFrDauta/8sAey27J+s/qzWrSqtPa0TLW7tVC2FbcTuEm5s7pDvOe9ir8WwXjCpMOUxEzF08U5xozG28Y0x5/HI8jDyIHJXcpXy2zMmc3WzhrQWNGD0ozTatQX1ZXV69Um1lfWjtbY1kDXytd02DrZFNr62uXbz9y13ZPeZd8o4NfgbOHl4UHiguKv4tLi+uIy44Tj9+OL5Drl++XD5ofnPejg6G/p6elU6rHqBOtO64/rxuv16x/sSex67LnsDO147fvtj+4s78fvVvDO8C7xdPGl8cnx5vEE8ijyUvKB8rXy6vIh81rzmfPg8zP0kvT69Gb1zfUn9m72n/a59sL2wfbA9sf23Pb/9jH3a/eq9+f3IfhW+Ij4uvjw+Cn5Zfmf+dP5+/kU+h36GfoP+gb6BvoU+jT6ZPqf+t36GPtK+3H7jfui+7T7x/ve+/n7Ffwu/EH8SvxK/ET8Pfw8/Eb8XvyF/Lb86/wd/UX9YP1s/Wz9Zv1h/WD9aP13/Yv9oP2x/bv9vv28/bv9vv3K/eL9BP4r/lH+cP6D/oj+f/5v/l3+UP5N/lX+Z/5//pf+q/62/rr+t/6z/rP+uv7L/uP+/v4W/yf/K/8k/xP///7t/uP+5f70/gv/J/9A/1L/Wf9X/07/Q/88/z7/SP9Z/23/fv+I/4f/fP9r/1n/S/9H/0//Yv98/5b/q/+2/7b/q/+b/4v/gf+A/4j/mP+q/7r/wv/A/7X/pf+W/4v/i/+W/6n/wf/Y/+b/6v/i/9L/vv+s/6L/o/+u/8D/1P/j/+r/5//c/8z/vP+0/7X/wP/S/+f/+f8BAAAA9P/h/83/vf+3/7v/yv/e//L/AAAFAAAA8v/g/9H/yP/K/9b/6P/7/wgADgAJAPz/6P/V/8n/xv/P/+D/9f8HABMAFAAKAPr/5//Y/9H/1f/h//T/BQASABUADgD//+z/2//R/9L/3v/w/wQAFAAcABkADQD7/+f/2f/V/9v/6v/9/w4AGQAaABAAAADu/97/1//b/+j/+/8NABsAIAAZAAoA9//l/9n/2P/h//L/BQAWAB4AHQARAAAA7f/f/9r/4P/v/wEAEwAfACAAFwAGAPP/4v/a/9v/6P/6/w0AHAAiAB0ADwD8/+r/3v/c/+T/9f8HABgAIQAfABQAAgDv/+D/2//g/+7/AAATACAAIwAbAAoA+P/m/93/3f/o//r/DQAcACIAHgAQAP7/7P/f/9z/5P/0/wcAGAAiACIAFwAFAPL/4//c/+D/7f8AABIAHwAjABwADAD6/+j/3v/e/+j/+f8MABwAIwAgABMAAADu/+D/3P/j//L/BQAXACIAIgAZAAcA9f/l/93/4P/s////EQAfACMAHQAOAPv/6f/e/93/5v/4/woAGwAjACEAFQACAPD/4f/c/+L/8f8DABUAIQAjABoACQD2/+b/3f/f/+v//f8PAB4AJAAeABAA/v/r/9//3f/l//b/CQAaACMAIQAWAAQA8f/i/9z/4f/v/wIAFAAhACMAGwALAPj/5//d/97/6f/7/w4AHQAkAB8AEgD//+3/4P/d/+T/9P8HABgAIgAiABcABgDz/+P/3P/g/+7/AAATACAAIwAcAA0A+v/o/97/3v/o//n/DAAcACMAIAATAAAA7v/h/9z/4//z/wUAFwAiACMAGQAHAPX/5f/d/+D/7P///xEAHwAkAB0ADgD8/+r/3v/d/+f/+P8KABsAIwAhABUAAgDw/+H/3P/i//H/AwAWACEAIwAaAAkA9v/m/93/3//r//3/DwAeACQAHgAQAP7/6//f/93/5f/2/wkAGgAjACEAFgAEAPH/4v/c/+H/7/8CABQAIQAjABsACwD4/+f/3f/e/+n/+/8OAB0AJAAfABIA///t/+D/3f/k//T/BwAYACIAIgAXAAYA8//j/93/4P/u/wAAEwAgACMAHAANAPr/6P/e/97/6P/5/wwAHAAjACAAEwAAAO7/4f/c/+P/8/8FABcAIgAjABkABwD1/+X/3f/g/+z///8RAB8AJAAdAA4A/P/q/97/3f/n//j/CgAbACMAIQAVAAIA8P/h/9z/4v/x/wMAFgAhACMAGgAJAPb/5v/d/9//6//9/w8AHgAkAB4AEAD+/+v/3//d/+X/9v8JABoAIwAhABYABADx/+L/3P/h/+//AgAUACEAIwAbAAsA+P/n/93/3v/p//v/DgAdACQAHwASAP//7f/g/93/5P/0/wcAGAAiACIAFwAGAPP/4//d/+D/7v8AABMAIAAjABwADQD6/+j/3v/e/+j/+f8MABwAIwAgABMAAADu/+H/3P/j//P/BQAXACIAIwAZAAcA9f/l/93/4P/s////EQAfACQAHQAOAPz/6v/e/93/5//4/woAGwAjACEAFQACAPD/4f/c/+L/8f8DABYAIQAjABoACQD2/+b/3f/f/+v//f8PAB4AJAAeABAA/v/r/9//3f/l//b/CQAaACMAIQAWAAQA8f/i/9z/4f/v/wIAFAAhACMAGwALAPj/5//d/97/6f/7/w4AHQAkAB8AEgD//+3/4P/d/+T/9P8HABgAIgAiABcABgDz/+P/3f/g/+7/AAATACAAIwAcAA0A+v/o/97/3v/o//n/DAAcACMAIAATAAAA7v/h/9z/4//z/wUAFwAiACMAGQAHAPX/5f/d/+D/7P///xEAHwAkAB0ADgD8/+r/3v/d/+f/+P8KABsAIwAhABUAAgDw/+H/3P/i//H/AwAWACEAIwAaAAkA9v/m/93/3//r//3/DwAeACQAHgAQAP7/6//f/93/5f/2/wkAGgAjACEAFgAEAPH/4v/c/+H/7/8CABQAIQAjABsACwD4/+f/3f/e/+n/+/8OAB0AJAAfABIA///t/+D/3f/k//T/BwAYACIAIgAXAAYA8//j/93/4P/u/wAAEwAgACMAHAANAPr/6P/e/97/6P/5/wwAHAAjACAAEwAAAO7/4f/c/+P/8/8FABcAIgAjABkABwD1/+X/3f/g/+z///8RAB8AJAAdAA4A/P/q/97/3f/n//j/CgAbACMAIQAVAAIA8P/h/9z/4v/x/wMAFgAhACMAGgAJAPb/5v/d/9//6//9/w8AHgAkAB4AEAD+/+v/3//d/+X/9v8JABoAIwAhABYABADx/+L/3P/h/+//AgAUACEAIwAbAAsA+P/n/93/3v/p//v/DgAdACQAHwASAP//7f/g/93/5P/0/wcAGAAiACIAFwAGAPP/4//d/+D/7v8AABMAIAAjABwADQD6/+j/3v/e/+j/+f8MABwAIwAgABMAAADu/+H/3P/j//P/BQAXACIAIwAZAAcA9f/l/93/4P/s////EQAfACQAHQAOAPz/6v/e/93/5//4/woAGwAjACEAFQACAPD/4f/c/+L/8f8DABYAIQAjABoACQD2/+b/3f/f/+v//f8PAB4AJAAeABAA/v/r/9//3f/l//b/CQAaACMAIQAWAAQA8f/i/9z/4f/v/wIAFAAhACMAGwALAPj/5//d/97/6f/7/w4AHQAkAB8AEgD//+3/4P/d/+T/9P8HABgAIgAiABcABgDz/+P/3f/g/+7/AAATACAAIwAcAA0A+v/o/97/3v/o//n/DAAcACMAIAATAAAA7v/h/9z/4//z/wUAFwAiACMAGQAHAPX/5f/d/+D/7P///xEAHwAkAB0ADgD8/+r/3v/d/+f/+P8KABsAIwAhABUAAgDw/+H/3P/i//H/AwAWACEAIwAaAAkA9v/m/93/3//r//3/DwAeACQAHgAQAP7/6//f/93/5f/2/wkAGgAjACEAFgAEAPH/4v/c/+H/7/8CABQAIQAjABsACwD4/+f/3f/e/+n/+/8OAB0AJAAfABIA///t/+D/3f/k//T/BwAYACIAIgAXAAYA8//j/93/4P/u/wAAEwAgACMAHAANAPr/6P/e/97/6P/5/wwAHAAjACAAEwAAAO7/4f/c/+P/8/8FABcAIgAjABkABwD1/+X/3f/g/+z///8RAB8AJAAdAA4A/P/q/97/3f/n//j/CgAbACMAIQAVAAIA8P/h/9z/4v/x/wMAFgAhACMAGgAJAPb/5v/d/9//6//9/w8AHgAkAB4AEAD+/+v/3//d/+X/9v8JABoAIwAhABYABADx/+L/3P/h/+//AgAUACEAIwAbAAsA+P/n/93/3v/p//v/DgAdACQAHwASAP//7f/g/93/5P/0/wcAGAAiACIAFwAGAPP/4//d/+D/7v8AABMAIAAjABwADQD6/+j/3v/e/+j/+f8MABwAIwAgABMAAADu/+H/3P/j//P/BQAXACIAIwAZAAcA9f/l/93/4P/s////EQAfACQAHQAOAPz/6v/e/93/5//4/woAGwAjACEAFQACAPD/4f/c/+L/8f8DABYAIQAjABoACQD2/+b/3f/f/+v//f8PAB4AJAAeABAA/v/r/9//3f/l//b/CQAaACMAIQAWAAQA8f/i/9z/4f/v/wIAFAAhACMAGwALAPj/5//d/97/6f/7/w4AHQAkAB8AEgD//+3/4P/d/+T/9P8HABgAIgAiABcABgDz/+P/3f/g/+7/AAATACAAIwAcAA0A+v/o/97/3v/o//n/DAAcACMAIAATAAAA7v/h/9z/4//z/wUAFwAiACMAGQAHAPX/5f/d/+D/7P///xEAHwAkAB0ADgD8/+r/3v/d/+f/+P8KABsAIwAhABUAAgDw/+H/3P/i//H/AwAWACEAIwAaAAkA9v/m/93/3//r//3/DwAeACQAHgAQAP7/6//f/93/5f/2/wkAGgAjACEAFgAEAPH/4v/c/+H/7/8CABQAIQAjABsACwD4/+f/3f/e/+n/+/8OAB0AJAAfABIA///t/+D/3f/k//T/BwAYACIAIgAXAAYA8//j/93/4P/u/wAAEwAgACMAHAANAPr/6P/e/97/6P/5/wwAHAAjACAAEwAAAO7/4f/c/+P/8/8FABcAIgAjABkABwD1/+X/3f/g/+z///8RAB8AJAAdAA4A/P/q/97/3f/n//j/CgAbACMAIQAVAAIA8P/h/9z/4v/x/wMAFgAhACMAGgAJAPb/5v/d/9//6//9/w8AHgAkAB4AEAD+/+v/3//d/+X/9v8JABoAIwAhABYABADx/+L/3P/h/+//AgAUACEAIwAbAAsA+P/n/93/3v/p//v/DgAdACQAHwASAP//7f/g/93/5P/0/wcAGAAiACIAFwAGAPP/4//d/+D/7v8AABMAIAAjABwADQD6/+j/3v/e/+j/+f8MABwAIwAgABMAAADu/+H/3P/j//P/BQAXACIAIwAZAAcA9f/l/93/4P/s////EQAfACQAHQAOAPz/6v/e/93/5//4/woAGwAjACEAFQACAPD/4f/c/+L/8f8DABYAIQAjABoACQD2/+b/3f/f/+v//f8PAB4AJAAeABAA/v/r/9//3f/l//b/CQAaACMAIQAWAAQA8f/i/9z/4f/v/wIAFAAhACMAGwALAPj/5//d/97/6f/7/w4AHQAkAB8AEgD//+3/4P/d/+T/9P8HABgAIgAiABcABgDz/+P/3f/g/+7/AAATACAAIwAcAA0A+v/o/97/3v/o//n/DAAcACMAIAATAAAA7v/h/9z/4//z/wUAFwAiACMAGQAHAPX/5f/d/+D/7P///xEAHwAkAB0ADgD8/+r/3v/d/+f/+P8KABsAIwAhABUAAgDw/+H/3P/i//H/AwAWACEAIwAaAAkA9v/m/93/3//r//3/DwAeACQAHgAQAP7/6//f/93/5f/2/wkAGgAjACEAFgAEAPH/4v/c/+H/7/8CABQAIQAjABsACwD4/+f/3f/e/+n/+/8OAB0AJAAfABIA///t/+D/3f/k//T/BwAYACIAIgAXAAYA8//j/93/4P/u/wAAEwAgACMAHAANAPr/6P/e/97/6P/5/wwAHAAjACAAEwAAAO7/4f/c/+P/8/8FABcAIgAjABkABwD1/+X/3f/g/+z///8RAB8AJAAdAA4A/P/q/97/3f/n//j/CgAbACMAIQAVAAIA8P/h/9z/4v/x/wMAFgAhACMAGgAJAPb/5v/d/9//6//9/w8AHgAkAB4AEAD+/+v/3//d/+X/9v8JABoAIwAhABYABADx/+L/3P/h/+//AgAUACEAIwAbAAsA+P/n/93/3v/p//v/DgAdACQAHwASAP//7f/g/93/5P/0/wcAGAAiACIAFwAGAPP/4//d/+D/7v8AABMAIAAjABwADQD6/+j/3v/e/+j/+f8MABwAIwAgABMAAADu/+H/3P/j//P/BQAXACIAIwAZAAcA9f/l/93/4P/s////EQAfACQAHQAOAPz/6v/e/93/5//4/woAGwAjACEAFQACAPD/4f/c/+L/8f8DABYAIQAjABoACQD2/+b/3f/f/+v//f8PAB4AJAAeABAA/v/r/9//3f/l//b/CQAaACMAIQAWAAQA8f/i/9z/4f/v/wIAFAAhACMAGwALAPj/5//d/97/6f/7/w4AHQAkAB8AEgD//+3/4P/d/+T/9P8HABgAIgAiABcABgDz/+P/3f/g/+7/AAATACAAIwAcAA0A+v/o/97/3v/o//n/DAAcACMAIAATAAAA7v/h/9z/4//z/wUAFwAiACMAGQAHAPX/5f/d/+D/7P///xEAHwAkAB0ADgD8/+r/3v/d/+f/+P8KABsAIwAhABUAAgDw/+H/3P/i//H/AwAWACEAIwAaAAkA9v/m/93/3//r//3/DwAeACQAHgAQAP7/6//f/93/5f/2/wkAGgAjACEAFgAEAPH/4v/c/+H/7/8CABQAIQAjABsACwD4/+f/3f/e/+n/+/8OAB0AJAAfABIA///t/+D/3f/k//T/BwAYACIAIgAXAAYA8//j/93/4P/u/wAAEwAgACMAHAANAPr/6P/e/97/6P/5/wwAHAAjACAAEwAAAO7/4f/c/+P/8/8FABcAIgAjABkABwD1/+X/3f/g/+z///8RAB8AJAAdAA4A/P/q/97/3f/n//j/CgAbACMAIQAVAAIA8P/h/9z/4v/x/wMAFgAhACMAGgAJAPb/5v/d/9//6//9/w8AHgAkAB4AEAD+/+v/3//d/+X/9v8JABoAIwAhABYABADx/+L/3P/h/+//AgAUACEAIwAbAAsA+P/n/93/3v/p//v/DgAdACQAHwASAP//7f/g/93/5P/0/wcAGAAiACIAFwAGAPP/4//d/+D/7v8AABMAIAAjABwADQD6/+j/3v/e/+j/+f8MABwAIwAgABMAAADu/+H/3P/j//P/BQAXACIAIwAZAAcA9f/l/93/4P/s////EQAfACQAHQAOAPz/6v/e/93/5//4/woAGwAjACEAFQACAPD/4f/c/+L/8f8DABYAIQAjABoACQD2/+b/3f/f/+v//f8PAB4AJAAeABAA/v/r/9//3f/l//b/CQAaACMAIQAWAAQA8f/i/9z/4f/v/wIAFAAhACMAGwALAPj/5//d/97/6f/7/w4AHQAkAB8AEgD//+3/4P/d/+T/9P8HABgAIgAiABcABgDz/+P/3f/g/+7/AAATACAAIwAcAA0A+v/o/97/3v/o//n/DAAcACMAIAATAAAA7v/h/9z/4//z/wUAFwAiACMAGQAHAPX/5f/d/+D/7P///xEAHwAkAB0ADgD8/+r/3v/d/+f/+P8KABsAIwAhABUAAgDw/+H/3P/i//H/AwAWACEAIwAaAAkA9v/m/93/3//r//3/DwAeACQAHgAQAP7/6//f/93/5f/2/wkAGgAjACEAFgAEAPH/4v/c/+H/7/8CABQAIQAjABsACwD4/+f/3f/e/+n/+/8OAB0AJAAfABIA///t/+D/3f/k//T/BwAYACIAIgAXAAYA8//j/93/4P/u/wAAEwAgACMAHAANAPr/6P/e/97/6P/5/wwAHAAjACAAEwAAAO7/4f/c/+P/8/8FABcAIgAjABkABwD1/+X/3f/g/+z///8RAB8AJAAdAA4A/P/q/97/3f/n//j/CgAbACMAIQAVAAIA8P/h/9z/4v/x/wMAFgAhACMAGgAJAPb/5v/d/9//6//9/w8AHgAkAB4AEAD+/+v/3//d/+X/9v8JABoAIwAhABYABADx/+L/3P/h/+//AgAUACEAIwAbAAsA+P/n/93/3v/p//v/DgAdACQAHwASAP//7f/g/93/5P/0/wcAGAAiACIAFwAGAPP/4//d/+D/7v8AABMAIAAjABwADQD6/+j/3v/e/+j/+f8MABwAIwAgABMAAADu/+H/3P/j//P/BQAXACIAIwAZAAcA9f/l/93/4P/s////EQAfACQAHQAOAPz/6v/e/93/5//4/woAGwAjACEAFQACAPD/4f/c/+L/8f8DABYAIQAjABoACQD2/+b/3f/f/+v//f8PAB4AJAAeABAA/v/r/9//3f/l//b/CQAaACMAIQAWAAQA8f/i/9z/4f/v/wIAFAAhACMAGwALAPj/5//d/97/6f/7/w4AHQAkAB8AEgD//+3/4P/d/+T/9P8HABgAIgAiABcABgDz/+P/3f/g/+7/AAATACAAIwAcAA0A+v/o/97/3v/o//n/DAAcACMAIAATAAAA7v/h/9z/4//z/wUAFwAiACMAGQAHAPX/5f/d/+D/7P///xEAHwAkAB0ADgD8/+r/3v/d/+f/+P8KABsAIwAhABUAAgDw/+H/3P/i//H/AwAWACEAIwAaAAkA9v/m/93/3//r//3/DwAeACQAHgAQAP7/6//f/93/5f/2/wkAGgAjACEAFgAEAPH/4v/c/+H/7/8CABQAIQAjABsACwD4/+f/3f/e/+n/+/8OAB0AJAAfABIA///t/+D/3f/k//T/BwAYACIAIgAXAAYA8//j/93/4P/u/wAAEwAgACMAHAANAPr/6P/e/97/6P/5/wwAHAAjACAAEwAAAO7/4f/c/+P/8/8FABcAIgAjABkABwD1/+X/3f/g/+z///8RAB8AJAAdAA4A/P/q/97/3f/n//j/CgAbACMAIQAVAAIA8P/h/9z/4v/x/wMAFgAhACMAGgAJAPb/5v/d/9//6//9/w8AHgAkAB4AEAD+/+v/3//d/+X/9v8JABoAIwAhABYABADx/+L/3P/h/+//AgAUACEAIwAbAAsA+P/n/93/3v/p//v/DgAdACQAHwASAP//7f/g/93/5P/0/wcAGAAiACIAFwAGAPP/4//d/+D/7v8AABMAIAAjABwADQD6/+j/3v/e/+j/+f8MABwAIwAgABMAAADu/+H/3P/j//P/BQAXACIAIwAZAAcA9f/l/93/4P/s////EQAfACQAHQAOAPz/6v/e/93/5//4/woAGwAjACEAFQACAPD/4f/c/+L/8f8DABYAIQAjABoACQD2/+b/3f/f/+v//f8PAB4AJAAeABAA/v/r/9//3f/l//b/CQAaACMAIQAWAAQA8f/i/9z/4f/v/wIAFAAhACMAGwALAPj/5//d/97/6f/7/w4AHQAkAB8AEgD//+3/4P/d/+T/9P8HABgAIgAiABcABgDz/+P/3f/g/+7/AAATACAAIwAcAA0A+v/o/97/3v/o//n/DAAcACMAIAATAAAA7v/h/9z/4//z/wUAFwAiACMAGQAHAPX/5f/d/+D/7P///xEAHwAkAB0ADgD8/+r/3v/d/+f/+P8KABsAIwAhABUAAgDw/+H/3P/i//H/AwAWACEAIwAaAAkA9v/m/93/3//r//3/DwAeACQAHgAQAP7/6//f/93/5f/2/wkAGgAjACEAFgAEAPH/4v/c/+H/7/8CABQAIQAjABsACwD4/+f/3f/e/+n/+/8OAB0AJAAfABIA///t/+D/3f/k//T/BwAYACIAIgAXAAYA8//j/93/4P/u/wAAEwAgACMAHAANAPr/6P/e/97/6P/5/wwAHAAjACAAEwAAAO7/4f/c/+P/8/8FABcAIgAjABkABwD1/+X/3f/g/+z///8RAB8AJAAdAA4A/P/q/97/3f/n//j/CgAbACMAIQAVAAIA8P/h/9z/4v/x/wMAFgAhACMAGgAJAPb/5v/d/9//6//9/w8AHgAkAB4AEAD+/+v/3//d/+X/9v8JABoAIwAhABYABADx/+L/3P/h/+//AgAUACEAIwAbAAsA+P/n/93/3v/p//v/DgAdACQAHwASAP//7f/g/93/5P/0/wcAGAAiACIAFwAGAPP/4//d/+D/7v8AABMAIAAjABwADQD6/+j/3v/e/+j/+f8MABwAIwAgABMAAADu/+H/3P/j//P/BQAXACIAIwAZAAcA9f/l/93/4P/s////EQAfACQAHQAOAPz/6v/e/93/5//4/woAGwAjACEAFQACAPD/4f/c/+L/8f8DABYAIQAjABoACQD2/+b/3f/f/+v//f8PAB4AJAAeABAA/v/r/9//3f/l//b/CQAaACMAIQAWAAQA8f/i/9z/4f/v/wIAFAAhACMAGwALAPj/5//d/97/6f/7/w4AHQAkAB8AEgD//+3/4P/d/+T/9P8HABgAIgAiABcABgDz/+P/3f/g/+7/AAATACAAIwAcAA0A+v/o/97/3v/o//n/DAAcACMAIAATAAAA7v/h/9z/4//z/wUAFwAiACMAGQAHAPX/5f/d/+D/7P///xEAHwAkAB0ADgD8/+r/3v/d/+f/+P8KABsAIwAhABUAAgDw/+H/3P/i//H/AwAWACEAIwAaAAkA9v/m/93/3//r//3/DwAeACQAHgAQAP7/6//f/93/5f/2/wkAGgAjACEAFgAEAPH/4v/c/+H/7/8CABQAIQAjABsACwD4/+f/3f/e/+n/+/8OAB0AJAAfABIA///t/+D/3f/k//T/BwAYACIAIgAXAAYA8//j/93/4P/u/wAAEwAgACMAHAANAPr/6P/e/97/6P/5/wwAHAAjACAAEwAAAO7/4f/c/+P/8/8FABcAIgAjABkABwD1/+X/3f/g/+z///8RAB8AJAAdAA4A/P/q/97/3f/n//j/CgAbACMAIQAVAAIA8P/h/9z/4v/x/wMAFgAhACMAGgAJAPb/5v/d/9//6//9/w8AHgAkAB4AEAD+/+v/3//d/+X/9v8JABoAIwAhABYABADx/+L/3P/h/+//AgAUACEAIwAbAAsA+P/n/93/3v/p//v/DgAdACQAHwASAP//7f/g/93/5P/0/wcAGAAiACIAFwAGAPP/4//d/+D/7v8AABMAIAAjABwADQD6/+j/3v/e/+j/+f8MABwAIwAgABMAAADu/+H/3P/j//P/BQAXACIAIwAZAAcA9f/l/93/4P/s////EQAfACQAHQAOAPz/6v/e/93/5//4/woAGwAjACEAFQACAPD/4f/c/+L/8f8DABYAIQAjABoACQD2/+b/3f/f/+v//f8PAB4AJAAeABAA/v/r/9//3f/l//b/CQAaACMAIQAWAAQA8f/i/9z/4f/v/wIAFAAhACMAGwALAPj/5//d/97/6f/7/w4AHQAkAB8AEgD//+3/4P/d/+T/9P8HABgAIgAiABcABgDz/+P/3f/g/+7/AAATACAAIwAcAA0A+v/o/97/3v/o//n/DAAcACMAIAATAAAA7v/h/9z/4//z/wUAFwAiACMAGQAHAPX/5f/d/+D/7P///xEAHwAkAB0ADgD8/+r/3v/d/+f/+P8KABsAIwAhABUAAgDw/+H/3P/i//H/AwAWACEAIwAaAAkA9v/m/93/3//r//3/DwAeACQAHgAQAP7/6//f/93/5f/2/wkAGgAjACEAFgAEAPH/4v/c/+H/7/8CABQAIQAjABsACwD4/+f/3f/e/+n/+/8OAB0AJAAfABIA///t/+D/3f/k//T/BwAYACIAIgAXAAYA8//j/93/4P/u/wAAEwAgACMAHAANAPr/6P/e/97/6P/5/wwAHAAjACAAEwAAAO7/4f/c/+P/8/8FABcAIgAjABkABwD1/+X/3f/g/+z///8RAB8AJAAdAA4A/P/q/97/3f/n//j/CgAbACMAIQAVAAIA8P/h/9z/4v/x/wMAFgAhACMAGgAJAPb/5v/d/9//6//9/w8AHgAkAB4AEAD+/+v/3//d/+X/9v8JABoAIwAhABYABADx/+L/3P/h/+//AgAUACEAIwAbAAsA+P/n/93/3v/p//v/DgAdACQAHwASAP//7f/g/93/5P/0/wcAGAAiACIAFwAGAPP/4//d/+D/7v8AABMAIAAjABwADQD6/+j/3v/e/+j/+f8MABwAIwAgABMAAADu/+H/3P/j//P/BQAXACIAIwAZAAcA9f/l/93/4P/s////EQAfACQAHQAOAPz/6v/e/93/5//4/woAGwAjACEAFQACAPD/4f/c/+L/8f8DABYAIQAjABoACQD2/+b/3f/f/+v//f8PAB4AJAAeABAA/v/r/9//3f/l//b/CQAaACMAIQAWAAQA8f/i/9z/4f/v/wIAFAAhACMAGwALAPj/5//d/97/6f/7/w4AHQAkAB8AEgD//+3/4P/d/+T/9P8HABgAIgAiABcABgDz/+P/3f/g/+7/AAATACAAIwAcAA0A+v/o/97/3v/o//n/DAAcACMAIAATAAAA7v/h/9z/4//z/wUAFwAiACMAGQAHAPX/5f/d/+D/7P///xEAHwAkAB0ADgD8/+r/3v/d/+f/+P8KABsAIwAhABUAAgDw/+H/3P/i//H/AwAWACEAIwAaAAkA9v/m/93/3//r//3/DwAeACQAHgAQAP7/6//f/93/5f/2/wkAGgAjACEAFgAEAPH/4v/c/+H/7/8CABQAIQAjABsACwD4/+f/3f/e/+n/+/8OAB0AJAAfABIA///t/+D/3f/k//T/BwAYACIAIgAXAAYA8//j/93/\" type=\"audio/wav\" />\n",
       "                    Your browser does not support the audio element.\n",
       "                </audio>\n",
       "              "
      ],
      "text/plain": [
       "<IPython.lib.display.Audio object>"
      ]
     },
     "execution_count": 35,
     "metadata": {},
     "output_type": "execute_result"
    }
   ],
   "source": [
    "RG = 1500  # RG is the frequency of the Glottal Resonator\n",
    "BWG = 200  # BWG is the bandwidth of the Glottal Resonator\n",
    "a, b=resonance(sr,RG,BWG)\n",
    "s = lfilter(b, a, s, axis=0)\n",
    "ipd.Audio(s, rate=sr)"
   ]
  },
  {
   "cell_type": "code",
   "execution_count": null,
   "metadata": {},
   "outputs": [],
   "source": [
    "두 번쨰 산맥은 1500 hz. 더 뚱뚱"
   ]
  },
  {
   "cell_type": "code",
   "execution_count": 36,
   "metadata": {},
   "outputs": [
    {
     "data": {
      "text/html": [
       "\n",
       "                <audio  controls=\"controls\" >\n",
       "                    <source src=\"data:audio/wav;base64,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\" type=\"audio/wav\" />\n",
       "                    Your browser does not support the audio element.\n",
       "                </audio>\n",
       "              "
      ],
      "text/plain": [
       "<IPython.lib.display.Audio object>"
      ]
     },
     "execution_count": 36,
     "metadata": {},
     "output_type": "execute_result"
    }
   ],
   "source": [
    "RG = 2500  # RG is the frequency of the Glottal Resonator\n",
    "BWG = 200  # BWG is the bandwidth of the Glottal Resonator\n",
    "a, b=resonance(sr,RG,BWG)\n",
    "s = lfilter(b, a, s, axis=0)\n",
    "ipd.Audio(s, rate=sr)"
   ]
  },
  {
   "cell_type": "code",
   "execution_count": 37,
   "metadata": {},
   "outputs": [
    {
     "data": {
      "text/html": [
       "\n",
       "                <audio  controls=\"controls\" >\n",
       "                    <source src=\"data:audio/wav;base64,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\" type=\"audio/wav\" />\n",
       "                    Your browser does not support the audio element.\n",
       "                </audio>\n",
       "              "
      ],
      "text/plain": [
       "<IPython.lib.display.Audio object>"
      ]
     },
     "execution_count": 37,
     "metadata": {},
     "output_type": "execute_result"
    }
   ],
   "source": [
    "RG = 3500  # RG is the frequency of the Glottal Resonator\n",
    "BWG = 200  # BWG is the bandwidth of the Glottal Resonator\n",
    "a, b=resonance(sr,RG,BWG)\n",
    "s = lfilter(b, a, s, axis=0)\n",
    "ipd.Audio(s, rate=sr)\n"
   ]
  },
  {
   "cell_type": "code",
   "execution_count": null,
   "metadata": {},
   "outputs": [],
   "source": [
    "입술이 없으면 위의 상태에서 끝임. 밑에는 입술이 있어서 공명을 준 상태."
   ]
  },
  {
   "cell_type": "code",
   "execution_count": 38,
   "metadata": {},
   "outputs": [
    {
     "data": {
      "text/html": [
       "\n",
       "                <audio  controls=\"controls\" >\n",
       "                    <source src=\"data:audio/wav;base64,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\" type=\"audio/wav\" />\n",
       "                    Your browser does not support the audio element.\n",
       "                </audio>\n",
       "              "
      ],
      "text/plain": [
       "<IPython.lib.display.Audio object>"
      ]
     },
     "execution_count": 38,
     "metadata": {},
     "output_type": "execute_result"
    }
   ],
   "source": [
    "\n",
    "s = lfilter(np.array([1, -1]), np.array([1]), s)\n",
    "ipd.Audio(s, rate=sr)"
   ]
  },
  {
   "cell_type": "code",
   "execution_count": null,
   "metadata": {},
   "outputs": [],
   "source": []
  },
  {
   "cell_type": "code",
   "execution_count": null,
   "metadata": {},
   "outputs": [],
   "source": []
  }
 ],
 "metadata": {
  "kernelspec": {
   "display_name": "Python 3",
   "language": "python",
   "name": "python3"
  },
  "language_info": {
   "codemirror_mode": {
    "name": "ipython",
    "version": 3
   },
   "file_extension": ".py",
   "mimetype": "text/x-python",
   "name": "python",
   "nbconvert_exporter": "python",
   "pygments_lexer": "ipython3",
   "version": "3.7.3"
  }
 },
 "nbformat": 4,
 "nbformat_minor": 2
}
